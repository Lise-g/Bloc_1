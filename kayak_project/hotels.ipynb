{
 "cells": [
  {
   "cell_type": "code",
   "execution_count": 1,
   "metadata": {},
   "outputs": [],
   "source": [
    "import os\n",
    "import json\n",
    "import pandas as pd\n",
    "import plotly.express as px \n",
    "import plotly.graph_objects as go"
   ]
  },
  {
   "cell_type": "code",
   "execution_count": 2,
   "metadata": {},
   "outputs": [
    {
     "data": {
      "text/plain": [
       "'/home/lise/LISE/DATA FULLSTACK/PROJETS/Bloc_1/kayak_project'"
      ]
     },
     "execution_count": 2,
     "metadata": {},
     "output_type": "execute_result"
    }
   ],
   "source": [
    "os.getcwd()"
   ]
  },
  {
   "attachments": {},
   "cell_type": "markdown",
   "metadata": {},
   "source": [
    "# 1) Load data from web scraping"
   ]
  },
  {
   "cell_type": "code",
   "execution_count": 3,
   "metadata": {},
   "outputs": [],
   "source": [
    "file = open(\"projets_scrapy/booking/hotels_complete5.json\")\n",
    "file = json.load(file)"
   ]
  },
  {
   "cell_type": "code",
   "execution_count": 4,
   "metadata": {},
   "outputs": [],
   "source": [
    "df = pd.DataFrame(file)"
   ]
  },
  {
   "cell_type": "code",
   "execution_count": 5,
   "metadata": {},
   "outputs": [
    {
     "data": {
      "text/plain": [
       "(6286, 7)"
      ]
     },
     "execution_count": 5,
     "metadata": {},
     "output_type": "execute_result"
    }
   ],
   "source": [
    "df.shape"
   ]
  },
  {
   "cell_type": "code",
   "execution_count": 6,
   "metadata": {},
   "outputs": [
    {
     "data": {
      "text/html": [
       "<div>\n",
       "<style scoped>\n",
       "    .dataframe tbody tr th:only-of-type {\n",
       "        vertical-align: middle;\n",
       "    }\n",
       "\n",
       "    .dataframe tbody tr th {\n",
       "        vertical-align: top;\n",
       "    }\n",
       "\n",
       "    .dataframe thead th {\n",
       "        text-align: right;\n",
       "    }\n",
       "</style>\n",
       "<table border=\"1\" class=\"dataframe\">\n",
       "  <thead>\n",
       "    <tr style=\"text-align: right;\">\n",
       "      <th></th>\n",
       "      <th>id_city</th>\n",
       "      <th>city</th>\n",
       "      <th>name</th>\n",
       "      <th>url</th>\n",
       "      <th>score</th>\n",
       "      <th>description</th>\n",
       "      <th>coordinates</th>\n",
       "    </tr>\n",
       "  </thead>\n",
       "  <tbody>\n",
       "    <tr>\n",
       "      <th>0</th>\n",
       "      <td>0</td>\n",
       "      <td>Le Mont Saint Michel</td>\n",
       "      <td>Le Marquis De La Guintre</td>\n",
       "      <td>https://www.booking.com/hotel/fr/le-marquis-de...</td>\n",
       "      <td>8.8</td>\n",
       "      <td>Located in Courtils in the Basse-Normandie reg...</td>\n",
       "      <td>48.62486471,-1.44534186</td>\n",
       "    </tr>\n",
       "    <tr>\n",
       "      <th>1</th>\n",
       "      <td>0</td>\n",
       "      <td>Le Mont Saint Michel</td>\n",
       "      <td>L'ancien Presbytère d'Ardevon</td>\n",
       "      <td>https://www.booking.com/hotel/fr/l-39-ancien-p...</td>\n",
       "      <td>8.6</td>\n",
       "      <td>Located in Pontorson, L'ancien Presbytère d'Ar...</td>\n",
       "      <td>48.60332434,-1.47639652</td>\n",
       "    </tr>\n",
       "    <tr>\n",
       "      <th>2</th>\n",
       "      <td>0</td>\n",
       "      <td>Le Mont Saint Michel</td>\n",
       "      <td>Gite Le Mascaret</td>\n",
       "      <td>https://www.booking.com/hotel/fr/gite-le-masca...</td>\n",
       "      <td>7.4</td>\n",
       "      <td>Gite Le Mascaret is located in Roz-sur-Couesno...</td>\n",
       "      <td>48.60646125,-1.58795357</td>\n",
       "    </tr>\n",
       "    <tr>\n",
       "      <th>3</th>\n",
       "      <td>0</td>\n",
       "      <td>Le Mont Saint Michel</td>\n",
       "      <td>Le Domaine de Belleville</td>\n",
       "      <td>https://www.booking.com/hotel/fr/le-domaine-de...</td>\n",
       "      <td>9.3</td>\n",
       "      <td>Located in Dragey-Ronthon, Le Domaine de Belle...</td>\n",
       "      <td>48.71457262,-1.48525447</td>\n",
       "    </tr>\n",
       "    <tr>\n",
       "      <th>4</th>\n",
       "      <td>0</td>\n",
       "      <td>Le Mont Saint Michel</td>\n",
       "      <td>Villa à 5minutes du Mont St-Michel</td>\n",
       "      <td>https://www.booking.com/hotel/fr/villa-a-5minu...</td>\n",
       "      <td>9.3</td>\n",
       "      <td>Featuring a terrace, Villa à 5minutes du Mont ...</td>\n",
       "      <td>48.57869900,-1.45030586</td>\n",
       "    </tr>\n",
       "  </tbody>\n",
       "</table>\n",
       "</div>"
      ],
      "text/plain": [
       "   id_city                  city                                name  \\\n",
       "0        0  Le Mont Saint Michel            Le Marquis De La Guintre   \n",
       "1        0  Le Mont Saint Michel       L'ancien Presbytère d'Ardevon   \n",
       "2        0  Le Mont Saint Michel                    Gite Le Mascaret   \n",
       "3        0  Le Mont Saint Michel            Le Domaine de Belleville   \n",
       "4        0  Le Mont Saint Michel  Villa à 5minutes du Mont St-Michel   \n",
       "\n",
       "                                                 url score  \\\n",
       "0  https://www.booking.com/hotel/fr/le-marquis-de...   8.8   \n",
       "1  https://www.booking.com/hotel/fr/l-39-ancien-p...   8.6   \n",
       "2  https://www.booking.com/hotel/fr/gite-le-masca...   7.4   \n",
       "3  https://www.booking.com/hotel/fr/le-domaine-de...   9.3   \n",
       "4  https://www.booking.com/hotel/fr/villa-a-5minu...   9.3   \n",
       "\n",
       "                                         description              coordinates  \n",
       "0  Located in Courtils in the Basse-Normandie reg...  48.62486471,-1.44534186  \n",
       "1  Located in Pontorson, L'ancien Presbytère d'Ar...  48.60332434,-1.47639652  \n",
       "2  Gite Le Mascaret is located in Roz-sur-Couesno...  48.60646125,-1.58795357  \n",
       "3  Located in Dragey-Ronthon, Le Domaine de Belle...  48.71457262,-1.48525447  \n",
       "4  Featuring a terrace, Villa à 5minutes du Mont ...  48.57869900,-1.45030586  "
      ]
     },
     "execution_count": 6,
     "metadata": {},
     "output_type": "execute_result"
    }
   ],
   "source": [
    "df.head()"
   ]
  },
  {
   "cell_type": "code",
   "execution_count": 7,
   "metadata": {},
   "outputs": [],
   "source": [
    "# create one column for latitude and one column for longitude\n",
    "\n",
    "df['lat'] = df['coordinates'].apply(lambda x: x.split(',')[0])\n",
    "df['lon'] = df['coordinates'].apply(lambda x: x.split(',')[1])"
   ]
  },
  {
   "cell_type": "code",
   "execution_count": 8,
   "metadata": {},
   "outputs": [],
   "source": [
    "# convert into float to be able to plot\n",
    "df['lat'] = df['lat'].astype('float')\n",
    "df['lon'] = df['lon'].astype('float')\n",
    "df['score'] = df['score'].astype('float')"
   ]
  },
  {
   "cell_type": "code",
   "execution_count": 9,
   "metadata": {},
   "outputs": [
    {
     "data": {
      "text/html": [
       "<div>\n",
       "<style scoped>\n",
       "    .dataframe tbody tr th:only-of-type {\n",
       "        vertical-align: middle;\n",
       "    }\n",
       "\n",
       "    .dataframe tbody tr th {\n",
       "        vertical-align: top;\n",
       "    }\n",
       "\n",
       "    .dataframe thead th {\n",
       "        text-align: right;\n",
       "    }\n",
       "</style>\n",
       "<table border=\"1\" class=\"dataframe\">\n",
       "  <thead>\n",
       "    <tr style=\"text-align: right;\">\n",
       "      <th></th>\n",
       "      <th>id_city</th>\n",
       "      <th>city</th>\n",
       "      <th>name</th>\n",
       "      <th>url</th>\n",
       "      <th>score</th>\n",
       "      <th>description</th>\n",
       "      <th>coordinates</th>\n",
       "      <th>lat</th>\n",
       "      <th>lon</th>\n",
       "    </tr>\n",
       "  </thead>\n",
       "  <tbody>\n",
       "    <tr>\n",
       "      <th>0</th>\n",
       "      <td>0</td>\n",
       "      <td>Le Mont Saint Michel</td>\n",
       "      <td>Le Marquis De La Guintre</td>\n",
       "      <td>https://www.booking.com/hotel/fr/le-marquis-de...</td>\n",
       "      <td>8.8</td>\n",
       "      <td>Located in Courtils in the Basse-Normandie reg...</td>\n",
       "      <td>48.62486471,-1.44534186</td>\n",
       "      <td>48.624865</td>\n",
       "      <td>-1.445342</td>\n",
       "    </tr>\n",
       "    <tr>\n",
       "      <th>1</th>\n",
       "      <td>0</td>\n",
       "      <td>Le Mont Saint Michel</td>\n",
       "      <td>L'ancien Presbytère d'Ardevon</td>\n",
       "      <td>https://www.booking.com/hotel/fr/l-39-ancien-p...</td>\n",
       "      <td>8.6</td>\n",
       "      <td>Located in Pontorson, L'ancien Presbytère d'Ar...</td>\n",
       "      <td>48.60332434,-1.47639652</td>\n",
       "      <td>48.603324</td>\n",
       "      <td>-1.476397</td>\n",
       "    </tr>\n",
       "    <tr>\n",
       "      <th>2</th>\n",
       "      <td>0</td>\n",
       "      <td>Le Mont Saint Michel</td>\n",
       "      <td>Gite Le Mascaret</td>\n",
       "      <td>https://www.booking.com/hotel/fr/gite-le-masca...</td>\n",
       "      <td>7.4</td>\n",
       "      <td>Gite Le Mascaret is located in Roz-sur-Couesno...</td>\n",
       "      <td>48.60646125,-1.58795357</td>\n",
       "      <td>48.606461</td>\n",
       "      <td>-1.587954</td>\n",
       "    </tr>\n",
       "    <tr>\n",
       "      <th>3</th>\n",
       "      <td>0</td>\n",
       "      <td>Le Mont Saint Michel</td>\n",
       "      <td>Le Domaine de Belleville</td>\n",
       "      <td>https://www.booking.com/hotel/fr/le-domaine-de...</td>\n",
       "      <td>9.3</td>\n",
       "      <td>Located in Dragey-Ronthon, Le Domaine de Belle...</td>\n",
       "      <td>48.71457262,-1.48525447</td>\n",
       "      <td>48.714573</td>\n",
       "      <td>-1.485254</td>\n",
       "    </tr>\n",
       "    <tr>\n",
       "      <th>4</th>\n",
       "      <td>0</td>\n",
       "      <td>Le Mont Saint Michel</td>\n",
       "      <td>Villa à 5minutes du Mont St-Michel</td>\n",
       "      <td>https://www.booking.com/hotel/fr/villa-a-5minu...</td>\n",
       "      <td>9.3</td>\n",
       "      <td>Featuring a terrace, Villa à 5minutes du Mont ...</td>\n",
       "      <td>48.57869900,-1.45030586</td>\n",
       "      <td>48.578699</td>\n",
       "      <td>-1.450306</td>\n",
       "    </tr>\n",
       "  </tbody>\n",
       "</table>\n",
       "</div>"
      ],
      "text/plain": [
       "   id_city                  city                                name  \\\n",
       "0        0  Le Mont Saint Michel            Le Marquis De La Guintre   \n",
       "1        0  Le Mont Saint Michel       L'ancien Presbytère d'Ardevon   \n",
       "2        0  Le Mont Saint Michel                    Gite Le Mascaret   \n",
       "3        0  Le Mont Saint Michel            Le Domaine de Belleville   \n",
       "4        0  Le Mont Saint Michel  Villa à 5minutes du Mont St-Michel   \n",
       "\n",
       "                                                 url  score  \\\n",
       "0  https://www.booking.com/hotel/fr/le-marquis-de...    8.8   \n",
       "1  https://www.booking.com/hotel/fr/l-39-ancien-p...    8.6   \n",
       "2  https://www.booking.com/hotel/fr/gite-le-masca...    7.4   \n",
       "3  https://www.booking.com/hotel/fr/le-domaine-de...    9.3   \n",
       "4  https://www.booking.com/hotel/fr/villa-a-5minu...    9.3   \n",
       "\n",
       "                                         description              coordinates  \\\n",
       "0  Located in Courtils in the Basse-Normandie reg...  48.62486471,-1.44534186   \n",
       "1  Located in Pontorson, L'ancien Presbytère d'Ar...  48.60332434,-1.47639652   \n",
       "2  Gite Le Mascaret is located in Roz-sur-Couesno...  48.60646125,-1.58795357   \n",
       "3  Located in Dragey-Ronthon, Le Domaine de Belle...  48.71457262,-1.48525447   \n",
       "4  Featuring a terrace, Villa à 5minutes du Mont ...  48.57869900,-1.45030586   \n",
       "\n",
       "         lat       lon  \n",
       "0  48.624865 -1.445342  \n",
       "1  48.603324 -1.476397  \n",
       "2  48.606461 -1.587954  \n",
       "3  48.714573 -1.485254  \n",
       "4  48.578699 -1.450306  "
      ]
     },
     "execution_count": 9,
     "metadata": {},
     "output_type": "execute_result"
    }
   ],
   "source": [
    "df.head()"
   ]
  },
  {
   "attachments": {},
   "cell_type": "markdown",
   "metadata": {},
   "source": [
    "# 2) Load data of cities and weather from APIs"
   ]
  },
  {
   "cell_type": "code",
   "execution_count": 10,
   "metadata": {},
   "outputs": [],
   "source": [
    "dw = pd.read_csv('cities_weather_score.csv')"
   ]
  },
  {
   "cell_type": "code",
   "execution_count": 11,
   "metadata": {},
   "outputs": [
    {
     "data": {
      "text/html": [
       "<div>\n",
       "<style scoped>\n",
       "    .dataframe tbody tr th:only-of-type {\n",
       "        vertical-align: middle;\n",
       "    }\n",
       "\n",
       "    .dataframe tbody tr th {\n",
       "        vertical-align: top;\n",
       "    }\n",
       "\n",
       "    .dataframe thead th {\n",
       "        text-align: right;\n",
       "    }\n",
       "</style>\n",
       "<table border=\"1\" class=\"dataframe\">\n",
       "  <thead>\n",
       "    <tr style=\"text-align: right;\">\n",
       "      <th></th>\n",
       "      <th>Unnamed: 0.1</th>\n",
       "      <th>Unnamed: 0</th>\n",
       "      <th>id_city</th>\n",
       "      <th>City</th>\n",
       "      <th>lat</th>\n",
       "      <th>lon</th>\n",
       "      <th>temp_min1</th>\n",
       "      <th>temp_max1</th>\n",
       "      <th>precipitation1</th>\n",
       "      <th>wind1</th>\n",
       "      <th>...</th>\n",
       "      <th>precipitation6</th>\n",
       "      <th>wind6</th>\n",
       "      <th>wind_dir6</th>\n",
       "      <th>temp_min7</th>\n",
       "      <th>temp_max7</th>\n",
       "      <th>precipitation7</th>\n",
       "      <th>wind7</th>\n",
       "      <th>wind_dir7</th>\n",
       "      <th>score</th>\n",
       "      <th>score_exp</th>\n",
       "    </tr>\n",
       "  </thead>\n",
       "  <tbody>\n",
       "    <tr>\n",
       "      <th>0</th>\n",
       "      <td>0</td>\n",
       "      <td>0</td>\n",
       "      <td>0</td>\n",
       "      <td>Mont Saint Michel</td>\n",
       "      <td>48.635954</td>\n",
       "      <td>-1.511460</td>\n",
       "      <td>6.8</td>\n",
       "      <td>12.0</td>\n",
       "      <td>5.4</td>\n",
       "      <td>31.2</td>\n",
       "      <td>...</td>\n",
       "      <td>1.3</td>\n",
       "      <td>25.5</td>\n",
       "      <td>South</td>\n",
       "      <td>5.7</td>\n",
       "      <td>11.6</td>\n",
       "      <td>6.6</td>\n",
       "      <td>41.6</td>\n",
       "      <td>West</td>\n",
       "      <td>7.921209</td>\n",
       "      <td>2755.099447</td>\n",
       "    </tr>\n",
       "    <tr>\n",
       "      <th>1</th>\n",
       "      <td>1</td>\n",
       "      <td>1</td>\n",
       "      <td>1</td>\n",
       "      <td>St Malo</td>\n",
       "      <td>48.649518</td>\n",
       "      <td>-2.026041</td>\n",
       "      <td>6.2</td>\n",
       "      <td>12.1</td>\n",
       "      <td>2.6</td>\n",
       "      <td>41.5</td>\n",
       "      <td>...</td>\n",
       "      <td>0.5</td>\n",
       "      <td>25.5</td>\n",
       "      <td>South</td>\n",
       "      <td>5.8</td>\n",
       "      <td>11.8</td>\n",
       "      <td>5.7</td>\n",
       "      <td>38.5</td>\n",
       "      <td>West</td>\n",
       "      <td>7.826252</td>\n",
       "      <td>2505.521652</td>\n",
       "    </tr>\n",
       "    <tr>\n",
       "      <th>2</th>\n",
       "      <td>2</td>\n",
       "      <td>2</td>\n",
       "      <td>2</td>\n",
       "      <td>Bayeux</td>\n",
       "      <td>49.276462</td>\n",
       "      <td>-0.702474</td>\n",
       "      <td>6.8</td>\n",
       "      <td>11.6</td>\n",
       "      <td>1.8</td>\n",
       "      <td>31.1</td>\n",
       "      <td>...</td>\n",
       "      <td>0.6</td>\n",
       "      <td>27.7</td>\n",
       "      <td>West</td>\n",
       "      <td>6.1</td>\n",
       "      <td>10.9</td>\n",
       "      <td>6.0</td>\n",
       "      <td>34.9</td>\n",
       "      <td>West</td>\n",
       "      <td>7.974684</td>\n",
       "      <td>2906.438555</td>\n",
       "    </tr>\n",
       "    <tr>\n",
       "      <th>3</th>\n",
       "      <td>3</td>\n",
       "      <td>3</td>\n",
       "      <td>3</td>\n",
       "      <td>Le Havre</td>\n",
       "      <td>49.493898</td>\n",
       "      <td>0.107973</td>\n",
       "      <td>7.6</td>\n",
       "      <td>10.9</td>\n",
       "      <td>3.0</td>\n",
       "      <td>30.9</td>\n",
       "      <td>...</td>\n",
       "      <td>0.9</td>\n",
       "      <td>26.0</td>\n",
       "      <td>West</td>\n",
       "      <td>6.4</td>\n",
       "      <td>9.9</td>\n",
       "      <td>11.4</td>\n",
       "      <td>28.3</td>\n",
       "      <td>West</td>\n",
       "      <td>7.763514</td>\n",
       "      <td>2353.159990</td>\n",
       "    </tr>\n",
       "    <tr>\n",
       "      <th>4</th>\n",
       "      <td>4</td>\n",
       "      <td>4</td>\n",
       "      <td>4</td>\n",
       "      <td>Rouen</td>\n",
       "      <td>49.440459</td>\n",
       "      <td>1.093966</td>\n",
       "      <td>6.3</td>\n",
       "      <td>10.6</td>\n",
       "      <td>2.9</td>\n",
       "      <td>19.8</td>\n",
       "      <td>...</td>\n",
       "      <td>2.2</td>\n",
       "      <td>19.1</td>\n",
       "      <td>South</td>\n",
       "      <td>5.4</td>\n",
       "      <td>10.7</td>\n",
       "      <td>9.6</td>\n",
       "      <td>25.7</td>\n",
       "      <td>West</td>\n",
       "      <td>7.922267</td>\n",
       "      <td>2758.017092</td>\n",
       "    </tr>\n",
       "  </tbody>\n",
       "</table>\n",
       "<p>5 rows × 43 columns</p>\n",
       "</div>"
      ],
      "text/plain": [
       "   Unnamed: 0.1  Unnamed: 0  id_city               City        lat       lon  \\\n",
       "0             0           0        0  Mont Saint Michel  48.635954 -1.511460   \n",
       "1             1           1        1            St Malo  48.649518 -2.026041   \n",
       "2             2           2        2             Bayeux  49.276462 -0.702474   \n",
       "3             3           3        3           Le Havre  49.493898  0.107973   \n",
       "4             4           4        4              Rouen  49.440459  1.093966   \n",
       "\n",
       "   temp_min1  temp_max1  precipitation1  wind1  ... precipitation6  wind6  \\\n",
       "0        6.8       12.0             5.4   31.2  ...            1.3   25.5   \n",
       "1        6.2       12.1             2.6   41.5  ...            0.5   25.5   \n",
       "2        6.8       11.6             1.8   31.1  ...            0.6   27.7   \n",
       "3        7.6       10.9             3.0   30.9  ...            0.9   26.0   \n",
       "4        6.3       10.6             2.9   19.8  ...            2.2   19.1   \n",
       "\n",
       "   wind_dir6  temp_min7  temp_max7 precipitation7  wind7  wind_dir7     score  \\\n",
       "0      South        5.7       11.6            6.6   41.6       West  7.921209   \n",
       "1      South        5.8       11.8            5.7   38.5       West  7.826252   \n",
       "2       West        6.1       10.9            6.0   34.9       West  7.974684   \n",
       "3       West        6.4        9.9           11.4   28.3       West  7.763514   \n",
       "4      South        5.4       10.7            9.6   25.7       West  7.922267   \n",
       "\n",
       "     score_exp  \n",
       "0  2755.099447  \n",
       "1  2505.521652  \n",
       "2  2906.438555  \n",
       "3  2353.159990  \n",
       "4  2758.017092  \n",
       "\n",
       "[5 rows x 43 columns]"
      ]
     },
     "execution_count": 11,
     "metadata": {},
     "output_type": "execute_result"
    }
   ],
   "source": [
    "dw.head()"
   ]
  },
  {
   "cell_type": "code",
   "execution_count": 12,
   "metadata": {},
   "outputs": [],
   "source": [
    "# merge the 2 databases in order to have one csv file containing all the information\n",
    "\n",
    "new_df = df.merge(dw, how='left', on='id_city')"
   ]
  },
  {
   "cell_type": "code",
   "execution_count": 13,
   "metadata": {},
   "outputs": [
    {
     "data": {
      "text/html": [
       "<div>\n",
       "<style scoped>\n",
       "    .dataframe tbody tr th:only-of-type {\n",
       "        vertical-align: middle;\n",
       "    }\n",
       "\n",
       "    .dataframe tbody tr th {\n",
       "        vertical-align: top;\n",
       "    }\n",
       "\n",
       "    .dataframe thead th {\n",
       "        text-align: right;\n",
       "    }\n",
       "</style>\n",
       "<table border=\"1\" class=\"dataframe\">\n",
       "  <thead>\n",
       "    <tr style=\"text-align: right;\">\n",
       "      <th></th>\n",
       "      <th>id_city</th>\n",
       "      <th>city</th>\n",
       "      <th>name</th>\n",
       "      <th>url</th>\n",
       "      <th>score_x</th>\n",
       "      <th>description</th>\n",
       "      <th>coordinates</th>\n",
       "      <th>lat_x</th>\n",
       "      <th>lon_x</th>\n",
       "      <th>Unnamed: 0.1</th>\n",
       "      <th>...</th>\n",
       "      <th>precipitation6</th>\n",
       "      <th>wind6</th>\n",
       "      <th>wind_dir6</th>\n",
       "      <th>temp_min7</th>\n",
       "      <th>temp_max7</th>\n",
       "      <th>precipitation7</th>\n",
       "      <th>wind7</th>\n",
       "      <th>wind_dir7</th>\n",
       "      <th>score_y</th>\n",
       "      <th>score_exp</th>\n",
       "    </tr>\n",
       "  </thead>\n",
       "  <tbody>\n",
       "    <tr>\n",
       "      <th>0</th>\n",
       "      <td>0</td>\n",
       "      <td>Le Mont Saint Michel</td>\n",
       "      <td>Le Marquis De La Guintre</td>\n",
       "      <td>https://www.booking.com/hotel/fr/le-marquis-de...</td>\n",
       "      <td>8.8</td>\n",
       "      <td>Located in Courtils in the Basse-Normandie reg...</td>\n",
       "      <td>48.62486471,-1.44534186</td>\n",
       "      <td>48.624865</td>\n",
       "      <td>-1.445342</td>\n",
       "      <td>0</td>\n",
       "      <td>...</td>\n",
       "      <td>1.3</td>\n",
       "      <td>25.5</td>\n",
       "      <td>South</td>\n",
       "      <td>5.7</td>\n",
       "      <td>11.6</td>\n",
       "      <td>6.6</td>\n",
       "      <td>41.6</td>\n",
       "      <td>West</td>\n",
       "      <td>7.921209</td>\n",
       "      <td>2755.099447</td>\n",
       "    </tr>\n",
       "    <tr>\n",
       "      <th>1</th>\n",
       "      <td>0</td>\n",
       "      <td>Le Mont Saint Michel</td>\n",
       "      <td>L'ancien Presbytère d'Ardevon</td>\n",
       "      <td>https://www.booking.com/hotel/fr/l-39-ancien-p...</td>\n",
       "      <td>8.6</td>\n",
       "      <td>Located in Pontorson, L'ancien Presbytère d'Ar...</td>\n",
       "      <td>48.60332434,-1.47639652</td>\n",
       "      <td>48.603324</td>\n",
       "      <td>-1.476397</td>\n",
       "      <td>0</td>\n",
       "      <td>...</td>\n",
       "      <td>1.3</td>\n",
       "      <td>25.5</td>\n",
       "      <td>South</td>\n",
       "      <td>5.7</td>\n",
       "      <td>11.6</td>\n",
       "      <td>6.6</td>\n",
       "      <td>41.6</td>\n",
       "      <td>West</td>\n",
       "      <td>7.921209</td>\n",
       "      <td>2755.099447</td>\n",
       "    </tr>\n",
       "    <tr>\n",
       "      <th>2</th>\n",
       "      <td>0</td>\n",
       "      <td>Le Mont Saint Michel</td>\n",
       "      <td>Gite Le Mascaret</td>\n",
       "      <td>https://www.booking.com/hotel/fr/gite-le-masca...</td>\n",
       "      <td>7.4</td>\n",
       "      <td>Gite Le Mascaret is located in Roz-sur-Couesno...</td>\n",
       "      <td>48.60646125,-1.58795357</td>\n",
       "      <td>48.606461</td>\n",
       "      <td>-1.587954</td>\n",
       "      <td>0</td>\n",
       "      <td>...</td>\n",
       "      <td>1.3</td>\n",
       "      <td>25.5</td>\n",
       "      <td>South</td>\n",
       "      <td>5.7</td>\n",
       "      <td>11.6</td>\n",
       "      <td>6.6</td>\n",
       "      <td>41.6</td>\n",
       "      <td>West</td>\n",
       "      <td>7.921209</td>\n",
       "      <td>2755.099447</td>\n",
       "    </tr>\n",
       "    <tr>\n",
       "      <th>3</th>\n",
       "      <td>0</td>\n",
       "      <td>Le Mont Saint Michel</td>\n",
       "      <td>Le Domaine de Belleville</td>\n",
       "      <td>https://www.booking.com/hotel/fr/le-domaine-de...</td>\n",
       "      <td>9.3</td>\n",
       "      <td>Located in Dragey-Ronthon, Le Domaine de Belle...</td>\n",
       "      <td>48.71457262,-1.48525447</td>\n",
       "      <td>48.714573</td>\n",
       "      <td>-1.485254</td>\n",
       "      <td>0</td>\n",
       "      <td>...</td>\n",
       "      <td>1.3</td>\n",
       "      <td>25.5</td>\n",
       "      <td>South</td>\n",
       "      <td>5.7</td>\n",
       "      <td>11.6</td>\n",
       "      <td>6.6</td>\n",
       "      <td>41.6</td>\n",
       "      <td>West</td>\n",
       "      <td>7.921209</td>\n",
       "      <td>2755.099447</td>\n",
       "    </tr>\n",
       "    <tr>\n",
       "      <th>4</th>\n",
       "      <td>0</td>\n",
       "      <td>Le Mont Saint Michel</td>\n",
       "      <td>Villa à 5minutes du Mont St-Michel</td>\n",
       "      <td>https://www.booking.com/hotel/fr/villa-a-5minu...</td>\n",
       "      <td>9.3</td>\n",
       "      <td>Featuring a terrace, Villa à 5minutes du Mont ...</td>\n",
       "      <td>48.57869900,-1.45030586</td>\n",
       "      <td>48.578699</td>\n",
       "      <td>-1.450306</td>\n",
       "      <td>0</td>\n",
       "      <td>...</td>\n",
       "      <td>1.3</td>\n",
       "      <td>25.5</td>\n",
       "      <td>South</td>\n",
       "      <td>5.7</td>\n",
       "      <td>11.6</td>\n",
       "      <td>6.6</td>\n",
       "      <td>41.6</td>\n",
       "      <td>West</td>\n",
       "      <td>7.921209</td>\n",
       "      <td>2755.099447</td>\n",
       "    </tr>\n",
       "  </tbody>\n",
       "</table>\n",
       "<p>5 rows × 51 columns</p>\n",
       "</div>"
      ],
      "text/plain": [
       "   id_city                  city                                name  \\\n",
       "0        0  Le Mont Saint Michel            Le Marquis De La Guintre   \n",
       "1        0  Le Mont Saint Michel       L'ancien Presbytère d'Ardevon   \n",
       "2        0  Le Mont Saint Michel                    Gite Le Mascaret   \n",
       "3        0  Le Mont Saint Michel            Le Domaine de Belleville   \n",
       "4        0  Le Mont Saint Michel  Villa à 5minutes du Mont St-Michel   \n",
       "\n",
       "                                                 url  score_x  \\\n",
       "0  https://www.booking.com/hotel/fr/le-marquis-de...      8.8   \n",
       "1  https://www.booking.com/hotel/fr/l-39-ancien-p...      8.6   \n",
       "2  https://www.booking.com/hotel/fr/gite-le-masca...      7.4   \n",
       "3  https://www.booking.com/hotel/fr/le-domaine-de...      9.3   \n",
       "4  https://www.booking.com/hotel/fr/villa-a-5minu...      9.3   \n",
       "\n",
       "                                         description              coordinates  \\\n",
       "0  Located in Courtils in the Basse-Normandie reg...  48.62486471,-1.44534186   \n",
       "1  Located in Pontorson, L'ancien Presbytère d'Ar...  48.60332434,-1.47639652   \n",
       "2  Gite Le Mascaret is located in Roz-sur-Couesno...  48.60646125,-1.58795357   \n",
       "3  Located in Dragey-Ronthon, Le Domaine de Belle...  48.71457262,-1.48525447   \n",
       "4  Featuring a terrace, Villa à 5minutes du Mont ...  48.57869900,-1.45030586   \n",
       "\n",
       "       lat_x     lon_x  Unnamed: 0.1  ...  precipitation6 wind6  wind_dir6  \\\n",
       "0  48.624865 -1.445342             0  ...             1.3  25.5      South   \n",
       "1  48.603324 -1.476397             0  ...             1.3  25.5      South   \n",
       "2  48.606461 -1.587954             0  ...             1.3  25.5      South   \n",
       "3  48.714573 -1.485254             0  ...             1.3  25.5      South   \n",
       "4  48.578699 -1.450306             0  ...             1.3  25.5      South   \n",
       "\n",
       "   temp_min7  temp_max7  precipitation7  wind7  wind_dir7   score_y  \\\n",
       "0        5.7       11.6             6.6   41.6       West  7.921209   \n",
       "1        5.7       11.6             6.6   41.6       West  7.921209   \n",
       "2        5.7       11.6             6.6   41.6       West  7.921209   \n",
       "3        5.7       11.6             6.6   41.6       West  7.921209   \n",
       "4        5.7       11.6             6.6   41.6       West  7.921209   \n",
       "\n",
       "     score_exp  \n",
       "0  2755.099447  \n",
       "1  2755.099447  \n",
       "2  2755.099447  \n",
       "3  2755.099447  \n",
       "4  2755.099447  \n",
       "\n",
       "[5 rows x 51 columns]"
      ]
     },
     "execution_count": 13,
     "metadata": {},
     "output_type": "execute_result"
    }
   ],
   "source": [
    "new_df.head()"
   ]
  },
  {
   "cell_type": "code",
   "execution_count": 56,
   "metadata": {},
   "outputs": [],
   "source": [
    "# save into a csv file that is available on AWS\n",
    "#new_df.to_csv('database_kayak_project.csv')"
   ]
  },
  {
   "attachments": {},
   "cell_type": "markdown",
   "metadata": {},
   "source": [
    "# 3) Plot the best hotels in a specified area"
   ]
  },
  {
   "cell_type": "code",
   "execution_count": 14,
   "metadata": {},
   "outputs": [],
   "source": [
    "# keep the best 20 hotels by score for each city\n",
    "df_final = new_df.sort_values(['city', 'score_x'], ascending=False).groupby('city').head(20)"
   ]
  },
  {
   "cell_type": "code",
   "execution_count": 15,
   "metadata": {},
   "outputs": [
    {
     "data": {
      "text/html": [
       "<div>\n",
       "<style scoped>\n",
       "    .dataframe tbody tr th:only-of-type {\n",
       "        vertical-align: middle;\n",
       "    }\n",
       "\n",
       "    .dataframe tbody tr th {\n",
       "        vertical-align: top;\n",
       "    }\n",
       "\n",
       "    .dataframe thead th {\n",
       "        text-align: right;\n",
       "    }\n",
       "</style>\n",
       "<table border=\"1\" class=\"dataframe\">\n",
       "  <thead>\n",
       "    <tr style=\"text-align: right;\">\n",
       "      <th></th>\n",
       "      <th>id_city</th>\n",
       "      <th>city</th>\n",
       "      <th>name</th>\n",
       "      <th>url</th>\n",
       "      <th>score_x</th>\n",
       "      <th>description</th>\n",
       "      <th>coordinates</th>\n",
       "      <th>lat_x</th>\n",
       "      <th>lon_x</th>\n",
       "      <th>Unnamed: 0.1</th>\n",
       "      <th>...</th>\n",
       "      <th>precipitation6</th>\n",
       "      <th>wind6</th>\n",
       "      <th>wind_dir6</th>\n",
       "      <th>temp_min7</th>\n",
       "      <th>temp_max7</th>\n",
       "      <th>precipitation7</th>\n",
       "      <th>wind7</th>\n",
       "      <th>wind_dir7</th>\n",
       "      <th>score_y</th>\n",
       "      <th>score_exp</th>\n",
       "    </tr>\n",
       "  </thead>\n",
       "  <tbody>\n",
       "    <tr>\n",
       "      <th>2488</th>\n",
       "      <td>23</td>\n",
       "      <td>Uzès</td>\n",
       "      <td>Uzès Duché luxueux appartement, terrasse privée</td>\n",
       "      <td>https://www.booking.com/hotel/fr/uzes-duche-lu...</td>\n",
       "      <td>10.0</td>\n",
       "      <td>Uzès Duché luxueux appartement, terrasse privé...</td>\n",
       "      <td>44.01251380,4.41999930</td>\n",
       "      <td>44.012514</td>\n",
       "      <td>4.419999</td>\n",
       "      <td>23</td>\n",
       "      <td>...</td>\n",
       "      <td>1.3</td>\n",
       "      <td>11.9</td>\n",
       "      <td>East</td>\n",
       "      <td>8.3</td>\n",
       "      <td>12.3</td>\n",
       "      <td>9.5</td>\n",
       "      <td>15.3</td>\n",
       "      <td>South</td>\n",
       "      <td>8.43753</td>\n",
       "      <td>4617.138166</td>\n",
       "    </tr>\n",
       "    <tr>\n",
       "      <th>2522</th>\n",
       "      <td>23</td>\n",
       "      <td>Uzès</td>\n",
       "      <td>La Maisonnette romantique</td>\n",
       "      <td>https://www.booking.com/hotel/fr/la-maisonnett...</td>\n",
       "      <td>10.0</td>\n",
       "      <td>Located in Uzès, 19 miles from Parc Expo Nîmes...</td>\n",
       "      <td>44.01075172,4.41664519</td>\n",
       "      <td>44.010752</td>\n",
       "      <td>4.416645</td>\n",
       "      <td>23</td>\n",
       "      <td>...</td>\n",
       "      <td>1.3</td>\n",
       "      <td>11.9</td>\n",
       "      <td>East</td>\n",
       "      <td>8.3</td>\n",
       "      <td>12.3</td>\n",
       "      <td>9.5</td>\n",
       "      <td>15.3</td>\n",
       "      <td>South</td>\n",
       "      <td>8.43753</td>\n",
       "      <td>4617.138166</td>\n",
       "    </tr>\n",
       "    <tr>\n",
       "      <th>2528</th>\n",
       "      <td>23</td>\n",
       "      <td>Uzès</td>\n",
       "      <td>Chez Vous</td>\n",
       "      <td>https://www.booking.com/hotel/fr/chez-vous-uze...</td>\n",
       "      <td>9.9</td>\n",
       "      <td>Offering pool views, Chez Vous is a property l...</td>\n",
       "      <td>44.01361200,4.41798800</td>\n",
       "      <td>44.013612</td>\n",
       "      <td>4.417988</td>\n",
       "      <td>23</td>\n",
       "      <td>...</td>\n",
       "      <td>1.3</td>\n",
       "      <td>11.9</td>\n",
       "      <td>East</td>\n",
       "      <td>8.3</td>\n",
       "      <td>12.3</td>\n",
       "      <td>9.5</td>\n",
       "      <td>15.3</td>\n",
       "      <td>South</td>\n",
       "      <td>8.43753</td>\n",
       "      <td>4617.138166</td>\n",
       "    </tr>\n",
       "    <tr>\n",
       "      <th>2484</th>\n",
       "      <td>23</td>\n",
       "      <td>Uzès</td>\n",
       "      <td>Maison De La Bourgade</td>\n",
       "      <td>https://www.booking.com/hotel/fr/maison-de-la-...</td>\n",
       "      <td>9.8</td>\n",
       "      <td>Featuring a seasonal outdoor swimming pool, a ...</td>\n",
       "      <td>44.00966800,4.41803200</td>\n",
       "      <td>44.009668</td>\n",
       "      <td>4.418032</td>\n",
       "      <td>23</td>\n",
       "      <td>...</td>\n",
       "      <td>1.3</td>\n",
       "      <td>11.9</td>\n",
       "      <td>East</td>\n",
       "      <td>8.3</td>\n",
       "      <td>12.3</td>\n",
       "      <td>9.5</td>\n",
       "      <td>15.3</td>\n",
       "      <td>South</td>\n",
       "      <td>8.43753</td>\n",
       "      <td>4617.138166</td>\n",
       "    </tr>\n",
       "    <tr>\n",
       "      <th>2533</th>\n",
       "      <td>23</td>\n",
       "      <td>Uzès</td>\n",
       "      <td>Stunning apartment in Uzes with Indoor swimmin...</td>\n",
       "      <td>https://www.booking.com/hotel/fr/stunning-apar...</td>\n",
       "      <td>9.8</td>\n",
       "      <td>Stunning apartment in Uzes with Indoor swimmin...</td>\n",
       "      <td>44.01280000,4.41430000</td>\n",
       "      <td>44.012800</td>\n",
       "      <td>4.414300</td>\n",
       "      <td>23</td>\n",
       "      <td>...</td>\n",
       "      <td>1.3</td>\n",
       "      <td>11.9</td>\n",
       "      <td>East</td>\n",
       "      <td>8.3</td>\n",
       "      <td>12.3</td>\n",
       "      <td>9.5</td>\n",
       "      <td>15.3</td>\n",
       "      <td>South</td>\n",
       "      <td>8.43753</td>\n",
       "      <td>4617.138166</td>\n",
       "    </tr>\n",
       "    <tr>\n",
       "      <th>...</th>\n",
       "      <td>...</td>\n",
       "      <td>...</td>\n",
       "      <td>...</td>\n",
       "      <td>...</td>\n",
       "      <td>...</td>\n",
       "      <td>...</td>\n",
       "      <td>...</td>\n",
       "      <td>...</td>\n",
       "      <td>...</td>\n",
       "      <td>...</td>\n",
       "      <td>...</td>\n",
       "      <td>...</td>\n",
       "      <td>...</td>\n",
       "      <td>...</td>\n",
       "      <td>...</td>\n",
       "      <td>...</td>\n",
       "      <td>...</td>\n",
       "      <td>...</td>\n",
       "      <td>...</td>\n",
       "      <td>...</td>\n",
       "      <td>...</td>\n",
       "    </tr>\n",
       "    <tr>\n",
       "      <th>2179</th>\n",
       "      <td>25</td>\n",
       "      <td>Aigues-Mortes</td>\n",
       "      <td>Superbe appartement de caractère au calme</td>\n",
       "      <td>https://www.booking.com/hotel/fr/superbe-appar...</td>\n",
       "      <td>9.5</td>\n",
       "      <td>Located in Aigues-Mortes, 15 miles from Montpe...</td>\n",
       "      <td>43.56695900,4.19094840</td>\n",
       "      <td>43.566959</td>\n",
       "      <td>4.190948</td>\n",
       "      <td>25</td>\n",
       "      <td>...</td>\n",
       "      <td>0.3</td>\n",
       "      <td>20.4</td>\n",
       "      <td>East</td>\n",
       "      <td>10.1</td>\n",
       "      <td>14.6</td>\n",
       "      <td>4.5</td>\n",
       "      <td>29.5</td>\n",
       "      <td>West</td>\n",
       "      <td>8.54757</td>\n",
       "      <td>5154.214108</td>\n",
       "    </tr>\n",
       "    <tr>\n",
       "      <th>2159</th>\n",
       "      <td>25</td>\n",
       "      <td>Aigues-Mortes</td>\n",
       "      <td>Chambre d'hôte Farniente</td>\n",
       "      <td>https://www.booking.com/hotel/fr/chambre-d-39-...</td>\n",
       "      <td>9.4</td>\n",
       "      <td>Located 15 miles from Montpellier Arena, Chamb...</td>\n",
       "      <td>43.56761513,4.19335402</td>\n",
       "      <td>43.567615</td>\n",
       "      <td>4.193354</td>\n",
       "      <td>25</td>\n",
       "      <td>...</td>\n",
       "      <td>0.3</td>\n",
       "      <td>20.4</td>\n",
       "      <td>East</td>\n",
       "      <td>10.1</td>\n",
       "      <td>14.6</td>\n",
       "      <td>4.5</td>\n",
       "      <td>29.5</td>\n",
       "      <td>West</td>\n",
       "      <td>8.54757</td>\n",
       "      <td>5154.214108</td>\n",
       "    </tr>\n",
       "    <tr>\n",
       "      <th>2166</th>\n",
       "      <td>25</td>\n",
       "      <td>Aigues-Mortes</td>\n",
       "      <td>CABANE DU SAUNIER - CASSIOPEE - ETANG DU ROY</td>\n",
       "      <td>https://www.booking.com/hotel/fr/cabane-du-sau...</td>\n",
       "      <td>9.4</td>\n",
       "      <td>CABANE DU SAUNIER - CASSIOPEE - ETANG DU ROY o...</td>\n",
       "      <td>43.55469130,4.18417350</td>\n",
       "      <td>43.554691</td>\n",
       "      <td>4.184173</td>\n",
       "      <td>25</td>\n",
       "      <td>...</td>\n",
       "      <td>0.3</td>\n",
       "      <td>20.4</td>\n",
       "      <td>East</td>\n",
       "      <td>10.1</td>\n",
       "      <td>14.6</td>\n",
       "      <td>4.5</td>\n",
       "      <td>29.5</td>\n",
       "      <td>West</td>\n",
       "      <td>8.54757</td>\n",
       "      <td>5154.214108</td>\n",
       "    </tr>\n",
       "    <tr>\n",
       "      <th>2181</th>\n",
       "      <td>25</td>\n",
       "      <td>Aigues-Mortes</td>\n",
       "      <td>11 le tadorne</td>\n",
       "      <td>https://www.booking.com/hotel/fr/11-le-tadorne...</td>\n",
       "      <td>9.3</td>\n",
       "      <td>Featuring garden views, 11 le tadorne has acco...</td>\n",
       "      <td>43.57160950,4.18957760</td>\n",
       "      <td>43.571610</td>\n",
       "      <td>4.189578</td>\n",
       "      <td>25</td>\n",
       "      <td>...</td>\n",
       "      <td>0.3</td>\n",
       "      <td>20.4</td>\n",
       "      <td>East</td>\n",
       "      <td>10.1</td>\n",
       "      <td>14.6</td>\n",
       "      <td>4.5</td>\n",
       "      <td>29.5</td>\n",
       "      <td>West</td>\n",
       "      <td>8.54757</td>\n",
       "      <td>5154.214108</td>\n",
       "    </tr>\n",
       "    <tr>\n",
       "      <th>1907</th>\n",
       "      <td>25</td>\n",
       "      <td>Aigues-Mortes</td>\n",
       "      <td>Nice home in Aigues-Mortes with 3 Bedrooms and...</td>\n",
       "      <td>https://www.booking.com/hotel/fr/three-bedroom...</td>\n",
       "      <td>9.2</td>\n",
       "      <td>Nice home in Aigues-Mortes with 3 Bedrooms and...</td>\n",
       "      <td>43.57547900,4.18698600</td>\n",
       "      <td>43.575479</td>\n",
       "      <td>4.186986</td>\n",
       "      <td>25</td>\n",
       "      <td>...</td>\n",
       "      <td>0.3</td>\n",
       "      <td>20.4</td>\n",
       "      <td>East</td>\n",
       "      <td>10.1</td>\n",
       "      <td>14.6</td>\n",
       "      <td>4.5</td>\n",
       "      <td>29.5</td>\n",
       "      <td>West</td>\n",
       "      <td>8.54757</td>\n",
       "      <td>5154.214108</td>\n",
       "    </tr>\n",
       "  </tbody>\n",
       "</table>\n",
       "<p>700 rows × 51 columns</p>\n",
       "</div>"
      ],
      "text/plain": [
       "      id_city           city  \\\n",
       "2488       23           Uzès   \n",
       "2522       23           Uzès   \n",
       "2528       23           Uzès   \n",
       "2484       23           Uzès   \n",
       "2533       23           Uzès   \n",
       "...       ...            ...   \n",
       "2179       25  Aigues-Mortes   \n",
       "2159       25  Aigues-Mortes   \n",
       "2166       25  Aigues-Mortes   \n",
       "2181       25  Aigues-Mortes   \n",
       "1907       25  Aigues-Mortes   \n",
       "\n",
       "                                                   name  \\\n",
       "2488    Uzès Duché luxueux appartement, terrasse privée   \n",
       "2522                          La Maisonnette romantique   \n",
       "2528                                          Chez Vous   \n",
       "2484                              Maison De La Bourgade   \n",
       "2533  Stunning apartment in Uzes with Indoor swimmin...   \n",
       "...                                                 ...   \n",
       "2179          Superbe appartement de caractère au calme   \n",
       "2159                           Chambre d'hôte Farniente   \n",
       "2166       CABANE DU SAUNIER - CASSIOPEE - ETANG DU ROY   \n",
       "2181                                      11 le tadorne   \n",
       "1907  Nice home in Aigues-Mortes with 3 Bedrooms and...   \n",
       "\n",
       "                                                    url  score_x  \\\n",
       "2488  https://www.booking.com/hotel/fr/uzes-duche-lu...     10.0   \n",
       "2522  https://www.booking.com/hotel/fr/la-maisonnett...     10.0   \n",
       "2528  https://www.booking.com/hotel/fr/chez-vous-uze...      9.9   \n",
       "2484  https://www.booking.com/hotel/fr/maison-de-la-...      9.8   \n",
       "2533  https://www.booking.com/hotel/fr/stunning-apar...      9.8   \n",
       "...                                                 ...      ...   \n",
       "2179  https://www.booking.com/hotel/fr/superbe-appar...      9.5   \n",
       "2159  https://www.booking.com/hotel/fr/chambre-d-39-...      9.4   \n",
       "2166  https://www.booking.com/hotel/fr/cabane-du-sau...      9.4   \n",
       "2181  https://www.booking.com/hotel/fr/11-le-tadorne...      9.3   \n",
       "1907  https://www.booking.com/hotel/fr/three-bedroom...      9.2   \n",
       "\n",
       "                                            description  \\\n",
       "2488  Uzès Duché luxueux appartement, terrasse privé...   \n",
       "2522  Located in Uzès, 19 miles from Parc Expo Nîmes...   \n",
       "2528  Offering pool views, Chez Vous is a property l...   \n",
       "2484  Featuring a seasonal outdoor swimming pool, a ...   \n",
       "2533  Stunning apartment in Uzes with Indoor swimmin...   \n",
       "...                                                 ...   \n",
       "2179  Located in Aigues-Mortes, 15 miles from Montpe...   \n",
       "2159  Located 15 miles from Montpellier Arena, Chamb...   \n",
       "2166  CABANE DU SAUNIER - CASSIOPEE - ETANG DU ROY o...   \n",
       "2181  Featuring garden views, 11 le tadorne has acco...   \n",
       "1907  Nice home in Aigues-Mortes with 3 Bedrooms and...   \n",
       "\n",
       "                 coordinates      lat_x     lon_x  Unnamed: 0.1  ...  \\\n",
       "2488  44.01251380,4.41999930  44.012514  4.419999            23  ...   \n",
       "2522  44.01075172,4.41664519  44.010752  4.416645            23  ...   \n",
       "2528  44.01361200,4.41798800  44.013612  4.417988            23  ...   \n",
       "2484  44.00966800,4.41803200  44.009668  4.418032            23  ...   \n",
       "2533  44.01280000,4.41430000  44.012800  4.414300            23  ...   \n",
       "...                      ...        ...       ...           ...  ...   \n",
       "2179  43.56695900,4.19094840  43.566959  4.190948            25  ...   \n",
       "2159  43.56761513,4.19335402  43.567615  4.193354            25  ...   \n",
       "2166  43.55469130,4.18417350  43.554691  4.184173            25  ...   \n",
       "2181  43.57160950,4.18957760  43.571610  4.189578            25  ...   \n",
       "1907  43.57547900,4.18698600  43.575479  4.186986            25  ...   \n",
       "\n",
       "      precipitation6 wind6  wind_dir6  temp_min7  temp_max7  precipitation7  \\\n",
       "2488             1.3  11.9       East        8.3       12.3             9.5   \n",
       "2522             1.3  11.9       East        8.3       12.3             9.5   \n",
       "2528             1.3  11.9       East        8.3       12.3             9.5   \n",
       "2484             1.3  11.9       East        8.3       12.3             9.5   \n",
       "2533             1.3  11.9       East        8.3       12.3             9.5   \n",
       "...              ...   ...        ...        ...        ...             ...   \n",
       "2179             0.3  20.4       East       10.1       14.6             4.5   \n",
       "2159             0.3  20.4       East       10.1       14.6             4.5   \n",
       "2166             0.3  20.4       East       10.1       14.6             4.5   \n",
       "2181             0.3  20.4       East       10.1       14.6             4.5   \n",
       "1907             0.3  20.4       East       10.1       14.6             4.5   \n",
       "\n",
       "      wind7  wind_dir7  score_y    score_exp  \n",
       "2488   15.3      South  8.43753  4617.138166  \n",
       "2522   15.3      South  8.43753  4617.138166  \n",
       "2528   15.3      South  8.43753  4617.138166  \n",
       "2484   15.3      South  8.43753  4617.138166  \n",
       "2533   15.3      South  8.43753  4617.138166  \n",
       "...     ...        ...      ...          ...  \n",
       "2179   29.5       West  8.54757  5154.214108  \n",
       "2159   29.5       West  8.54757  5154.214108  \n",
       "2166   29.5       West  8.54757  5154.214108  \n",
       "2181   29.5       West  8.54757  5154.214108  \n",
       "1907   29.5       West  8.54757  5154.214108  \n",
       "\n",
       "[700 rows x 51 columns]"
      ]
     },
     "execution_count": 15,
     "metadata": {},
     "output_type": "execute_result"
    }
   ],
   "source": [
    "df_final"
   ]
  },
  {
   "cell_type": "code",
   "execution_count": 16,
   "metadata": {},
   "outputs": [],
   "source": [
    "# example of Lyon for the plot\n",
    "mask = df_final['city']=='Lyon'\n",
    "df_plot = df_final[mask]"
   ]
  },
  {
   "cell_type": "code",
   "execution_count": 17,
   "metadata": {},
   "outputs": [
    {
     "data": {
      "text/html": [
       "<div>\n",
       "<style scoped>\n",
       "    .dataframe tbody tr th:only-of-type {\n",
       "        vertical-align: middle;\n",
       "    }\n",
       "\n",
       "    .dataframe tbody tr th {\n",
       "        vertical-align: top;\n",
       "    }\n",
       "\n",
       "    .dataframe thead th {\n",
       "        text-align: right;\n",
       "    }\n",
       "</style>\n",
       "<table border=\"1\" class=\"dataframe\">\n",
       "  <thead>\n",
       "    <tr style=\"text-align: right;\">\n",
       "      <th></th>\n",
       "      <th>id_city</th>\n",
       "      <th>city</th>\n",
       "      <th>name</th>\n",
       "      <th>url</th>\n",
       "      <th>score_x</th>\n",
       "      <th>description</th>\n",
       "      <th>coordinates</th>\n",
       "      <th>lat_x</th>\n",
       "      <th>lon_x</th>\n",
       "      <th>Unnamed: 0.1</th>\n",
       "      <th>...</th>\n",
       "      <th>precipitation6</th>\n",
       "      <th>wind6</th>\n",
       "      <th>wind_dir6</th>\n",
       "      <th>temp_min7</th>\n",
       "      <th>temp_max7</th>\n",
       "      <th>precipitation7</th>\n",
       "      <th>wind7</th>\n",
       "      <th>wind_dir7</th>\n",
       "      <th>score_y</th>\n",
       "      <th>score_exp</th>\n",
       "    </tr>\n",
       "  </thead>\n",
       "  <tbody>\n",
       "    <tr>\n",
       "      <th>3331</th>\n",
       "      <td>16</td>\n",
       "      <td>Lyon</td>\n",
       "      <td>ORPI DERUELLE5, studio Hyper Centre Lyon part-...</td>\n",
       "      <td>https://www.booking.com/hotel/fr/orpi-deruelle...</td>\n",
       "      <td>10.0</td>\n",
       "      <td>ORPI DERUELLE5, studio Hyper Centre Lyon part-...</td>\n",
       "      <td>45.76305000,4.85276400</td>\n",
       "      <td>45.763050</td>\n",
       "      <td>4.852764</td>\n",
       "      <td>16</td>\n",
       "      <td>...</td>\n",
       "      <td>1.2</td>\n",
       "      <td>24.5</td>\n",
       "      <td>South</td>\n",
       "      <td>9.0</td>\n",
       "      <td>11.8</td>\n",
       "      <td>9.9</td>\n",
       "      <td>21.9</td>\n",
       "      <td>South</td>\n",
       "      <td>8.259872</td>\n",
       "      <td>3865.599817</td>\n",
       "    </tr>\n",
       "    <tr>\n",
       "      <th>3364</th>\n",
       "      <td>16</td>\n",
       "      <td>Lyon</td>\n",
       "      <td>Appart' Rousseau</td>\n",
       "      <td>https://www.booking.com/hotel/fr/appart-39-rou...</td>\n",
       "      <td>10.0</td>\n",
       "      <td>Featuring city views, Appart' Rousseau has acc...</td>\n",
       "      <td>45.76954590,4.85828406</td>\n",
       "      <td>45.769546</td>\n",
       "      <td>4.858284</td>\n",
       "      <td>16</td>\n",
       "      <td>...</td>\n",
       "      <td>1.2</td>\n",
       "      <td>24.5</td>\n",
       "      <td>South</td>\n",
       "      <td>9.0</td>\n",
       "      <td>11.8</td>\n",
       "      <td>9.9</td>\n",
       "      <td>21.9</td>\n",
       "      <td>South</td>\n",
       "      <td>8.259872</td>\n",
       "      <td>3865.599817</td>\n",
       "    </tr>\n",
       "    <tr>\n",
       "      <th>3381</th>\n",
       "      <td>16</td>\n",
       "      <td>Lyon</td>\n",
       "      <td>GuestReady - Cosy 2-bed Apt near Part Dieu</td>\n",
       "      <td>https://www.booking.com/hotel/fr/guestready-co...</td>\n",
       "      <td>9.9</td>\n",
       "      <td>Located in Lyon, a 16-minute walk from Lyon Pa...</td>\n",
       "      <td>45.75419450,4.86679140</td>\n",
       "      <td>45.754194</td>\n",
       "      <td>4.866791</td>\n",
       "      <td>16</td>\n",
       "      <td>...</td>\n",
       "      <td>1.2</td>\n",
       "      <td>24.5</td>\n",
       "      <td>South</td>\n",
       "      <td>9.0</td>\n",
       "      <td>11.8</td>\n",
       "      <td>9.9</td>\n",
       "      <td>21.9</td>\n",
       "      <td>South</td>\n",
       "      <td>8.259872</td>\n",
       "      <td>3865.599817</td>\n",
       "    </tr>\n",
       "    <tr>\n",
       "      <th>3300</th>\n",
       "      <td>16</td>\n",
       "      <td>Lyon</td>\n",
       "      <td>Lyon Urban Cocoon Gîte urbain eco-responsable</td>\n",
       "      <td>https://www.booking.com/hotel/fr/lyon-urban-co...</td>\n",
       "      <td>9.6</td>\n",
       "      <td>Comfortable, quality, clean, quiet, air-condit...</td>\n",
       "      <td>45.73532327,4.88348871</td>\n",
       "      <td>45.735323</td>\n",
       "      <td>4.883489</td>\n",
       "      <td>16</td>\n",
       "      <td>...</td>\n",
       "      <td>1.2</td>\n",
       "      <td>24.5</td>\n",
       "      <td>South</td>\n",
       "      <td>9.0</td>\n",
       "      <td>11.8</td>\n",
       "      <td>9.9</td>\n",
       "      <td>21.9</td>\n",
       "      <td>South</td>\n",
       "      <td>8.259872</td>\n",
       "      <td>3865.599817</td>\n",
       "    </tr>\n",
       "    <tr>\n",
       "      <th>3231</th>\n",
       "      <td>16</td>\n",
       "      <td>Lyon</td>\n",
       "      <td>MHL - Maison Hotel Lyon</td>\n",
       "      <td>https://www.booking.com/hotel/fr/mhl-maison-ho...</td>\n",
       "      <td>9.5</td>\n",
       "      <td>Located in the center of Lyon, just 1969 feet ...</td>\n",
       "      <td>45.76775247,4.84403533</td>\n",
       "      <td>45.767752</td>\n",
       "      <td>4.844035</td>\n",
       "      <td>16</td>\n",
       "      <td>...</td>\n",
       "      <td>1.2</td>\n",
       "      <td>24.5</td>\n",
       "      <td>South</td>\n",
       "      <td>9.0</td>\n",
       "      <td>11.8</td>\n",
       "      <td>9.9</td>\n",
       "      <td>21.9</td>\n",
       "      <td>South</td>\n",
       "      <td>8.259872</td>\n",
       "      <td>3865.599817</td>\n",
       "    </tr>\n",
       "    <tr>\n",
       "      <th>3265</th>\n",
       "      <td>16</td>\n",
       "      <td>Lyon</td>\n",
       "      <td>La Suite Terreaux</td>\n",
       "      <td>https://www.booking.com/hotel/fr/la-suite-terr...</td>\n",
       "      <td>9.5</td>\n",
       "      <td>Offering free WiFi and river views, La Suite T...</td>\n",
       "      <td>45.76704456,4.83057831</td>\n",
       "      <td>45.767045</td>\n",
       "      <td>4.830578</td>\n",
       "      <td>16</td>\n",
       "      <td>...</td>\n",
       "      <td>1.2</td>\n",
       "      <td>24.5</td>\n",
       "      <td>South</td>\n",
       "      <td>9.0</td>\n",
       "      <td>11.8</td>\n",
       "      <td>9.9</td>\n",
       "      <td>21.9</td>\n",
       "      <td>South</td>\n",
       "      <td>8.259872</td>\n",
       "      <td>3865.599817</td>\n",
       "    </tr>\n",
       "    <tr>\n",
       "      <th>3266</th>\n",
       "      <td>16</td>\n",
       "      <td>Lyon</td>\n",
       "      <td>Côté Palais</td>\n",
       "      <td>https://www.booking.com/hotel/fr/cote-palais.h...</td>\n",
       "      <td>9.5</td>\n",
       "      <td>Located in Lyon's Old Town, Côté Palais is a s...</td>\n",
       "      <td>45.76236605,4.82711926</td>\n",
       "      <td>45.762366</td>\n",
       "      <td>4.827119</td>\n",
       "      <td>16</td>\n",
       "      <td>...</td>\n",
       "      <td>1.2</td>\n",
       "      <td>24.5</td>\n",
       "      <td>South</td>\n",
       "      <td>9.0</td>\n",
       "      <td>11.8</td>\n",
       "      <td>9.9</td>\n",
       "      <td>21.9</td>\n",
       "      <td>South</td>\n",
       "      <td>8.259872</td>\n",
       "      <td>3865.599817</td>\n",
       "    </tr>\n",
       "    <tr>\n",
       "      <th>3367</th>\n",
       "      <td>16</td>\n",
       "      <td>Lyon</td>\n",
       "      <td>Beautiful apartment in the heart of Vieux Lyon</td>\n",
       "      <td>https://www.booking.com/hotel/fr/beautiful-apa...</td>\n",
       "      <td>9.5</td>\n",
       "      <td>Ideally set in the center of Lyon, Beautiful a...</td>\n",
       "      <td>45.75888150,4.82557600</td>\n",
       "      <td>45.758882</td>\n",
       "      <td>4.825576</td>\n",
       "      <td>16</td>\n",
       "      <td>...</td>\n",
       "      <td>1.2</td>\n",
       "      <td>24.5</td>\n",
       "      <td>South</td>\n",
       "      <td>9.0</td>\n",
       "      <td>11.8</td>\n",
       "      <td>9.9</td>\n",
       "      <td>21.9</td>\n",
       "      <td>South</td>\n",
       "      <td>8.259872</td>\n",
       "      <td>3865.599817</td>\n",
       "    </tr>\n",
       "    <tr>\n",
       "      <th>3387</th>\n",
       "      <td>16</td>\n",
       "      <td>Lyon</td>\n",
       "      <td>Appartement Haussmannien d’Artiste, exception,...</td>\n",
       "      <td>https://www.booking.com/hotel/fr/appartement-h...</td>\n",
       "      <td>9.5</td>\n",
       "      <td>In the middle of Lyon, located within a short ...</td>\n",
       "      <td>45.76831682,4.82642079</td>\n",
       "      <td>45.768317</td>\n",
       "      <td>4.826421</td>\n",
       "      <td>16</td>\n",
       "      <td>...</td>\n",
       "      <td>1.2</td>\n",
       "      <td>24.5</td>\n",
       "      <td>South</td>\n",
       "      <td>9.0</td>\n",
       "      <td>11.8</td>\n",
       "      <td>9.9</td>\n",
       "      <td>21.9</td>\n",
       "      <td>South</td>\n",
       "      <td>8.259872</td>\n",
       "      <td>3865.599817</td>\n",
       "    </tr>\n",
       "    <tr>\n",
       "      <th>3243</th>\n",
       "      <td>16</td>\n",
       "      <td>Lyon</td>\n",
       "      <td>La Suite Lanterne</td>\n",
       "      <td>https://www.booking.com/hotel/fr/la-suite-lant...</td>\n",
       "      <td>9.4</td>\n",
       "      <td>Located in the center of Lyon, just a 2-minute...</td>\n",
       "      <td>45.76669149,4.83175173</td>\n",
       "      <td>45.766691</td>\n",
       "      <td>4.831752</td>\n",
       "      <td>16</td>\n",
       "      <td>...</td>\n",
       "      <td>1.2</td>\n",
       "      <td>24.5</td>\n",
       "      <td>South</td>\n",
       "      <td>9.0</td>\n",
       "      <td>11.8</td>\n",
       "      <td>9.9</td>\n",
       "      <td>21.9</td>\n",
       "      <td>South</td>\n",
       "      <td>8.259872</td>\n",
       "      <td>3865.599817</td>\n",
       "    </tr>\n",
       "    <tr>\n",
       "      <th>3334</th>\n",
       "      <td>16</td>\n",
       "      <td>Lyon</td>\n",
       "      <td>7e Ciel - Rooftop Panoramique</td>\n",
       "      <td>https://www.booking.com/hotel/fr/la-suite-para...</td>\n",
       "      <td>9.4</td>\n",
       "      <td>Featuring city views, 7e Ciel - Rooftop Panora...</td>\n",
       "      <td>45.74892600,4.84713800</td>\n",
       "      <td>45.748926</td>\n",
       "      <td>4.847138</td>\n",
       "      <td>16</td>\n",
       "      <td>...</td>\n",
       "      <td>1.2</td>\n",
       "      <td>24.5</td>\n",
       "      <td>South</td>\n",
       "      <td>9.0</td>\n",
       "      <td>11.8</td>\n",
       "      <td>9.9</td>\n",
       "      <td>21.9</td>\n",
       "      <td>South</td>\n",
       "      <td>8.259872</td>\n",
       "      <td>3865.599817</td>\n",
       "    </tr>\n",
       "    <tr>\n",
       "      <th>3377</th>\n",
       "      <td>16</td>\n",
       "      <td>Lyon</td>\n",
       "      <td>GuestReady - Rustic Charm in the Heart of Vieu...</td>\n",
       "      <td>https://www.booking.com/hotel/fr/guestready-ru...</td>\n",
       "      <td>9.4</td>\n",
       "      <td>Located in the center of Lyon, just a 10-minut...</td>\n",
       "      <td>45.76446950,4.82700260</td>\n",
       "      <td>45.764469</td>\n",
       "      <td>4.827003</td>\n",
       "      <td>16</td>\n",
       "      <td>...</td>\n",
       "      <td>1.2</td>\n",
       "      <td>24.5</td>\n",
       "      <td>South</td>\n",
       "      <td>9.0</td>\n",
       "      <td>11.8</td>\n",
       "      <td>9.9</td>\n",
       "      <td>21.9</td>\n",
       "      <td>South</td>\n",
       "      <td>8.259872</td>\n",
       "      <td>3865.599817</td>\n",
       "    </tr>\n",
       "    <tr>\n",
       "      <th>3204</th>\n",
       "      <td>16</td>\n",
       "      <td>Lyon</td>\n",
       "      <td>Mercure Lyon Centre Brotteaux</td>\n",
       "      <td>https://www.booking.com/hotel/fr/mercure-lyon-...</td>\n",
       "      <td>9.3</td>\n",
       "      <td>Located within a 10-minute walk of Lyon Part-D...</td>\n",
       "      <td>45.76820495,4.85876329</td>\n",
       "      <td>45.768205</td>\n",
       "      <td>4.858763</td>\n",
       "      <td>16</td>\n",
       "      <td>...</td>\n",
       "      <td>1.2</td>\n",
       "      <td>24.5</td>\n",
       "      <td>South</td>\n",
       "      <td>9.0</td>\n",
       "      <td>11.8</td>\n",
       "      <td>9.9</td>\n",
       "      <td>21.9</td>\n",
       "      <td>South</td>\n",
       "      <td>8.259872</td>\n",
       "      <td>3865.599817</td>\n",
       "    </tr>\n",
       "    <tr>\n",
       "      <th>3215</th>\n",
       "      <td>16</td>\n",
       "      <td>Lyon</td>\n",
       "      <td>Confort - Appartement 2beapart</td>\n",
       "      <td>https://www.booking.com/hotel/fr/confort-lyon....</td>\n",
       "      <td>9.3</td>\n",
       "      <td>Located in the center of Lyon, just a 9-minute...</td>\n",
       "      <td>45.75960010,4.83437390</td>\n",
       "      <td>45.759600</td>\n",
       "      <td>4.834374</td>\n",
       "      <td>16</td>\n",
       "      <td>...</td>\n",
       "      <td>1.2</td>\n",
       "      <td>24.5</td>\n",
       "      <td>South</td>\n",
       "      <td>9.0</td>\n",
       "      <td>11.8</td>\n",
       "      <td>9.9</td>\n",
       "      <td>21.9</td>\n",
       "      <td>South</td>\n",
       "      <td>8.259872</td>\n",
       "      <td>3865.599817</td>\n",
       "    </tr>\n",
       "    <tr>\n",
       "      <th>3216</th>\n",
       "      <td>16</td>\n",
       "      <td>Lyon</td>\n",
       "      <td>Le Jardin de Beauvoir</td>\n",
       "      <td>https://www.booking.com/hotel/fr/le-jardin-de-...</td>\n",
       "      <td>9.3</td>\n",
       "      <td>Located in the Old Lyon, Le Jardin de Beauvoir...</td>\n",
       "      <td>45.75615090,4.81864616</td>\n",
       "      <td>45.756151</td>\n",
       "      <td>4.818646</td>\n",
       "      <td>16</td>\n",
       "      <td>...</td>\n",
       "      <td>1.2</td>\n",
       "      <td>24.5</td>\n",
       "      <td>South</td>\n",
       "      <td>9.0</td>\n",
       "      <td>11.8</td>\n",
       "      <td>9.9</td>\n",
       "      <td>21.9</td>\n",
       "      <td>South</td>\n",
       "      <td>8.259872</td>\n",
       "      <td>3865.599817</td>\n",
       "    </tr>\n",
       "    <tr>\n",
       "      <th>3229</th>\n",
       "      <td>16</td>\n",
       "      <td>Lyon</td>\n",
       "      <td>La \"Pépite\" Du Vieux Lyon</td>\n",
       "      <td>https://www.booking.com/hotel/fr/le-bondy-saon...</td>\n",
       "      <td>9.3</td>\n",
       "      <td>Set in the historic district of Vieux Lyon, Le...</td>\n",
       "      <td>45.76660117,4.82831889</td>\n",
       "      <td>45.766601</td>\n",
       "      <td>4.828319</td>\n",
       "      <td>16</td>\n",
       "      <td>...</td>\n",
       "      <td>1.2</td>\n",
       "      <td>24.5</td>\n",
       "      <td>South</td>\n",
       "      <td>9.0</td>\n",
       "      <td>11.8</td>\n",
       "      <td>9.9</td>\n",
       "      <td>21.9</td>\n",
       "      <td>South</td>\n",
       "      <td>8.259872</td>\n",
       "      <td>3865.599817</td>\n",
       "    </tr>\n",
       "    <tr>\n",
       "      <th>3284</th>\n",
       "      <td>16</td>\n",
       "      <td>Lyon</td>\n",
       "      <td>Le Jardin Suspendu - Vieux-Lyon</td>\n",
       "      <td>https://www.booking.com/hotel/fr/home-by-lp-vi...</td>\n",
       "      <td>9.3</td>\n",
       "      <td>Located within a 8-minute walk of Fourviere Ro...</td>\n",
       "      <td>45.76399500,4.82641000</td>\n",
       "      <td>45.763995</td>\n",
       "      <td>4.826410</td>\n",
       "      <td>16</td>\n",
       "      <td>...</td>\n",
       "      <td>1.2</td>\n",
       "      <td>24.5</td>\n",
       "      <td>South</td>\n",
       "      <td>9.0</td>\n",
       "      <td>11.8</td>\n",
       "      <td>9.9</td>\n",
       "      <td>21.9</td>\n",
       "      <td>South</td>\n",
       "      <td>8.259872</td>\n",
       "      <td>3865.599817</td>\n",
       "    </tr>\n",
       "    <tr>\n",
       "      <th>3311</th>\n",
       "      <td>16</td>\n",
       "      <td>Lyon</td>\n",
       "      <td>Résidence Ôtelia Affaires &amp; Bien-être</td>\n",
       "      <td>https://www.booking.com/hotel/fr/otelia.html?a...</td>\n",
       "      <td>9.3</td>\n",
       "      <td>The Otelia residence is located in Lyon, 820 f...</td>\n",
       "      <td>45.74109927,4.85464275</td>\n",
       "      <td>45.741099</td>\n",
       "      <td>4.854643</td>\n",
       "      <td>16</td>\n",
       "      <td>...</td>\n",
       "      <td>1.2</td>\n",
       "      <td>24.5</td>\n",
       "      <td>South</td>\n",
       "      <td>9.0</td>\n",
       "      <td>11.8</td>\n",
       "      <td>9.9</td>\n",
       "      <td>21.9</td>\n",
       "      <td>South</td>\n",
       "      <td>8.259872</td>\n",
       "      <td>3865.599817</td>\n",
       "    </tr>\n",
       "    <tr>\n",
       "      <th>3369</th>\n",
       "      <td>16</td>\n",
       "      <td>Lyon</td>\n",
       "      <td>Studio en hypercentre Lyon 1er</td>\n",
       "      <td>https://www.booking.com/hotel/fr/studio-en-hyp...</td>\n",
       "      <td>9.3</td>\n",
       "      <td>Located in the center of Lyon, within a 2-minu...</td>\n",
       "      <td>45.76807300,4.83311390</td>\n",
       "      <td>45.768073</td>\n",
       "      <td>4.833114</td>\n",
       "      <td>16</td>\n",
       "      <td>...</td>\n",
       "      <td>1.2</td>\n",
       "      <td>24.5</td>\n",
       "      <td>South</td>\n",
       "      <td>9.0</td>\n",
       "      <td>11.8</td>\n",
       "      <td>9.9</td>\n",
       "      <td>21.9</td>\n",
       "      <td>South</td>\n",
       "      <td>8.259872</td>\n",
       "      <td>3865.599817</td>\n",
       "    </tr>\n",
       "    <tr>\n",
       "      <th>3373</th>\n",
       "      <td>16</td>\n",
       "      <td>Lyon</td>\n",
       "      <td>Hamac Suites Meissonnier 2</td>\n",
       "      <td>https://www.booking.com/hotel/fr/hamac-suites-...</td>\n",
       "      <td>9.3</td>\n",
       "      <td>Offering free WiFi, Hamac Suites Meissonnier 2...</td>\n",
       "      <td>45.76600460,4.83283580</td>\n",
       "      <td>45.766005</td>\n",
       "      <td>4.832836</td>\n",
       "      <td>16</td>\n",
       "      <td>...</td>\n",
       "      <td>1.2</td>\n",
       "      <td>24.5</td>\n",
       "      <td>South</td>\n",
       "      <td>9.0</td>\n",
       "      <td>11.8</td>\n",
       "      <td>9.9</td>\n",
       "      <td>21.9</td>\n",
       "      <td>South</td>\n",
       "      <td>8.259872</td>\n",
       "      <td>3865.599817</td>\n",
       "    </tr>\n",
       "  </tbody>\n",
       "</table>\n",
       "<p>20 rows × 51 columns</p>\n",
       "</div>"
      ],
      "text/plain": [
       "      id_city  city                                               name  \\\n",
       "3331       16  Lyon  ORPI DERUELLE5, studio Hyper Centre Lyon part-...   \n",
       "3364       16  Lyon                                   Appart' Rousseau   \n",
       "3381       16  Lyon         GuestReady - Cosy 2-bed Apt near Part Dieu   \n",
       "3300       16  Lyon      Lyon Urban Cocoon Gîte urbain eco-responsable   \n",
       "3231       16  Lyon                            MHL - Maison Hotel Lyon   \n",
       "3265       16  Lyon                                  La Suite Terreaux   \n",
       "3266       16  Lyon                                        Côté Palais   \n",
       "3367       16  Lyon     Beautiful apartment in the heart of Vieux Lyon   \n",
       "3387       16  Lyon  Appartement Haussmannien d’Artiste, exception,...   \n",
       "3243       16  Lyon                                  La Suite Lanterne   \n",
       "3334       16  Lyon                      7e Ciel - Rooftop Panoramique   \n",
       "3377       16  Lyon  GuestReady - Rustic Charm in the Heart of Vieu...   \n",
       "3204       16  Lyon                      Mercure Lyon Centre Brotteaux   \n",
       "3215       16  Lyon                     Confort - Appartement 2beapart   \n",
       "3216       16  Lyon                              Le Jardin de Beauvoir   \n",
       "3229       16  Lyon                          La \"Pépite\" Du Vieux Lyon   \n",
       "3284       16  Lyon                    Le Jardin Suspendu - Vieux-Lyon   \n",
       "3311       16  Lyon              Résidence Ôtelia Affaires & Bien-être   \n",
       "3369       16  Lyon                     Studio en hypercentre Lyon 1er   \n",
       "3373       16  Lyon                         Hamac Suites Meissonnier 2   \n",
       "\n",
       "                                                    url  score_x  \\\n",
       "3331  https://www.booking.com/hotel/fr/orpi-deruelle...     10.0   \n",
       "3364  https://www.booking.com/hotel/fr/appart-39-rou...     10.0   \n",
       "3381  https://www.booking.com/hotel/fr/guestready-co...      9.9   \n",
       "3300  https://www.booking.com/hotel/fr/lyon-urban-co...      9.6   \n",
       "3231  https://www.booking.com/hotel/fr/mhl-maison-ho...      9.5   \n",
       "3265  https://www.booking.com/hotel/fr/la-suite-terr...      9.5   \n",
       "3266  https://www.booking.com/hotel/fr/cote-palais.h...      9.5   \n",
       "3367  https://www.booking.com/hotel/fr/beautiful-apa...      9.5   \n",
       "3387  https://www.booking.com/hotel/fr/appartement-h...      9.5   \n",
       "3243  https://www.booking.com/hotel/fr/la-suite-lant...      9.4   \n",
       "3334  https://www.booking.com/hotel/fr/la-suite-para...      9.4   \n",
       "3377  https://www.booking.com/hotel/fr/guestready-ru...      9.4   \n",
       "3204  https://www.booking.com/hotel/fr/mercure-lyon-...      9.3   \n",
       "3215  https://www.booking.com/hotel/fr/confort-lyon....      9.3   \n",
       "3216  https://www.booking.com/hotel/fr/le-jardin-de-...      9.3   \n",
       "3229  https://www.booking.com/hotel/fr/le-bondy-saon...      9.3   \n",
       "3284  https://www.booking.com/hotel/fr/home-by-lp-vi...      9.3   \n",
       "3311  https://www.booking.com/hotel/fr/otelia.html?a...      9.3   \n",
       "3369  https://www.booking.com/hotel/fr/studio-en-hyp...      9.3   \n",
       "3373  https://www.booking.com/hotel/fr/hamac-suites-...      9.3   \n",
       "\n",
       "                                            description  \\\n",
       "3331  ORPI DERUELLE5, studio Hyper Centre Lyon part-...   \n",
       "3364  Featuring city views, Appart' Rousseau has acc...   \n",
       "3381  Located in Lyon, a 16-minute walk from Lyon Pa...   \n",
       "3300  Comfortable, quality, clean, quiet, air-condit...   \n",
       "3231  Located in the center of Lyon, just 1969 feet ...   \n",
       "3265  Offering free WiFi and river views, La Suite T...   \n",
       "3266  Located in Lyon's Old Town, Côté Palais is a s...   \n",
       "3367  Ideally set in the center of Lyon, Beautiful a...   \n",
       "3387  In the middle of Lyon, located within a short ...   \n",
       "3243  Located in the center of Lyon, just a 2-minute...   \n",
       "3334  Featuring city views, 7e Ciel - Rooftop Panora...   \n",
       "3377  Located in the center of Lyon, just a 10-minut...   \n",
       "3204  Located within a 10-minute walk of Lyon Part-D...   \n",
       "3215  Located in the center of Lyon, just a 9-minute...   \n",
       "3216  Located in the Old Lyon, Le Jardin de Beauvoir...   \n",
       "3229  Set in the historic district of Vieux Lyon, Le...   \n",
       "3284  Located within a 8-minute walk of Fourviere Ro...   \n",
       "3311  The Otelia residence is located in Lyon, 820 f...   \n",
       "3369  Located in the center of Lyon, within a 2-minu...   \n",
       "3373  Offering free WiFi, Hamac Suites Meissonnier 2...   \n",
       "\n",
       "                 coordinates      lat_x     lon_x  Unnamed: 0.1  ...  \\\n",
       "3331  45.76305000,4.85276400  45.763050  4.852764            16  ...   \n",
       "3364  45.76954590,4.85828406  45.769546  4.858284            16  ...   \n",
       "3381  45.75419450,4.86679140  45.754194  4.866791            16  ...   \n",
       "3300  45.73532327,4.88348871  45.735323  4.883489            16  ...   \n",
       "3231  45.76775247,4.84403533  45.767752  4.844035            16  ...   \n",
       "3265  45.76704456,4.83057831  45.767045  4.830578            16  ...   \n",
       "3266  45.76236605,4.82711926  45.762366  4.827119            16  ...   \n",
       "3367  45.75888150,4.82557600  45.758882  4.825576            16  ...   \n",
       "3387  45.76831682,4.82642079  45.768317  4.826421            16  ...   \n",
       "3243  45.76669149,4.83175173  45.766691  4.831752            16  ...   \n",
       "3334  45.74892600,4.84713800  45.748926  4.847138            16  ...   \n",
       "3377  45.76446950,4.82700260  45.764469  4.827003            16  ...   \n",
       "3204  45.76820495,4.85876329  45.768205  4.858763            16  ...   \n",
       "3215  45.75960010,4.83437390  45.759600  4.834374            16  ...   \n",
       "3216  45.75615090,4.81864616  45.756151  4.818646            16  ...   \n",
       "3229  45.76660117,4.82831889  45.766601  4.828319            16  ...   \n",
       "3284  45.76399500,4.82641000  45.763995  4.826410            16  ...   \n",
       "3311  45.74109927,4.85464275  45.741099  4.854643            16  ...   \n",
       "3369  45.76807300,4.83311390  45.768073  4.833114            16  ...   \n",
       "3373  45.76600460,4.83283580  45.766005  4.832836            16  ...   \n",
       "\n",
       "      precipitation6 wind6  wind_dir6  temp_min7  temp_max7  precipitation7  \\\n",
       "3331             1.2  24.5      South        9.0       11.8             9.9   \n",
       "3364             1.2  24.5      South        9.0       11.8             9.9   \n",
       "3381             1.2  24.5      South        9.0       11.8             9.9   \n",
       "3300             1.2  24.5      South        9.0       11.8             9.9   \n",
       "3231             1.2  24.5      South        9.0       11.8             9.9   \n",
       "3265             1.2  24.5      South        9.0       11.8             9.9   \n",
       "3266             1.2  24.5      South        9.0       11.8             9.9   \n",
       "3367             1.2  24.5      South        9.0       11.8             9.9   \n",
       "3387             1.2  24.5      South        9.0       11.8             9.9   \n",
       "3243             1.2  24.5      South        9.0       11.8             9.9   \n",
       "3334             1.2  24.5      South        9.0       11.8             9.9   \n",
       "3377             1.2  24.5      South        9.0       11.8             9.9   \n",
       "3204             1.2  24.5      South        9.0       11.8             9.9   \n",
       "3215             1.2  24.5      South        9.0       11.8             9.9   \n",
       "3216             1.2  24.5      South        9.0       11.8             9.9   \n",
       "3229             1.2  24.5      South        9.0       11.8             9.9   \n",
       "3284             1.2  24.5      South        9.0       11.8             9.9   \n",
       "3311             1.2  24.5      South        9.0       11.8             9.9   \n",
       "3369             1.2  24.5      South        9.0       11.8             9.9   \n",
       "3373             1.2  24.5      South        9.0       11.8             9.9   \n",
       "\n",
       "      wind7  wind_dir7   score_y    score_exp  \n",
       "3331   21.9      South  8.259872  3865.599817  \n",
       "3364   21.9      South  8.259872  3865.599817  \n",
       "3381   21.9      South  8.259872  3865.599817  \n",
       "3300   21.9      South  8.259872  3865.599817  \n",
       "3231   21.9      South  8.259872  3865.599817  \n",
       "3265   21.9      South  8.259872  3865.599817  \n",
       "3266   21.9      South  8.259872  3865.599817  \n",
       "3367   21.9      South  8.259872  3865.599817  \n",
       "3387   21.9      South  8.259872  3865.599817  \n",
       "3243   21.9      South  8.259872  3865.599817  \n",
       "3334   21.9      South  8.259872  3865.599817  \n",
       "3377   21.9      South  8.259872  3865.599817  \n",
       "3204   21.9      South  8.259872  3865.599817  \n",
       "3215   21.9      South  8.259872  3865.599817  \n",
       "3216   21.9      South  8.259872  3865.599817  \n",
       "3229   21.9      South  8.259872  3865.599817  \n",
       "3284   21.9      South  8.259872  3865.599817  \n",
       "3311   21.9      South  8.259872  3865.599817  \n",
       "3369   21.9      South  8.259872  3865.599817  \n",
       "3373   21.9      South  8.259872  3865.599817  \n",
       "\n",
       "[20 rows x 51 columns]"
      ]
     },
     "execution_count": 17,
     "metadata": {},
     "output_type": "execute_result"
    }
   ],
   "source": [
    "df_plot"
   ]
  },
  {
   "cell_type": "code",
   "execution_count": 18,
   "metadata": {},
   "outputs": [
    {
     "data": {
      "application/vnd.plotly.v1+json": {
       "config": {
        "plotlyServerURL": "https://plot.ly"
       },
       "data": [
        {
         "customdata": [
          [
           45.76305,
           4.852764,
           "ORPI DERUELLE5, studio Hyper Centre Lyon part-Dieu",
           10
          ],
          [
           45.7695459,
           4.85828406,
           "Appart' Rousseau",
           10
          ],
          [
           45.7541945,
           4.8667914,
           "GuestReady - Cosy 2-bed Apt near Part Dieu",
           9.9
          ],
          [
           45.73532327,
           4.88348871,
           "Lyon Urban Cocoon Gîte urbain eco-responsable",
           9.6
          ],
          [
           45.76775247,
           4.84403533,
           "MHL - Maison Hotel Lyon",
           9.5
          ],
          [
           45.76704456,
           4.83057831,
           "La Suite Terreaux",
           9.5
          ],
          [
           45.76236605,
           4.82711926,
           "Côté Palais",
           9.5
          ],
          [
           45.7588815,
           4.825576,
           "Beautiful apartment in the heart of Vieux Lyon",
           9.5
          ],
          [
           45.76831682,
           4.82642079,
           "Appartement Haussmannien d’Artiste, exception, quai de Saône balcon+Parking",
           9.5
          ],
          [
           45.76669149,
           4.83175173,
           "La Suite Lanterne",
           9.4
          ],
          [
           45.748926,
           4.847138,
           "7e Ciel - Rooftop Panoramique",
           9.4
          ],
          [
           45.7644695,
           4.8270026,
           "GuestReady - Rustic Charm in the Heart of Vieux Lyon",
           9.4
          ],
          [
           45.76820495,
           4.85876329,
           "Mercure Lyon Centre Brotteaux",
           9.3
          ],
          [
           45.7596001,
           4.8343739,
           "Confort - Appartement 2beapart",
           9.3
          ],
          [
           45.7561509,
           4.81864616,
           "Le Jardin de Beauvoir",
           9.3
          ],
          [
           45.76660117,
           4.82831889,
           "La \"Pépite\" Du Vieux Lyon",
           9.3
          ],
          [
           45.763995,
           4.82641,
           "Le Jardin Suspendu - Vieux-Lyon",
           9.3
          ],
          [
           45.74109927,
           4.85464275,
           "Résidence Ôtelia Affaires & Bien-être",
           9.3
          ],
          [
           45.768073,
           4.8331139,
           "Studio en hypercentre Lyon 1er",
           9.3
          ],
          [
           45.7660046,
           4.8328358,
           "Hamac Suites Meissonnier 2",
           9.3
          ]
         ],
         "hovertemplate": "score_x=%{marker.color}<br>city=%{text}<br>name=%{customdata[2]}<extra></extra>",
         "lat": [
          45.76305,
          45.7695459,
          45.7541945,
          45.73532327,
          45.76775247,
          45.76704456,
          45.76236605,
          45.7588815,
          45.76831682,
          45.76669149,
          45.748926,
          45.7644695,
          45.76820495,
          45.7596001,
          45.7561509,
          45.76660117,
          45.763995,
          45.74109927,
          45.768073,
          45.7660046
         ],
         "legendgroup": "",
         "lon": [
          4.852764,
          4.85828406,
          4.8667914,
          4.88348871,
          4.84403533,
          4.83057831,
          4.82711926,
          4.825576,
          4.82642079,
          4.83175173,
          4.847138,
          4.8270026,
          4.85876329,
          4.8343739,
          4.81864616,
          4.82831889,
          4.82641,
          4.85464275,
          4.8331139,
          4.8328358
         ],
         "marker": {
          "color": [
           10,
           10,
           9.9,
           9.6,
           9.5,
           9.5,
           9.5,
           9.5,
           9.5,
           9.4,
           9.4,
           9.4,
           9.3,
           9.3,
           9.3,
           9.3,
           9.3,
           9.3,
           9.3,
           9.3
          ],
          "coloraxis": "coloraxis",
          "opacity": 0.5,
          "size": [
           10,
           10,
           9.9,
           9.6,
           9.5,
           9.5,
           9.5,
           9.5,
           9.5,
           9.4,
           9.4,
           9.4,
           9.3,
           9.3,
           9.3,
           9.3,
           9.3,
           9.3,
           9.3,
           9.3
          ],
          "sizemode": "area",
          "sizeref": 0.025
         },
         "mode": "markers+text",
         "name": "",
         "showlegend": false,
         "subplot": "mapbox",
         "text": [
          "Lyon",
          "Lyon",
          "Lyon",
          "Lyon",
          "Lyon",
          "Lyon",
          "Lyon",
          "Lyon",
          "Lyon",
          "Lyon",
          "Lyon",
          "Lyon",
          "Lyon",
          "Lyon",
          "Lyon",
          "Lyon",
          "Lyon",
          "Lyon",
          "Lyon",
          "Lyon"
         ],
         "type": "scattermapbox"
        }
       ],
       "layout": {
        "coloraxis": {
         "colorbar": {
          "title": {
           "text": "score_x"
          }
         },
         "colorscale": [
          [
           0,
           "rgb(0,0,255)"
          ],
          [
           1,
           "rgb(255,0,0)"
          ]
         ]
        },
        "height": 800,
        "legend": {
         "itemsizing": "constant",
         "tracegroupgap": 0
        },
        "mapbox": {
         "center": {
          "lat": 45.760814552499994,
          "lon": 4.8404027439999995
         },
         "domain": {
          "x": [
           0,
           1
          ],
          "y": [
           0,
           1
          ]
         },
         "style": "carto-positron",
         "zoom": 11
        },
        "template": {
         "data": {
          "bar": [
           {
            "error_x": {
             "color": "#2a3f5f"
            },
            "error_y": {
             "color": "#2a3f5f"
            },
            "marker": {
             "line": {
              "color": "#E5ECF6",
              "width": 0.5
             },
             "pattern": {
              "fillmode": "overlay",
              "size": 10,
              "solidity": 0.2
             }
            },
            "type": "bar"
           }
          ],
          "barpolar": [
           {
            "marker": {
             "line": {
              "color": "#E5ECF6",
              "width": 0.5
             },
             "pattern": {
              "fillmode": "overlay",
              "size": 10,
              "solidity": 0.2
             }
            },
            "type": "barpolar"
           }
          ],
          "carpet": [
           {
            "aaxis": {
             "endlinecolor": "#2a3f5f",
             "gridcolor": "white",
             "linecolor": "white",
             "minorgridcolor": "white",
             "startlinecolor": "#2a3f5f"
            },
            "baxis": {
             "endlinecolor": "#2a3f5f",
             "gridcolor": "white",
             "linecolor": "white",
             "minorgridcolor": "white",
             "startlinecolor": "#2a3f5f"
            },
            "type": "carpet"
           }
          ],
          "choropleth": [
           {
            "colorbar": {
             "outlinewidth": 0,
             "ticks": ""
            },
            "type": "choropleth"
           }
          ],
          "contour": [
           {
            "colorbar": {
             "outlinewidth": 0,
             "ticks": ""
            },
            "colorscale": [
             [
              0,
              "#0d0887"
             ],
             [
              0.1111111111111111,
              "#46039f"
             ],
             [
              0.2222222222222222,
              "#7201a8"
             ],
             [
              0.3333333333333333,
              "#9c179e"
             ],
             [
              0.4444444444444444,
              "#bd3786"
             ],
             [
              0.5555555555555556,
              "#d8576b"
             ],
             [
              0.6666666666666666,
              "#ed7953"
             ],
             [
              0.7777777777777778,
              "#fb9f3a"
             ],
             [
              0.8888888888888888,
              "#fdca26"
             ],
             [
              1,
              "#f0f921"
             ]
            ],
            "type": "contour"
           }
          ],
          "contourcarpet": [
           {
            "colorbar": {
             "outlinewidth": 0,
             "ticks": ""
            },
            "type": "contourcarpet"
           }
          ],
          "heatmap": [
           {
            "colorbar": {
             "outlinewidth": 0,
             "ticks": ""
            },
            "colorscale": [
             [
              0,
              "#0d0887"
             ],
             [
              0.1111111111111111,
              "#46039f"
             ],
             [
              0.2222222222222222,
              "#7201a8"
             ],
             [
              0.3333333333333333,
              "#9c179e"
             ],
             [
              0.4444444444444444,
              "#bd3786"
             ],
             [
              0.5555555555555556,
              "#d8576b"
             ],
             [
              0.6666666666666666,
              "#ed7953"
             ],
             [
              0.7777777777777778,
              "#fb9f3a"
             ],
             [
              0.8888888888888888,
              "#fdca26"
             ],
             [
              1,
              "#f0f921"
             ]
            ],
            "type": "heatmap"
           }
          ],
          "heatmapgl": [
           {
            "colorbar": {
             "outlinewidth": 0,
             "ticks": ""
            },
            "colorscale": [
             [
              0,
              "#0d0887"
             ],
             [
              0.1111111111111111,
              "#46039f"
             ],
             [
              0.2222222222222222,
              "#7201a8"
             ],
             [
              0.3333333333333333,
              "#9c179e"
             ],
             [
              0.4444444444444444,
              "#bd3786"
             ],
             [
              0.5555555555555556,
              "#d8576b"
             ],
             [
              0.6666666666666666,
              "#ed7953"
             ],
             [
              0.7777777777777778,
              "#fb9f3a"
             ],
             [
              0.8888888888888888,
              "#fdca26"
             ],
             [
              1,
              "#f0f921"
             ]
            ],
            "type": "heatmapgl"
           }
          ],
          "histogram": [
           {
            "marker": {
             "pattern": {
              "fillmode": "overlay",
              "size": 10,
              "solidity": 0.2
             }
            },
            "type": "histogram"
           }
          ],
          "histogram2d": [
           {
            "colorbar": {
             "outlinewidth": 0,
             "ticks": ""
            },
            "colorscale": [
             [
              0,
              "#0d0887"
             ],
             [
              0.1111111111111111,
              "#46039f"
             ],
             [
              0.2222222222222222,
              "#7201a8"
             ],
             [
              0.3333333333333333,
              "#9c179e"
             ],
             [
              0.4444444444444444,
              "#bd3786"
             ],
             [
              0.5555555555555556,
              "#d8576b"
             ],
             [
              0.6666666666666666,
              "#ed7953"
             ],
             [
              0.7777777777777778,
              "#fb9f3a"
             ],
             [
              0.8888888888888888,
              "#fdca26"
             ],
             [
              1,
              "#f0f921"
             ]
            ],
            "type": "histogram2d"
           }
          ],
          "histogram2dcontour": [
           {
            "colorbar": {
             "outlinewidth": 0,
             "ticks": ""
            },
            "colorscale": [
             [
              0,
              "#0d0887"
             ],
             [
              0.1111111111111111,
              "#46039f"
             ],
             [
              0.2222222222222222,
              "#7201a8"
             ],
             [
              0.3333333333333333,
              "#9c179e"
             ],
             [
              0.4444444444444444,
              "#bd3786"
             ],
             [
              0.5555555555555556,
              "#d8576b"
             ],
             [
              0.6666666666666666,
              "#ed7953"
             ],
             [
              0.7777777777777778,
              "#fb9f3a"
             ],
             [
              0.8888888888888888,
              "#fdca26"
             ],
             [
              1,
              "#f0f921"
             ]
            ],
            "type": "histogram2dcontour"
           }
          ],
          "mesh3d": [
           {
            "colorbar": {
             "outlinewidth": 0,
             "ticks": ""
            },
            "type": "mesh3d"
           }
          ],
          "parcoords": [
           {
            "line": {
             "colorbar": {
              "outlinewidth": 0,
              "ticks": ""
             }
            },
            "type": "parcoords"
           }
          ],
          "pie": [
           {
            "automargin": true,
            "type": "pie"
           }
          ],
          "scatter": [
           {
            "fillpattern": {
             "fillmode": "overlay",
             "size": 10,
             "solidity": 0.2
            },
            "type": "scatter"
           }
          ],
          "scatter3d": [
           {
            "line": {
             "colorbar": {
              "outlinewidth": 0,
              "ticks": ""
             }
            },
            "marker": {
             "colorbar": {
              "outlinewidth": 0,
              "ticks": ""
             }
            },
            "type": "scatter3d"
           }
          ],
          "scattercarpet": [
           {
            "marker": {
             "colorbar": {
              "outlinewidth": 0,
              "ticks": ""
             }
            },
            "type": "scattercarpet"
           }
          ],
          "scattergeo": [
           {
            "marker": {
             "colorbar": {
              "outlinewidth": 0,
              "ticks": ""
             }
            },
            "type": "scattergeo"
           }
          ],
          "scattergl": [
           {
            "marker": {
             "colorbar": {
              "outlinewidth": 0,
              "ticks": ""
             }
            },
            "type": "scattergl"
           }
          ],
          "scattermapbox": [
           {
            "marker": {
             "colorbar": {
              "outlinewidth": 0,
              "ticks": ""
             }
            },
            "type": "scattermapbox"
           }
          ],
          "scatterpolar": [
           {
            "marker": {
             "colorbar": {
              "outlinewidth": 0,
              "ticks": ""
             }
            },
            "type": "scatterpolar"
           }
          ],
          "scatterpolargl": [
           {
            "marker": {
             "colorbar": {
              "outlinewidth": 0,
              "ticks": ""
             }
            },
            "type": "scatterpolargl"
           }
          ],
          "scatterternary": [
           {
            "marker": {
             "colorbar": {
              "outlinewidth": 0,
              "ticks": ""
             }
            },
            "type": "scatterternary"
           }
          ],
          "surface": [
           {
            "colorbar": {
             "outlinewidth": 0,
             "ticks": ""
            },
            "colorscale": [
             [
              0,
              "#0d0887"
             ],
             [
              0.1111111111111111,
              "#46039f"
             ],
             [
              0.2222222222222222,
              "#7201a8"
             ],
             [
              0.3333333333333333,
              "#9c179e"
             ],
             [
              0.4444444444444444,
              "#bd3786"
             ],
             [
              0.5555555555555556,
              "#d8576b"
             ],
             [
              0.6666666666666666,
              "#ed7953"
             ],
             [
              0.7777777777777778,
              "#fb9f3a"
             ],
             [
              0.8888888888888888,
              "#fdca26"
             ],
             [
              1,
              "#f0f921"
             ]
            ],
            "type": "surface"
           }
          ],
          "table": [
           {
            "cells": {
             "fill": {
              "color": "#EBF0F8"
             },
             "line": {
              "color": "white"
             }
            },
            "header": {
             "fill": {
              "color": "#C8D4E3"
             },
             "line": {
              "color": "white"
             }
            },
            "type": "table"
           }
          ]
         },
         "layout": {
          "annotationdefaults": {
           "arrowcolor": "#2a3f5f",
           "arrowhead": 0,
           "arrowwidth": 1
          },
          "autotypenumbers": "strict",
          "coloraxis": {
           "colorbar": {
            "outlinewidth": 0,
            "ticks": ""
           }
          },
          "colorscale": {
           "diverging": [
            [
             0,
             "#8e0152"
            ],
            [
             0.1,
             "#c51b7d"
            ],
            [
             0.2,
             "#de77ae"
            ],
            [
             0.3,
             "#f1b6da"
            ],
            [
             0.4,
             "#fde0ef"
            ],
            [
             0.5,
             "#f7f7f7"
            ],
            [
             0.6,
             "#e6f5d0"
            ],
            [
             0.7,
             "#b8e186"
            ],
            [
             0.8,
             "#7fbc41"
            ],
            [
             0.9,
             "#4d9221"
            ],
            [
             1,
             "#276419"
            ]
           ],
           "sequential": [
            [
             0,
             "#0d0887"
            ],
            [
             0.1111111111111111,
             "#46039f"
            ],
            [
             0.2222222222222222,
             "#7201a8"
            ],
            [
             0.3333333333333333,
             "#9c179e"
            ],
            [
             0.4444444444444444,
             "#bd3786"
            ],
            [
             0.5555555555555556,
             "#d8576b"
            ],
            [
             0.6666666666666666,
             "#ed7953"
            ],
            [
             0.7777777777777778,
             "#fb9f3a"
            ],
            [
             0.8888888888888888,
             "#fdca26"
            ],
            [
             1,
             "#f0f921"
            ]
           ],
           "sequentialminus": [
            [
             0,
             "#0d0887"
            ],
            [
             0.1111111111111111,
             "#46039f"
            ],
            [
             0.2222222222222222,
             "#7201a8"
            ],
            [
             0.3333333333333333,
             "#9c179e"
            ],
            [
             0.4444444444444444,
             "#bd3786"
            ],
            [
             0.5555555555555556,
             "#d8576b"
            ],
            [
             0.6666666666666666,
             "#ed7953"
            ],
            [
             0.7777777777777778,
             "#fb9f3a"
            ],
            [
             0.8888888888888888,
             "#fdca26"
            ],
            [
             1,
             "#f0f921"
            ]
           ]
          },
          "colorway": [
           "#636efa",
           "#EF553B",
           "#00cc96",
           "#ab63fa",
           "#FFA15A",
           "#19d3f3",
           "#FF6692",
           "#B6E880",
           "#FF97FF",
           "#FECB52"
          ],
          "font": {
           "color": "#2a3f5f"
          },
          "geo": {
           "bgcolor": "white",
           "lakecolor": "white",
           "landcolor": "#E5ECF6",
           "showlakes": true,
           "showland": true,
           "subunitcolor": "white"
          },
          "hoverlabel": {
           "align": "left"
          },
          "hovermode": "closest",
          "mapbox": {
           "style": "light"
          },
          "paper_bgcolor": "white",
          "plot_bgcolor": "#E5ECF6",
          "polar": {
           "angularaxis": {
            "gridcolor": "white",
            "linecolor": "white",
            "ticks": ""
           },
           "bgcolor": "#E5ECF6",
           "radialaxis": {
            "gridcolor": "white",
            "linecolor": "white",
            "ticks": ""
           }
          },
          "scene": {
           "xaxis": {
            "backgroundcolor": "#E5ECF6",
            "gridcolor": "white",
            "gridwidth": 2,
            "linecolor": "white",
            "showbackground": true,
            "ticks": "",
            "zerolinecolor": "white"
           },
           "yaxis": {
            "backgroundcolor": "#E5ECF6",
            "gridcolor": "white",
            "gridwidth": 2,
            "linecolor": "white",
            "showbackground": true,
            "ticks": "",
            "zerolinecolor": "white"
           },
           "zaxis": {
            "backgroundcolor": "#E5ECF6",
            "gridcolor": "white",
            "gridwidth": 2,
            "linecolor": "white",
            "showbackground": true,
            "ticks": "",
            "zerolinecolor": "white"
           }
          },
          "shapedefaults": {
           "line": {
            "color": "#2a3f5f"
           }
          },
          "ternary": {
           "aaxis": {
            "gridcolor": "white",
            "linecolor": "white",
            "ticks": ""
           },
           "baxis": {
            "gridcolor": "white",
            "linecolor": "white",
            "ticks": ""
           },
           "bgcolor": "#E5ECF6",
           "caxis": {
            "gridcolor": "white",
            "linecolor": "white",
            "ticks": ""
           }
          },
          "title": {
           "x": 0.05
          },
          "xaxis": {
           "automargin": true,
           "gridcolor": "white",
           "linecolor": "white",
           "ticks": "",
           "title": {
            "standoff": 15
           },
           "zerolinecolor": "white",
           "zerolinewidth": 2
          },
          "yaxis": {
           "automargin": true,
           "gridcolor": "white",
           "linecolor": "white",
           "ticks": "",
           "title": {
            "standoff": 15
           },
           "zerolinecolor": "white",
           "zerolinewidth": 2
          }
         }
        },
        "title": {
         "text": "The best hotels in Lyon"
        },
        "width": 1000
       }
      }
     },
     "metadata": {},
     "output_type": "display_data"
    }
   ],
   "source": [
    "# plotting the best hotels in Lyon\n",
    "\n",
    "fig = px.scatter_mapbox(df_plot, lat=\"lat_x\", lon=\"lon_x\", \n",
    "        mapbox_style = 'carto-positron', \n",
    "        color=\"score_x\", \n",
    "        size=\"score_x\", \n",
    "        opacity = 0.5,\n",
    "        title=\"The best hotels in Lyon\",\n",
    "        text='city',\n",
    "        hover_data={\"lat_x\": False, \"lon_x\" : False, \"name\" : True,  \"score_x\" : True},\n",
    "        #center={\"lat\":float(place[\"lat\"]),\"lon\":float(place[\"lon\"])},\n",
    "        color_continuous_scale=px.colors.sequential.Bluered,\n",
    "        width = 1000,\n",
    "        height = 800,\n",
    "        #size_max=15,\n",
    "        zoom=11\n",
    ")\n",
    "\n",
    "fig.show()"
   ]
  },
  {
   "cell_type": "code",
   "execution_count": null,
   "metadata": {},
   "outputs": [],
   "source": []
  }
 ],
 "metadata": {
  "kernelspec": {
   "display_name": "Python 3",
   "language": "python",
   "name": "python3"
  },
  "language_info": {
   "codemirror_mode": {
    "name": "ipython",
    "version": 3
   },
   "file_extension": ".py",
   "mimetype": "text/x-python",
   "name": "python",
   "nbconvert_exporter": "python",
   "pygments_lexer": "ipython3",
   "version": "3.10.6"
  },
  "orig_nbformat": 4,
  "vscode": {
   "interpreter": {
    "hash": "916dbcbb3f70747c44a77c7bcd40155683ae19c65e1c03b4aa3499c5328201f1"
   }
  }
 },
 "nbformat": 4,
 "nbformat_minor": 2
}
