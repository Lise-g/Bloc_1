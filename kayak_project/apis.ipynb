{
 "cells": [
  {
   "cell_type": "code",
   "execution_count": 1,
   "metadata": {},
   "outputs": [],
   "source": [
    "import pandas as pd\n",
    "import numpy as np\n",
    "import requests\n",
    "import json\n",
    "import os\n",
    "import plotly.express as px \n",
    "import plotly.graph_objects as go\n",
    "import warnings\n",
    "warnings.filterwarnings('ignore')"
   ]
  },
  {
   "attachments": {},
   "cell_type": "markdown",
   "metadata": {},
   "source": [
    "# 1/ Getting gps coordinates of all the cities"
   ]
  },
  {
   "cell_type": "code",
   "execution_count": 2,
   "metadata": {},
   "outputs": [
    {
     "data": {
      "text/plain": [
       "[{'place_id': 297681191,\n",
       "  'licence': 'Data © OpenStreetMap contributors, ODbL 1.0. https://osm.org/copyright',\n",
       "  'osm_type': 'relation',\n",
       "  'osm_id': 120965,\n",
       "  'boundingbox': ['45.7073666', '45.8082628', '4.7718134', '4.8983774'],\n",
       "  'lat': '45.7578137',\n",
       "  'lon': '4.8320114',\n",
       "  'display_name': 'Lyon, Métropole de Lyon, Rhône, Auvergne-Rhône-Alpes, France métropolitaine, France',\n",
       "  'class': 'boundary',\n",
       "  'type': 'administrative',\n",
       "  'importance': 0.9113775965432667,\n",
       "  'icon': 'https://nominatim.openstreetmap.org/ui/mapicons/poi_boundary_administrative.p.20.png'}]"
      ]
     },
     "execution_count": 2,
     "metadata": {},
     "output_type": "execute_result"
    }
   ],
   "source": [
    "param = {'city' : 'Lyon', 'country' : 'France', 'format' : 'json', 'limit' : '1'}\n",
    "r = requests.get('https://nominatim.openstreetmap.org/search/', params = param)\n",
    "result = json.loads(r.content)\n",
    "result"
   ]
  },
  {
   "cell_type": "code",
   "execution_count": 3,
   "metadata": {},
   "outputs": [],
   "source": [
    "list_cities = [\"Mont Saint Michel\", \"St Malo\", \"Bayeux\", \"Le Havre\", \"Rouen\", \"Paris\", \"Amiens\", \"Lille\", \"Strasbourg\", \"Chateau du Haut Koenigsbourg\", \"Colmar\", \"Eguisheim\", \"Besancon\", \"Dijon\",\n",
    "                \"Annecy\", \"Grenoble\", \"Lyon\", \"Gorges du Verdon\", \"Bormes les Mimosas\", \"Cassis\", \"Marseille\", \"Aix en Provence\", \"Avignon\", \"Uzes\", \"Nimes\", \"Aigues Mortes\", \"Saintes Maries de la mer\",\n",
    "                \"Collioure\", \"Carcassonne\", \"Ariege\", \"Toulouse\", \"Montauban\", \"Biarritz\", \"Bayonne\", \"La Rochelle\"]"
   ]
  },
  {
   "cell_type": "code",
   "execution_count": 4,
   "metadata": {},
   "outputs": [],
   "source": [
    "df_cities = pd.DataFrame(columns = ['id_city', 'City', 'lat', 'lon'])"
   ]
  },
  {
   "cell_type": "code",
   "execution_count": 5,
   "metadata": {},
   "outputs": [],
   "source": [
    "def search_coord(i, place, param) :\n",
    "    r = requests.get('https://nominatim.openstreetmap.org/search/', params = param)\n",
    "    result = json.loads(r.content)\n",
    "    df_cities.at[i, 'id_city'] = i\n",
    "    df_cities.at[i, 'City'] = place\n",
    "    df_cities.at[i, 'lat'] = result[0]['lat']\n",
    "    df_cities.at[i, 'lon'] = result[0]['lon']\n"
   ]
  },
  {
   "cell_type": "code",
   "execution_count": 6,
   "metadata": {},
   "outputs": [],
   "source": [
    "for i in range(len(list_cities)) :\n",
    "    try :\n",
    "        param_city = {'city' : list_cities[i], 'country' : 'France', 'format' : 'json', 'limit' : '1'}\n",
    "        search_coord(i, list_cities[i], param_city)\n",
    "    except :\n",
    "        param_q = {'q' : list_cities[i], 'country' : 'France', 'format' : 'json', 'limit' : '1'}\n",
    "        search_coord(i, list_cities[i], param_q)"
   ]
  },
  {
   "cell_type": "code",
   "execution_count": 7,
   "metadata": {},
   "outputs": [
    {
     "data": {
      "text/html": [
       "<div>\n",
       "<style scoped>\n",
       "    .dataframe tbody tr th:only-of-type {\n",
       "        vertical-align: middle;\n",
       "    }\n",
       "\n",
       "    .dataframe tbody tr th {\n",
       "        vertical-align: top;\n",
       "    }\n",
       "\n",
       "    .dataframe thead th {\n",
       "        text-align: right;\n",
       "    }\n",
       "</style>\n",
       "<table border=\"1\" class=\"dataframe\">\n",
       "  <thead>\n",
       "    <tr style=\"text-align: right;\">\n",
       "      <th></th>\n",
       "      <th>id_city</th>\n",
       "      <th>City</th>\n",
       "      <th>lat</th>\n",
       "      <th>lon</th>\n",
       "    </tr>\n",
       "  </thead>\n",
       "  <tbody>\n",
       "    <tr>\n",
       "      <th>0</th>\n",
       "      <td>0</td>\n",
       "      <td>Mont Saint Michel</td>\n",
       "      <td>48.6359541</td>\n",
       "      <td>-1.511459954959514</td>\n",
       "    </tr>\n",
       "    <tr>\n",
       "      <th>1</th>\n",
       "      <td>1</td>\n",
       "      <td>St Malo</td>\n",
       "      <td>48.649518</td>\n",
       "      <td>-2.0260409</td>\n",
       "    </tr>\n",
       "    <tr>\n",
       "      <th>2</th>\n",
       "      <td>2</td>\n",
       "      <td>Bayeux</td>\n",
       "      <td>49.2764624</td>\n",
       "      <td>-0.7024738</td>\n",
       "    </tr>\n",
       "    <tr>\n",
       "      <th>3</th>\n",
       "      <td>3</td>\n",
       "      <td>Le Havre</td>\n",
       "      <td>49.4938975</td>\n",
       "      <td>0.1079732</td>\n",
       "    </tr>\n",
       "    <tr>\n",
       "      <th>4</th>\n",
       "      <td>4</td>\n",
       "      <td>Rouen</td>\n",
       "      <td>49.4404591</td>\n",
       "      <td>1.0939658</td>\n",
       "    </tr>\n",
       "    <tr>\n",
       "      <th>5</th>\n",
       "      <td>5</td>\n",
       "      <td>Paris</td>\n",
       "      <td>48.8588897</td>\n",
       "      <td>2.3200410217200766</td>\n",
       "    </tr>\n",
       "    <tr>\n",
       "      <th>6</th>\n",
       "      <td>6</td>\n",
       "      <td>Amiens</td>\n",
       "      <td>49.8941708</td>\n",
       "      <td>2.2956951</td>\n",
       "    </tr>\n",
       "    <tr>\n",
       "      <th>7</th>\n",
       "      <td>7</td>\n",
       "      <td>Lille</td>\n",
       "      <td>50.6365654</td>\n",
       "      <td>3.0635282</td>\n",
       "    </tr>\n",
       "    <tr>\n",
       "      <th>8</th>\n",
       "      <td>8</td>\n",
       "      <td>Strasbourg</td>\n",
       "      <td>48.584614</td>\n",
       "      <td>7.7507127</td>\n",
       "    </tr>\n",
       "    <tr>\n",
       "      <th>9</th>\n",
       "      <td>9</td>\n",
       "      <td>Chateau du Haut Koenigsbourg</td>\n",
       "      <td>48.2495226</td>\n",
       "      <td>7.3454923</td>\n",
       "    </tr>\n",
       "    <tr>\n",
       "      <th>10</th>\n",
       "      <td>10</td>\n",
       "      <td>Colmar</td>\n",
       "      <td>48.0777517</td>\n",
       "      <td>7.3579641</td>\n",
       "    </tr>\n",
       "    <tr>\n",
       "      <th>11</th>\n",
       "      <td>11</td>\n",
       "      <td>Eguisheim</td>\n",
       "      <td>48.0447968</td>\n",
       "      <td>7.3079618</td>\n",
       "    </tr>\n",
       "    <tr>\n",
       "      <th>12</th>\n",
       "      <td>12</td>\n",
       "      <td>Besancon</td>\n",
       "      <td>47.2380222</td>\n",
       "      <td>6.0243622</td>\n",
       "    </tr>\n",
       "    <tr>\n",
       "      <th>13</th>\n",
       "      <td>13</td>\n",
       "      <td>Dijon</td>\n",
       "      <td>47.3215806</td>\n",
       "      <td>5.0414701</td>\n",
       "    </tr>\n",
       "    <tr>\n",
       "      <th>14</th>\n",
       "      <td>14</td>\n",
       "      <td>Annecy</td>\n",
       "      <td>45.8992348</td>\n",
       "      <td>6.1288847</td>\n",
       "    </tr>\n",
       "    <tr>\n",
       "      <th>15</th>\n",
       "      <td>15</td>\n",
       "      <td>Grenoble</td>\n",
       "      <td>45.1875602</td>\n",
       "      <td>5.7357819</td>\n",
       "    </tr>\n",
       "    <tr>\n",
       "      <th>16</th>\n",
       "      <td>16</td>\n",
       "      <td>Lyon</td>\n",
       "      <td>45.7578137</td>\n",
       "      <td>4.8320114</td>\n",
       "    </tr>\n",
       "    <tr>\n",
       "      <th>17</th>\n",
       "      <td>17</td>\n",
       "      <td>Gorges du Verdon</td>\n",
       "      <td>43.7496562</td>\n",
       "      <td>6.3285616</td>\n",
       "    </tr>\n",
       "    <tr>\n",
       "      <th>18</th>\n",
       "      <td>18</td>\n",
       "      <td>Bormes les Mimosas</td>\n",
       "      <td>43.1506968</td>\n",
       "      <td>6.3419285</td>\n",
       "    </tr>\n",
       "    <tr>\n",
       "      <th>19</th>\n",
       "      <td>19</td>\n",
       "      <td>Cassis</td>\n",
       "      <td>43.2140359</td>\n",
       "      <td>5.5396318</td>\n",
       "    </tr>\n",
       "    <tr>\n",
       "      <th>20</th>\n",
       "      <td>20</td>\n",
       "      <td>Marseille</td>\n",
       "      <td>43.2961743</td>\n",
       "      <td>5.3699525</td>\n",
       "    </tr>\n",
       "    <tr>\n",
       "      <th>21</th>\n",
       "      <td>21</td>\n",
       "      <td>Aix en Provence</td>\n",
       "      <td>43.5298424</td>\n",
       "      <td>5.4474738</td>\n",
       "    </tr>\n",
       "    <tr>\n",
       "      <th>22</th>\n",
       "      <td>22</td>\n",
       "      <td>Avignon</td>\n",
       "      <td>43.9492493</td>\n",
       "      <td>4.8059012</td>\n",
       "    </tr>\n",
       "    <tr>\n",
       "      <th>23</th>\n",
       "      <td>23</td>\n",
       "      <td>Uzes</td>\n",
       "      <td>44.0121279</td>\n",
       "      <td>4.4196718</td>\n",
       "    </tr>\n",
       "    <tr>\n",
       "      <th>24</th>\n",
       "      <td>24</td>\n",
       "      <td>Nimes</td>\n",
       "      <td>43.8374249</td>\n",
       "      <td>4.3600687</td>\n",
       "    </tr>\n",
       "    <tr>\n",
       "      <th>25</th>\n",
       "      <td>25</td>\n",
       "      <td>Aigues Mortes</td>\n",
       "      <td>43.5658225</td>\n",
       "      <td>4.1912837</td>\n",
       "    </tr>\n",
       "    <tr>\n",
       "      <th>26</th>\n",
       "      <td>26</td>\n",
       "      <td>Saintes Maries de la mer</td>\n",
       "      <td>43.4522771</td>\n",
       "      <td>4.4287172</td>\n",
       "    </tr>\n",
       "    <tr>\n",
       "      <th>27</th>\n",
       "      <td>27</td>\n",
       "      <td>Collioure</td>\n",
       "      <td>42.52505</td>\n",
       "      <td>3.0831554</td>\n",
       "    </tr>\n",
       "    <tr>\n",
       "      <th>28</th>\n",
       "      <td>28</td>\n",
       "      <td>Carcassonne</td>\n",
       "      <td>43.2130358</td>\n",
       "      <td>2.3491069</td>\n",
       "    </tr>\n",
       "    <tr>\n",
       "      <th>29</th>\n",
       "      <td>29</td>\n",
       "      <td>Ariege</td>\n",
       "      <td>42.9455368</td>\n",
       "      <td>1.4065544156065486</td>\n",
       "    </tr>\n",
       "    <tr>\n",
       "      <th>30</th>\n",
       "      <td>30</td>\n",
       "      <td>Toulouse</td>\n",
       "      <td>43.6044622</td>\n",
       "      <td>1.4442469</td>\n",
       "    </tr>\n",
       "    <tr>\n",
       "      <th>31</th>\n",
       "      <td>31</td>\n",
       "      <td>Montauban</td>\n",
       "      <td>44.0175835</td>\n",
       "      <td>1.3549991</td>\n",
       "    </tr>\n",
       "    <tr>\n",
       "      <th>32</th>\n",
       "      <td>32</td>\n",
       "      <td>Biarritz</td>\n",
       "      <td>43.4832523</td>\n",
       "      <td>-1.5592776</td>\n",
       "    </tr>\n",
       "    <tr>\n",
       "      <th>33</th>\n",
       "      <td>33</td>\n",
       "      <td>Bayonne</td>\n",
       "      <td>43.4945144</td>\n",
       "      <td>-1.4736657</td>\n",
       "    </tr>\n",
       "    <tr>\n",
       "      <th>34</th>\n",
       "      <td>34</td>\n",
       "      <td>La Rochelle</td>\n",
       "      <td>46.1591126</td>\n",
       "      <td>-1.1520434</td>\n",
       "    </tr>\n",
       "  </tbody>\n",
       "</table>\n",
       "</div>"
      ],
      "text/plain": [
       "   id_city                          City         lat                 lon\n",
       "0        0             Mont Saint Michel  48.6359541  -1.511459954959514\n",
       "1        1                       St Malo   48.649518          -2.0260409\n",
       "2        2                        Bayeux  49.2764624          -0.7024738\n",
       "3        3                      Le Havre  49.4938975           0.1079732\n",
       "4        4                         Rouen  49.4404591           1.0939658\n",
       "5        5                         Paris  48.8588897  2.3200410217200766\n",
       "6        6                        Amiens  49.8941708           2.2956951\n",
       "7        7                         Lille  50.6365654           3.0635282\n",
       "8        8                    Strasbourg   48.584614           7.7507127\n",
       "9        9  Chateau du Haut Koenigsbourg  48.2495226           7.3454923\n",
       "10      10                        Colmar  48.0777517           7.3579641\n",
       "11      11                     Eguisheim  48.0447968           7.3079618\n",
       "12      12                      Besancon  47.2380222           6.0243622\n",
       "13      13                         Dijon  47.3215806           5.0414701\n",
       "14      14                        Annecy  45.8992348           6.1288847\n",
       "15      15                      Grenoble  45.1875602           5.7357819\n",
       "16      16                          Lyon  45.7578137           4.8320114\n",
       "17      17              Gorges du Verdon  43.7496562           6.3285616\n",
       "18      18            Bormes les Mimosas  43.1506968           6.3419285\n",
       "19      19                        Cassis  43.2140359           5.5396318\n",
       "20      20                     Marseille  43.2961743           5.3699525\n",
       "21      21               Aix en Provence  43.5298424           5.4474738\n",
       "22      22                       Avignon  43.9492493           4.8059012\n",
       "23      23                          Uzes  44.0121279           4.4196718\n",
       "24      24                         Nimes  43.8374249           4.3600687\n",
       "25      25                 Aigues Mortes  43.5658225           4.1912837\n",
       "26      26      Saintes Maries de la mer  43.4522771           4.4287172\n",
       "27      27                     Collioure    42.52505           3.0831554\n",
       "28      28                   Carcassonne  43.2130358           2.3491069\n",
       "29      29                        Ariege  42.9455368  1.4065544156065486\n",
       "30      30                      Toulouse  43.6044622           1.4442469\n",
       "31      31                     Montauban  44.0175835           1.3549991\n",
       "32      32                      Biarritz  43.4832523          -1.5592776\n",
       "33      33                       Bayonne  43.4945144          -1.4736657\n",
       "34      34                   La Rochelle  46.1591126          -1.1520434"
      ]
     },
     "execution_count": 7,
     "metadata": {},
     "output_type": "execute_result"
    }
   ],
   "source": [
    "df_cities"
   ]
  },
  {
   "cell_type": "code",
   "execution_count": 8,
   "metadata": {},
   "outputs": [],
   "source": [
    "df_cities['lat'] = df_cities['lat'].astype('float')\n",
    "df_cities['lon'] = df_cities['lon'].astype('float')"
   ]
  },
  {
   "attachments": {},
   "cell_type": "markdown",
   "metadata": {},
   "source": [
    "# 2/ Getting the weather of all the cities"
   ]
  },
  {
   "cell_type": "code",
   "execution_count": 9,
   "metadata": {},
   "outputs": [
    {
     "data": {
      "text/plain": [
       "\"\\nparam_weather = {'lat' : df_cities.loc[16, 'lat'], 'lon' : df_cities.loc[16, 'lon'], 'exclude' : 'current, minutely, hourly', 'appid' : '21bf422d2e2df0d56d5799f8ea7b1670'}\\nr = requests.get('https://api.openweathermap.org/data/2.5/onecall', params = param_weather)\\nresult = json.loads(r.content)\\nresult\\n\""
      ]
     },
     "execution_count": 9,
     "metadata": {},
     "output_type": "execute_result"
    }
   ],
   "source": [
    "'''\n",
    "param_weather = {'lat' : df_cities.loc[16, 'lat'], 'lon' : df_cities.loc[16, 'lon'], 'exclude' : 'current, minutely, hourly', 'appid' : 'xxxxxx'}\n",
    "r = requests.get('https://api.openweathermap.org/data/2.5/onecall', params = param_weather)\n",
    "result = json.loads(r.content)\n",
    "result\n",
    "'''"
   ]
  },
  {
   "cell_type": "code",
   "execution_count": 10,
   "metadata": {},
   "outputs": [
    {
     "data": {
      "text/plain": [
       "\"\\nr = requests.get('https://api.openweathermap.org/data/2.5/weather?q=Lyon&APPID=21bf422d2e2df0d56d5799f8ea7b1670')\\nresult = json.loads(r.content)\\nresult\\n\""
      ]
     },
     "execution_count": 10,
     "metadata": {},
     "output_type": "execute_result"
    }
   ],
   "source": [
    "'''\n",
    "r = requests.get('https://api.openweathermap.org/data/2.5/weather?q=Lyon&APPID=xxxxxx')\n",
    "result = json.loads(r.content)\n",
    "result\n",
    "'''"
   ]
  },
  {
   "cell_type": "code",
   "execution_count": 9,
   "metadata": {},
   "outputs": [],
   "source": [
    "# API used for the project : open-meteo.com\n",
    "\n",
    "for i in range(len(list_cities)) : # loop over the list of cities\n",
    "    r = requests.get('https://api.open-meteo.com/v1/forecast?latitude={}&longitude={}&daily=weathercode,temperature_2m_max,temperature_2m_min,precipitation_sum,windspeed_10m_max,winddirection_10m_dominant&timezone=Europe%2FBerlin'.format(df_cities.loc[i,'lat'], df_cities.loc[i,'lon']))\n",
    "    result = json.loads(r.content)\n",
    "\n",
    "    for j in range(7) : # getting the daily forecast for temperatures, precipitation and wind for the next 7 days\n",
    "        df_cities.loc[i, f'temp_min{j+1}'] = result['daily']['temperature_2m_min'][j]\n",
    "        df_cities.loc[i, f'temp_max{j+1}'] = result['daily']['temperature_2m_max'][j]\n",
    "        df_cities.loc[i, f'precipitation{j+1}'] = result['daily']['precipitation_sum'][j]\n",
    "        df_cities.loc[i, f'wind{j+1}'] = result['daily']['windspeed_10m_max'][j]\n",
    "        df_cities.loc[i, f'wind_dir{j+1}'] = result['daily']['winddirection_10m_dominant'][j]\n",
    "        "
   ]
  },
  {
   "cell_type": "code",
   "execution_count": 10,
   "metadata": {},
   "outputs": [
    {
     "data": {
      "text/html": [
       "<div>\n",
       "<style scoped>\n",
       "    .dataframe tbody tr th:only-of-type {\n",
       "        vertical-align: middle;\n",
       "    }\n",
       "\n",
       "    .dataframe tbody tr th {\n",
       "        vertical-align: top;\n",
       "    }\n",
       "\n",
       "    .dataframe thead th {\n",
       "        text-align: right;\n",
       "    }\n",
       "</style>\n",
       "<table border=\"1\" class=\"dataframe\">\n",
       "  <thead>\n",
       "    <tr style=\"text-align: right;\">\n",
       "      <th></th>\n",
       "      <th>id_city</th>\n",
       "      <th>City</th>\n",
       "      <th>lat</th>\n",
       "      <th>lon</th>\n",
       "      <th>temp_min1</th>\n",
       "      <th>temp_max1</th>\n",
       "      <th>precipitation1</th>\n",
       "      <th>wind1</th>\n",
       "      <th>wind_dir1</th>\n",
       "      <th>temp_min2</th>\n",
       "      <th>...</th>\n",
       "      <th>temp_min6</th>\n",
       "      <th>temp_max6</th>\n",
       "      <th>precipitation6</th>\n",
       "      <th>wind6</th>\n",
       "      <th>wind_dir6</th>\n",
       "      <th>temp_min7</th>\n",
       "      <th>temp_max7</th>\n",
       "      <th>precipitation7</th>\n",
       "      <th>wind7</th>\n",
       "      <th>wind_dir7</th>\n",
       "    </tr>\n",
       "  </thead>\n",
       "  <tbody>\n",
       "    <tr>\n",
       "      <th>0</th>\n",
       "      <td>0</td>\n",
       "      <td>Mont Saint Michel</td>\n",
       "      <td>48.635954</td>\n",
       "      <td>-1.511460</td>\n",
       "      <td>6.8</td>\n",
       "      <td>12.0</td>\n",
       "      <td>5.4</td>\n",
       "      <td>31.2</td>\n",
       "      <td>189.0</td>\n",
       "      <td>12.3</td>\n",
       "      <td>...</td>\n",
       "      <td>6.5</td>\n",
       "      <td>10.2</td>\n",
       "      <td>1.3</td>\n",
       "      <td>25.5</td>\n",
       "      <td>215.0</td>\n",
       "      <td>5.7</td>\n",
       "      <td>11.6</td>\n",
       "      <td>6.6</td>\n",
       "      <td>41.6</td>\n",
       "      <td>265.0</td>\n",
       "    </tr>\n",
       "    <tr>\n",
       "      <th>1</th>\n",
       "      <td>1</td>\n",
       "      <td>St Malo</td>\n",
       "      <td>48.649518</td>\n",
       "      <td>-2.026041</td>\n",
       "      <td>6.2</td>\n",
       "      <td>12.1</td>\n",
       "      <td>2.6</td>\n",
       "      <td>41.5</td>\n",
       "      <td>195.0</td>\n",
       "      <td>12.5</td>\n",
       "      <td>...</td>\n",
       "      <td>6.2</td>\n",
       "      <td>10.5</td>\n",
       "      <td>0.5</td>\n",
       "      <td>25.5</td>\n",
       "      <td>220.0</td>\n",
       "      <td>5.8</td>\n",
       "      <td>11.8</td>\n",
       "      <td>5.7</td>\n",
       "      <td>38.5</td>\n",
       "      <td>262.0</td>\n",
       "    </tr>\n",
       "    <tr>\n",
       "      <th>2</th>\n",
       "      <td>2</td>\n",
       "      <td>Bayeux</td>\n",
       "      <td>49.276462</td>\n",
       "      <td>-0.702474</td>\n",
       "      <td>6.8</td>\n",
       "      <td>11.6</td>\n",
       "      <td>1.8</td>\n",
       "      <td>31.1</td>\n",
       "      <td>202.0</td>\n",
       "      <td>12.0</td>\n",
       "      <td>...</td>\n",
       "      <td>6.9</td>\n",
       "      <td>10.1</td>\n",
       "      <td>0.6</td>\n",
       "      <td>27.7</td>\n",
       "      <td>228.0</td>\n",
       "      <td>6.1</td>\n",
       "      <td>10.9</td>\n",
       "      <td>6.0</td>\n",
       "      <td>34.9</td>\n",
       "      <td>260.0</td>\n",
       "    </tr>\n",
       "    <tr>\n",
       "      <th>3</th>\n",
       "      <td>3</td>\n",
       "      <td>Le Havre</td>\n",
       "      <td>49.493898</td>\n",
       "      <td>0.107973</td>\n",
       "      <td>7.6</td>\n",
       "      <td>10.9</td>\n",
       "      <td>3.0</td>\n",
       "      <td>30.9</td>\n",
       "      <td>196.0</td>\n",
       "      <td>11.0</td>\n",
       "      <td>...</td>\n",
       "      <td>7.8</td>\n",
       "      <td>10.2</td>\n",
       "      <td>0.9</td>\n",
       "      <td>26.0</td>\n",
       "      <td>226.0</td>\n",
       "      <td>6.4</td>\n",
       "      <td>9.9</td>\n",
       "      <td>11.4</td>\n",
       "      <td>28.3</td>\n",
       "      <td>251.0</td>\n",
       "    </tr>\n",
       "    <tr>\n",
       "      <th>4</th>\n",
       "      <td>4</td>\n",
       "      <td>Rouen</td>\n",
       "      <td>49.440459</td>\n",
       "      <td>1.093966</td>\n",
       "      <td>6.3</td>\n",
       "      <td>10.6</td>\n",
       "      <td>2.9</td>\n",
       "      <td>19.8</td>\n",
       "      <td>191.0</td>\n",
       "      <td>10.8</td>\n",
       "      <td>...</td>\n",
       "      <td>6.4</td>\n",
       "      <td>10.4</td>\n",
       "      <td>2.2</td>\n",
       "      <td>19.1</td>\n",
       "      <td>218.0</td>\n",
       "      <td>5.4</td>\n",
       "      <td>10.7</td>\n",
       "      <td>9.6</td>\n",
       "      <td>25.7</td>\n",
       "      <td>241.0</td>\n",
       "    </tr>\n",
       "    <tr>\n",
       "      <th>5</th>\n",
       "      <td>5</td>\n",
       "      <td>Paris</td>\n",
       "      <td>48.858890</td>\n",
       "      <td>2.320041</td>\n",
       "      <td>5.2</td>\n",
       "      <td>9.0</td>\n",
       "      <td>1.6</td>\n",
       "      <td>15.2</td>\n",
       "      <td>189.0</td>\n",
       "      <td>9.0</td>\n",
       "      <td>...</td>\n",
       "      <td>8.4</td>\n",
       "      <td>10.4</td>\n",
       "      <td>8.1</td>\n",
       "      <td>18.7</td>\n",
       "      <td>215.0</td>\n",
       "      <td>5.5</td>\n",
       "      <td>10.6</td>\n",
       "      <td>5.1</td>\n",
       "      <td>22.1</td>\n",
       "      <td>234.0</td>\n",
       "    </tr>\n",
       "    <tr>\n",
       "      <th>6</th>\n",
       "      <td>6</td>\n",
       "      <td>Amiens</td>\n",
       "      <td>49.894171</td>\n",
       "      <td>2.295695</td>\n",
       "      <td>5.1</td>\n",
       "      <td>10.7</td>\n",
       "      <td>1.6</td>\n",
       "      <td>20.9</td>\n",
       "      <td>195.0</td>\n",
       "      <td>9.8</td>\n",
       "      <td>...</td>\n",
       "      <td>7.0</td>\n",
       "      <td>10.1</td>\n",
       "      <td>2.5</td>\n",
       "      <td>27.2</td>\n",
       "      <td>218.0</td>\n",
       "      <td>5.5</td>\n",
       "      <td>6.7</td>\n",
       "      <td>8.1</td>\n",
       "      <td>25.9</td>\n",
       "      <td>218.0</td>\n",
       "    </tr>\n",
       "    <tr>\n",
       "      <th>7</th>\n",
       "      <td>7</td>\n",
       "      <td>Lille</td>\n",
       "      <td>50.636565</td>\n",
       "      <td>3.063528</td>\n",
       "      <td>4.7</td>\n",
       "      <td>10.1</td>\n",
       "      <td>0.9</td>\n",
       "      <td>25.2</td>\n",
       "      <td>191.0</td>\n",
       "      <td>9.0</td>\n",
       "      <td>...</td>\n",
       "      <td>6.7</td>\n",
       "      <td>9.6</td>\n",
       "      <td>3.3</td>\n",
       "      <td>27.4</td>\n",
       "      <td>208.0</td>\n",
       "      <td>5.1</td>\n",
       "      <td>6.6</td>\n",
       "      <td>9.0</td>\n",
       "      <td>16.0</td>\n",
       "      <td>208.0</td>\n",
       "    </tr>\n",
       "    <tr>\n",
       "      <th>8</th>\n",
       "      <td>8</td>\n",
       "      <td>Strasbourg</td>\n",
       "      <td>48.584614</td>\n",
       "      <td>7.750713</td>\n",
       "      <td>2.6</td>\n",
       "      <td>10.3</td>\n",
       "      <td>0.0</td>\n",
       "      <td>9.2</td>\n",
       "      <td>193.0</td>\n",
       "      <td>4.7</td>\n",
       "      <td>...</td>\n",
       "      <td>5.2</td>\n",
       "      <td>10.1</td>\n",
       "      <td>2.4</td>\n",
       "      <td>12.0</td>\n",
       "      <td>187.0</td>\n",
       "      <td>6.1</td>\n",
       "      <td>9.2</td>\n",
       "      <td>11.2</td>\n",
       "      <td>18.6</td>\n",
       "      <td>194.0</td>\n",
       "    </tr>\n",
       "    <tr>\n",
       "      <th>9</th>\n",
       "      <td>9</td>\n",
       "      <td>Chateau du Haut Koenigsbourg</td>\n",
       "      <td>48.249523</td>\n",
       "      <td>7.345492</td>\n",
       "      <td>2.2</td>\n",
       "      <td>5.9</td>\n",
       "      <td>0.0</td>\n",
       "      <td>8.4</td>\n",
       "      <td>275.0</td>\n",
       "      <td>2.1</td>\n",
       "      <td>...</td>\n",
       "      <td>5.7</td>\n",
       "      <td>7.6</td>\n",
       "      <td>5.5</td>\n",
       "      <td>17.8</td>\n",
       "      <td>221.0</td>\n",
       "      <td>4.0</td>\n",
       "      <td>6.6</td>\n",
       "      <td>12.7</td>\n",
       "      <td>22.7</td>\n",
       "      <td>242.0</td>\n",
       "    </tr>\n",
       "    <tr>\n",
       "      <th>10</th>\n",
       "      <td>10</td>\n",
       "      <td>Colmar</td>\n",
       "      <td>48.077752</td>\n",
       "      <td>7.357964</td>\n",
       "      <td>2.4</td>\n",
       "      <td>10.2</td>\n",
       "      <td>0.1</td>\n",
       "      <td>9.0</td>\n",
       "      <td>210.0</td>\n",
       "      <td>1.9</td>\n",
       "      <td>...</td>\n",
       "      <td>5.6</td>\n",
       "      <td>10.9</td>\n",
       "      <td>3.2</td>\n",
       "      <td>14.7</td>\n",
       "      <td>189.0</td>\n",
       "      <td>6.8</td>\n",
       "      <td>9.7</td>\n",
       "      <td>9.1</td>\n",
       "      <td>20.7</td>\n",
       "      <td>191.0</td>\n",
       "    </tr>\n",
       "    <tr>\n",
       "      <th>11</th>\n",
       "      <td>11</td>\n",
       "      <td>Eguisheim</td>\n",
       "      <td>48.044797</td>\n",
       "      <td>7.307962</td>\n",
       "      <td>5.3</td>\n",
       "      <td>10.0</td>\n",
       "      <td>0.0</td>\n",
       "      <td>9.5</td>\n",
       "      <td>240.0</td>\n",
       "      <td>4.8</td>\n",
       "      <td>...</td>\n",
       "      <td>7.1</td>\n",
       "      <td>10.9</td>\n",
       "      <td>3.2</td>\n",
       "      <td>15.0</td>\n",
       "      <td>192.0</td>\n",
       "      <td>6.8</td>\n",
       "      <td>9.7</td>\n",
       "      <td>9.1</td>\n",
       "      <td>20.7</td>\n",
       "      <td>191.0</td>\n",
       "    </tr>\n",
       "    <tr>\n",
       "      <th>12</th>\n",
       "      <td>12</td>\n",
       "      <td>Besancon</td>\n",
       "      <td>47.238022</td>\n",
       "      <td>6.024362</td>\n",
       "      <td>5.4</td>\n",
       "      <td>10.3</td>\n",
       "      <td>1.1</td>\n",
       "      <td>6.1</td>\n",
       "      <td>234.0</td>\n",
       "      <td>5.1</td>\n",
       "      <td>...</td>\n",
       "      <td>9.0</td>\n",
       "      <td>10.7</td>\n",
       "      <td>13.7</td>\n",
       "      <td>30.3</td>\n",
       "      <td>206.0</td>\n",
       "      <td>7.8</td>\n",
       "      <td>10.1</td>\n",
       "      <td>14.8</td>\n",
       "      <td>42.3</td>\n",
       "      <td>212.0</td>\n",
       "    </tr>\n",
       "    <tr>\n",
       "      <th>13</th>\n",
       "      <td>13</td>\n",
       "      <td>Dijon</td>\n",
       "      <td>47.321581</td>\n",
       "      <td>5.041470</td>\n",
       "      <td>2.5</td>\n",
       "      <td>9.0</td>\n",
       "      <td>0.0</td>\n",
       "      <td>6.6</td>\n",
       "      <td>224.0</td>\n",
       "      <td>2.4</td>\n",
       "      <td>...</td>\n",
       "      <td>8.1</td>\n",
       "      <td>9.5</td>\n",
       "      <td>13.2</td>\n",
       "      <td>21.3</td>\n",
       "      <td>198.0</td>\n",
       "      <td>7.6</td>\n",
       "      <td>10.0</td>\n",
       "      <td>8.4</td>\n",
       "      <td>31.6</td>\n",
       "      <td>217.0</td>\n",
       "    </tr>\n",
       "    <tr>\n",
       "      <th>14</th>\n",
       "      <td>14</td>\n",
       "      <td>Annecy</td>\n",
       "      <td>45.899235</td>\n",
       "      <td>6.128885</td>\n",
       "      <td>5.7</td>\n",
       "      <td>9.4</td>\n",
       "      <td>2.6</td>\n",
       "      <td>4.2</td>\n",
       "      <td>318.0</td>\n",
       "      <td>3.7</td>\n",
       "      <td>...</td>\n",
       "      <td>5.0</td>\n",
       "      <td>8.6</td>\n",
       "      <td>2.8</td>\n",
       "      <td>6.6</td>\n",
       "      <td>173.0</td>\n",
       "      <td>5.7</td>\n",
       "      <td>8.6</td>\n",
       "      <td>32.5</td>\n",
       "      <td>16.8</td>\n",
       "      <td>198.0</td>\n",
       "    </tr>\n",
       "    <tr>\n",
       "      <th>15</th>\n",
       "      <td>15</td>\n",
       "      <td>Grenoble</td>\n",
       "      <td>45.187560</td>\n",
       "      <td>5.735782</td>\n",
       "      <td>8.9</td>\n",
       "      <td>11.5</td>\n",
       "      <td>0.8</td>\n",
       "      <td>5.0</td>\n",
       "      <td>9.0</td>\n",
       "      <td>7.2</td>\n",
       "      <td>...</td>\n",
       "      <td>8.1</td>\n",
       "      <td>12.0</td>\n",
       "      <td>1.9</td>\n",
       "      <td>8.2</td>\n",
       "      <td>199.0</td>\n",
       "      <td>9.1</td>\n",
       "      <td>11.4</td>\n",
       "      <td>16.1</td>\n",
       "      <td>14.9</td>\n",
       "      <td>202.0</td>\n",
       "    </tr>\n",
       "    <tr>\n",
       "      <th>16</th>\n",
       "      <td>16</td>\n",
       "      <td>Lyon</td>\n",
       "      <td>45.757814</td>\n",
       "      <td>4.832011</td>\n",
       "      <td>5.2</td>\n",
       "      <td>11.5</td>\n",
       "      <td>1.2</td>\n",
       "      <td>5.4</td>\n",
       "      <td>352.0</td>\n",
       "      <td>2.3</td>\n",
       "      <td>...</td>\n",
       "      <td>10.0</td>\n",
       "      <td>12.3</td>\n",
       "      <td>1.2</td>\n",
       "      <td>24.5</td>\n",
       "      <td>178.0</td>\n",
       "      <td>9.0</td>\n",
       "      <td>11.8</td>\n",
       "      <td>9.9</td>\n",
       "      <td>21.9</td>\n",
       "      <td>180.0</td>\n",
       "    </tr>\n",
       "    <tr>\n",
       "      <th>17</th>\n",
       "      <td>17</td>\n",
       "      <td>Gorges du Verdon</td>\n",
       "      <td>43.749656</td>\n",
       "      <td>6.328562</td>\n",
       "      <td>5.0</td>\n",
       "      <td>10.3</td>\n",
       "      <td>0.0</td>\n",
       "      <td>6.2</td>\n",
       "      <td>25.0</td>\n",
       "      <td>3.3</td>\n",
       "      <td>...</td>\n",
       "      <td>2.8</td>\n",
       "      <td>7.6</td>\n",
       "      <td>3.9</td>\n",
       "      <td>12.1</td>\n",
       "      <td>92.0</td>\n",
       "      <td>3.8</td>\n",
       "      <td>9.3</td>\n",
       "      <td>6.6</td>\n",
       "      <td>30.7</td>\n",
       "      <td>310.0</td>\n",
       "    </tr>\n",
       "    <tr>\n",
       "      <th>18</th>\n",
       "      <td>18</td>\n",
       "      <td>Bormes les Mimosas</td>\n",
       "      <td>43.150697</td>\n",
       "      <td>6.341928</td>\n",
       "      <td>10.5</td>\n",
       "      <td>15.8</td>\n",
       "      <td>0.0</td>\n",
       "      <td>8.5</td>\n",
       "      <td>70.0</td>\n",
       "      <td>8.4</td>\n",
       "      <td>...</td>\n",
       "      <td>9.2</td>\n",
       "      <td>13.4</td>\n",
       "      <td>0.8</td>\n",
       "      <td>8.4</td>\n",
       "      <td>246.0</td>\n",
       "      <td>8.7</td>\n",
       "      <td>13.1</td>\n",
       "      <td>0.6</td>\n",
       "      <td>23.9</td>\n",
       "      <td>276.0</td>\n",
       "    </tr>\n",
       "    <tr>\n",
       "      <th>19</th>\n",
       "      <td>19</td>\n",
       "      <td>Cassis</td>\n",
       "      <td>43.214036</td>\n",
       "      <td>5.539632</td>\n",
       "      <td>11.1</td>\n",
       "      <td>16.3</td>\n",
       "      <td>0.0</td>\n",
       "      <td>10.3</td>\n",
       "      <td>26.0</td>\n",
       "      <td>7.2</td>\n",
       "      <td>...</td>\n",
       "      <td>13.0</td>\n",
       "      <td>14.6</td>\n",
       "      <td>0.0</td>\n",
       "      <td>17.9</td>\n",
       "      <td>145.0</td>\n",
       "      <td>12.3</td>\n",
       "      <td>14.8</td>\n",
       "      <td>1.8</td>\n",
       "      <td>32.9</td>\n",
       "      <td>282.0</td>\n",
       "    </tr>\n",
       "  </tbody>\n",
       "</table>\n",
       "<p>20 rows × 39 columns</p>\n",
       "</div>"
      ],
      "text/plain": [
       "   id_city                          City        lat       lon  temp_min1  \\\n",
       "0        0             Mont Saint Michel  48.635954 -1.511460        6.8   \n",
       "1        1                       St Malo  48.649518 -2.026041        6.2   \n",
       "2        2                        Bayeux  49.276462 -0.702474        6.8   \n",
       "3        3                      Le Havre  49.493898  0.107973        7.6   \n",
       "4        4                         Rouen  49.440459  1.093966        6.3   \n",
       "5        5                         Paris  48.858890  2.320041        5.2   \n",
       "6        6                        Amiens  49.894171  2.295695        5.1   \n",
       "7        7                         Lille  50.636565  3.063528        4.7   \n",
       "8        8                    Strasbourg  48.584614  7.750713        2.6   \n",
       "9        9  Chateau du Haut Koenigsbourg  48.249523  7.345492        2.2   \n",
       "10      10                        Colmar  48.077752  7.357964        2.4   \n",
       "11      11                     Eguisheim  48.044797  7.307962        5.3   \n",
       "12      12                      Besancon  47.238022  6.024362        5.4   \n",
       "13      13                         Dijon  47.321581  5.041470        2.5   \n",
       "14      14                        Annecy  45.899235  6.128885        5.7   \n",
       "15      15                      Grenoble  45.187560  5.735782        8.9   \n",
       "16      16                          Lyon  45.757814  4.832011        5.2   \n",
       "17      17              Gorges du Verdon  43.749656  6.328562        5.0   \n",
       "18      18            Bormes les Mimosas  43.150697  6.341928       10.5   \n",
       "19      19                        Cassis  43.214036  5.539632       11.1   \n",
       "\n",
       "    temp_max1  precipitation1  wind1  wind_dir1  temp_min2  ...  temp_min6  \\\n",
       "0        12.0             5.4   31.2      189.0       12.3  ...        6.5   \n",
       "1        12.1             2.6   41.5      195.0       12.5  ...        6.2   \n",
       "2        11.6             1.8   31.1      202.0       12.0  ...        6.9   \n",
       "3        10.9             3.0   30.9      196.0       11.0  ...        7.8   \n",
       "4        10.6             2.9   19.8      191.0       10.8  ...        6.4   \n",
       "5         9.0             1.6   15.2      189.0        9.0  ...        8.4   \n",
       "6        10.7             1.6   20.9      195.0        9.8  ...        7.0   \n",
       "7        10.1             0.9   25.2      191.0        9.0  ...        6.7   \n",
       "8        10.3             0.0    9.2      193.0        4.7  ...        5.2   \n",
       "9         5.9             0.0    8.4      275.0        2.1  ...        5.7   \n",
       "10       10.2             0.1    9.0      210.0        1.9  ...        5.6   \n",
       "11       10.0             0.0    9.5      240.0        4.8  ...        7.1   \n",
       "12       10.3             1.1    6.1      234.0        5.1  ...        9.0   \n",
       "13        9.0             0.0    6.6      224.0        2.4  ...        8.1   \n",
       "14        9.4             2.6    4.2      318.0        3.7  ...        5.0   \n",
       "15       11.5             0.8    5.0        9.0        7.2  ...        8.1   \n",
       "16       11.5             1.2    5.4      352.0        2.3  ...       10.0   \n",
       "17       10.3             0.0    6.2       25.0        3.3  ...        2.8   \n",
       "18       15.8             0.0    8.5       70.0        8.4  ...        9.2   \n",
       "19       16.3             0.0   10.3       26.0        7.2  ...       13.0   \n",
       "\n",
       "    temp_max6  precipitation6  wind6  wind_dir6  temp_min7  temp_max7  \\\n",
       "0        10.2             1.3   25.5      215.0        5.7       11.6   \n",
       "1        10.5             0.5   25.5      220.0        5.8       11.8   \n",
       "2        10.1             0.6   27.7      228.0        6.1       10.9   \n",
       "3        10.2             0.9   26.0      226.0        6.4        9.9   \n",
       "4        10.4             2.2   19.1      218.0        5.4       10.7   \n",
       "5        10.4             8.1   18.7      215.0        5.5       10.6   \n",
       "6        10.1             2.5   27.2      218.0        5.5        6.7   \n",
       "7         9.6             3.3   27.4      208.0        5.1        6.6   \n",
       "8        10.1             2.4   12.0      187.0        6.1        9.2   \n",
       "9         7.6             5.5   17.8      221.0        4.0        6.6   \n",
       "10       10.9             3.2   14.7      189.0        6.8        9.7   \n",
       "11       10.9             3.2   15.0      192.0        6.8        9.7   \n",
       "12       10.7            13.7   30.3      206.0        7.8       10.1   \n",
       "13        9.5            13.2   21.3      198.0        7.6       10.0   \n",
       "14        8.6             2.8    6.6      173.0        5.7        8.6   \n",
       "15       12.0             1.9    8.2      199.0        9.1       11.4   \n",
       "16       12.3             1.2   24.5      178.0        9.0       11.8   \n",
       "17        7.6             3.9   12.1       92.0        3.8        9.3   \n",
       "18       13.4             0.8    8.4      246.0        8.7       13.1   \n",
       "19       14.6             0.0   17.9      145.0       12.3       14.8   \n",
       "\n",
       "    precipitation7  wind7  wind_dir7  \n",
       "0              6.6   41.6      265.0  \n",
       "1              5.7   38.5      262.0  \n",
       "2              6.0   34.9      260.0  \n",
       "3             11.4   28.3      251.0  \n",
       "4              9.6   25.7      241.0  \n",
       "5              5.1   22.1      234.0  \n",
       "6              8.1   25.9      218.0  \n",
       "7              9.0   16.0      208.0  \n",
       "8             11.2   18.6      194.0  \n",
       "9             12.7   22.7      242.0  \n",
       "10             9.1   20.7      191.0  \n",
       "11             9.1   20.7      191.0  \n",
       "12            14.8   42.3      212.0  \n",
       "13             8.4   31.6      217.0  \n",
       "14            32.5   16.8      198.0  \n",
       "15            16.1   14.9      202.0  \n",
       "16             9.9   21.9      180.0  \n",
       "17             6.6   30.7      310.0  \n",
       "18             0.6   23.9      276.0  \n",
       "19             1.8   32.9      282.0  \n",
       "\n",
       "[20 rows x 39 columns]"
      ]
     },
     "execution_count": 10,
     "metadata": {},
     "output_type": "execute_result"
    }
   ],
   "source": [
    "df_cities.head(20)"
   ]
  },
  {
   "cell_type": "code",
   "execution_count": 11,
   "metadata": {},
   "outputs": [],
   "source": [
    "# convert wind direction in degrees into north, east, south or west\n",
    "\n",
    "def wind_direction(num) :\n",
    "    if (315 < num <= 360) | (0 <= num <= 45) :\n",
    "        return 'North'\n",
    "    elif 45 < num <= 135 :\n",
    "        return 'East'\n",
    "    elif 135 < num <= 225 :\n",
    "        return 'South'\n",
    "    elif 225 < num <= 315 :\n",
    "        return 'West'\n",
    "    else :\n",
    "        return 'error'"
   ]
  },
  {
   "cell_type": "code",
   "execution_count": 12,
   "metadata": {},
   "outputs": [],
   "source": [
    "for j in range(7) :\n",
    "    df_cities[f'wind_dir{j+1}'] = df_cities[f'wind_dir{j+1}'].apply(wind_direction)"
   ]
  },
  {
   "cell_type": "code",
   "execution_count": 13,
   "metadata": {},
   "outputs": [
    {
     "data": {
      "text/html": [
       "<div>\n",
       "<style scoped>\n",
       "    .dataframe tbody tr th:only-of-type {\n",
       "        vertical-align: middle;\n",
       "    }\n",
       "\n",
       "    .dataframe tbody tr th {\n",
       "        vertical-align: top;\n",
       "    }\n",
       "\n",
       "    .dataframe thead th {\n",
       "        text-align: right;\n",
       "    }\n",
       "</style>\n",
       "<table border=\"1\" class=\"dataframe\">\n",
       "  <thead>\n",
       "    <tr style=\"text-align: right;\">\n",
       "      <th></th>\n",
       "      <th>id_city</th>\n",
       "      <th>City</th>\n",
       "      <th>lat</th>\n",
       "      <th>lon</th>\n",
       "      <th>temp_min1</th>\n",
       "      <th>temp_max1</th>\n",
       "      <th>precipitation1</th>\n",
       "      <th>wind1</th>\n",
       "      <th>wind_dir1</th>\n",
       "      <th>temp_min2</th>\n",
       "      <th>...</th>\n",
       "      <th>temp_min6</th>\n",
       "      <th>temp_max6</th>\n",
       "      <th>precipitation6</th>\n",
       "      <th>wind6</th>\n",
       "      <th>wind_dir6</th>\n",
       "      <th>temp_min7</th>\n",
       "      <th>temp_max7</th>\n",
       "      <th>precipitation7</th>\n",
       "      <th>wind7</th>\n",
       "      <th>wind_dir7</th>\n",
       "    </tr>\n",
       "  </thead>\n",
       "  <tbody>\n",
       "    <tr>\n",
       "      <th>0</th>\n",
       "      <td>0</td>\n",
       "      <td>Mont Saint Michel</td>\n",
       "      <td>48.635954</td>\n",
       "      <td>-1.511460</td>\n",
       "      <td>6.8</td>\n",
       "      <td>12.0</td>\n",
       "      <td>5.4</td>\n",
       "      <td>31.2</td>\n",
       "      <td>South</td>\n",
       "      <td>12.3</td>\n",
       "      <td>...</td>\n",
       "      <td>6.5</td>\n",
       "      <td>10.2</td>\n",
       "      <td>1.3</td>\n",
       "      <td>25.5</td>\n",
       "      <td>South</td>\n",
       "      <td>5.7</td>\n",
       "      <td>11.6</td>\n",
       "      <td>6.6</td>\n",
       "      <td>41.6</td>\n",
       "      <td>West</td>\n",
       "    </tr>\n",
       "    <tr>\n",
       "      <th>1</th>\n",
       "      <td>1</td>\n",
       "      <td>St Malo</td>\n",
       "      <td>48.649518</td>\n",
       "      <td>-2.026041</td>\n",
       "      <td>6.2</td>\n",
       "      <td>12.1</td>\n",
       "      <td>2.6</td>\n",
       "      <td>41.5</td>\n",
       "      <td>South</td>\n",
       "      <td>12.5</td>\n",
       "      <td>...</td>\n",
       "      <td>6.2</td>\n",
       "      <td>10.5</td>\n",
       "      <td>0.5</td>\n",
       "      <td>25.5</td>\n",
       "      <td>South</td>\n",
       "      <td>5.8</td>\n",
       "      <td>11.8</td>\n",
       "      <td>5.7</td>\n",
       "      <td>38.5</td>\n",
       "      <td>West</td>\n",
       "    </tr>\n",
       "    <tr>\n",
       "      <th>2</th>\n",
       "      <td>2</td>\n",
       "      <td>Bayeux</td>\n",
       "      <td>49.276462</td>\n",
       "      <td>-0.702474</td>\n",
       "      <td>6.8</td>\n",
       "      <td>11.6</td>\n",
       "      <td>1.8</td>\n",
       "      <td>31.1</td>\n",
       "      <td>South</td>\n",
       "      <td>12.0</td>\n",
       "      <td>...</td>\n",
       "      <td>6.9</td>\n",
       "      <td>10.1</td>\n",
       "      <td>0.6</td>\n",
       "      <td>27.7</td>\n",
       "      <td>West</td>\n",
       "      <td>6.1</td>\n",
       "      <td>10.9</td>\n",
       "      <td>6.0</td>\n",
       "      <td>34.9</td>\n",
       "      <td>West</td>\n",
       "    </tr>\n",
       "    <tr>\n",
       "      <th>3</th>\n",
       "      <td>3</td>\n",
       "      <td>Le Havre</td>\n",
       "      <td>49.493898</td>\n",
       "      <td>0.107973</td>\n",
       "      <td>7.6</td>\n",
       "      <td>10.9</td>\n",
       "      <td>3.0</td>\n",
       "      <td>30.9</td>\n",
       "      <td>South</td>\n",
       "      <td>11.0</td>\n",
       "      <td>...</td>\n",
       "      <td>7.8</td>\n",
       "      <td>10.2</td>\n",
       "      <td>0.9</td>\n",
       "      <td>26.0</td>\n",
       "      <td>West</td>\n",
       "      <td>6.4</td>\n",
       "      <td>9.9</td>\n",
       "      <td>11.4</td>\n",
       "      <td>28.3</td>\n",
       "      <td>West</td>\n",
       "    </tr>\n",
       "    <tr>\n",
       "      <th>4</th>\n",
       "      <td>4</td>\n",
       "      <td>Rouen</td>\n",
       "      <td>49.440459</td>\n",
       "      <td>1.093966</td>\n",
       "      <td>6.3</td>\n",
       "      <td>10.6</td>\n",
       "      <td>2.9</td>\n",
       "      <td>19.8</td>\n",
       "      <td>South</td>\n",
       "      <td>10.8</td>\n",
       "      <td>...</td>\n",
       "      <td>6.4</td>\n",
       "      <td>10.4</td>\n",
       "      <td>2.2</td>\n",
       "      <td>19.1</td>\n",
       "      <td>South</td>\n",
       "      <td>5.4</td>\n",
       "      <td>10.7</td>\n",
       "      <td>9.6</td>\n",
       "      <td>25.7</td>\n",
       "      <td>West</td>\n",
       "    </tr>\n",
       "    <tr>\n",
       "      <th>5</th>\n",
       "      <td>5</td>\n",
       "      <td>Paris</td>\n",
       "      <td>48.858890</td>\n",
       "      <td>2.320041</td>\n",
       "      <td>5.2</td>\n",
       "      <td>9.0</td>\n",
       "      <td>1.6</td>\n",
       "      <td>15.2</td>\n",
       "      <td>South</td>\n",
       "      <td>9.0</td>\n",
       "      <td>...</td>\n",
       "      <td>8.4</td>\n",
       "      <td>10.4</td>\n",
       "      <td>8.1</td>\n",
       "      <td>18.7</td>\n",
       "      <td>South</td>\n",
       "      <td>5.5</td>\n",
       "      <td>10.6</td>\n",
       "      <td>5.1</td>\n",
       "      <td>22.1</td>\n",
       "      <td>West</td>\n",
       "    </tr>\n",
       "    <tr>\n",
       "      <th>6</th>\n",
       "      <td>6</td>\n",
       "      <td>Amiens</td>\n",
       "      <td>49.894171</td>\n",
       "      <td>2.295695</td>\n",
       "      <td>5.1</td>\n",
       "      <td>10.7</td>\n",
       "      <td>1.6</td>\n",
       "      <td>20.9</td>\n",
       "      <td>South</td>\n",
       "      <td>9.8</td>\n",
       "      <td>...</td>\n",
       "      <td>7.0</td>\n",
       "      <td>10.1</td>\n",
       "      <td>2.5</td>\n",
       "      <td>27.2</td>\n",
       "      <td>South</td>\n",
       "      <td>5.5</td>\n",
       "      <td>6.7</td>\n",
       "      <td>8.1</td>\n",
       "      <td>25.9</td>\n",
       "      <td>South</td>\n",
       "    </tr>\n",
       "    <tr>\n",
       "      <th>7</th>\n",
       "      <td>7</td>\n",
       "      <td>Lille</td>\n",
       "      <td>50.636565</td>\n",
       "      <td>3.063528</td>\n",
       "      <td>4.7</td>\n",
       "      <td>10.1</td>\n",
       "      <td>0.9</td>\n",
       "      <td>25.2</td>\n",
       "      <td>South</td>\n",
       "      <td>9.0</td>\n",
       "      <td>...</td>\n",
       "      <td>6.7</td>\n",
       "      <td>9.6</td>\n",
       "      <td>3.3</td>\n",
       "      <td>27.4</td>\n",
       "      <td>South</td>\n",
       "      <td>5.1</td>\n",
       "      <td>6.6</td>\n",
       "      <td>9.0</td>\n",
       "      <td>16.0</td>\n",
       "      <td>South</td>\n",
       "    </tr>\n",
       "    <tr>\n",
       "      <th>8</th>\n",
       "      <td>8</td>\n",
       "      <td>Strasbourg</td>\n",
       "      <td>48.584614</td>\n",
       "      <td>7.750713</td>\n",
       "      <td>2.6</td>\n",
       "      <td>10.3</td>\n",
       "      <td>0.0</td>\n",
       "      <td>9.2</td>\n",
       "      <td>South</td>\n",
       "      <td>4.7</td>\n",
       "      <td>...</td>\n",
       "      <td>5.2</td>\n",
       "      <td>10.1</td>\n",
       "      <td>2.4</td>\n",
       "      <td>12.0</td>\n",
       "      <td>South</td>\n",
       "      <td>6.1</td>\n",
       "      <td>9.2</td>\n",
       "      <td>11.2</td>\n",
       "      <td>18.6</td>\n",
       "      <td>South</td>\n",
       "    </tr>\n",
       "    <tr>\n",
       "      <th>9</th>\n",
       "      <td>9</td>\n",
       "      <td>Chateau du Haut Koenigsbourg</td>\n",
       "      <td>48.249523</td>\n",
       "      <td>7.345492</td>\n",
       "      <td>2.2</td>\n",
       "      <td>5.9</td>\n",
       "      <td>0.0</td>\n",
       "      <td>8.4</td>\n",
       "      <td>West</td>\n",
       "      <td>2.1</td>\n",
       "      <td>...</td>\n",
       "      <td>5.7</td>\n",
       "      <td>7.6</td>\n",
       "      <td>5.5</td>\n",
       "      <td>17.8</td>\n",
       "      <td>South</td>\n",
       "      <td>4.0</td>\n",
       "      <td>6.6</td>\n",
       "      <td>12.7</td>\n",
       "      <td>22.7</td>\n",
       "      <td>West</td>\n",
       "    </tr>\n",
       "    <tr>\n",
       "      <th>10</th>\n",
       "      <td>10</td>\n",
       "      <td>Colmar</td>\n",
       "      <td>48.077752</td>\n",
       "      <td>7.357964</td>\n",
       "      <td>2.4</td>\n",
       "      <td>10.2</td>\n",
       "      <td>0.1</td>\n",
       "      <td>9.0</td>\n",
       "      <td>South</td>\n",
       "      <td>1.9</td>\n",
       "      <td>...</td>\n",
       "      <td>5.6</td>\n",
       "      <td>10.9</td>\n",
       "      <td>3.2</td>\n",
       "      <td>14.7</td>\n",
       "      <td>South</td>\n",
       "      <td>6.8</td>\n",
       "      <td>9.7</td>\n",
       "      <td>9.1</td>\n",
       "      <td>20.7</td>\n",
       "      <td>South</td>\n",
       "    </tr>\n",
       "    <tr>\n",
       "      <th>11</th>\n",
       "      <td>11</td>\n",
       "      <td>Eguisheim</td>\n",
       "      <td>48.044797</td>\n",
       "      <td>7.307962</td>\n",
       "      <td>5.3</td>\n",
       "      <td>10.0</td>\n",
       "      <td>0.0</td>\n",
       "      <td>9.5</td>\n",
       "      <td>West</td>\n",
       "      <td>4.8</td>\n",
       "      <td>...</td>\n",
       "      <td>7.1</td>\n",
       "      <td>10.9</td>\n",
       "      <td>3.2</td>\n",
       "      <td>15.0</td>\n",
       "      <td>South</td>\n",
       "      <td>6.8</td>\n",
       "      <td>9.7</td>\n",
       "      <td>9.1</td>\n",
       "      <td>20.7</td>\n",
       "      <td>South</td>\n",
       "    </tr>\n",
       "    <tr>\n",
       "      <th>12</th>\n",
       "      <td>12</td>\n",
       "      <td>Besancon</td>\n",
       "      <td>47.238022</td>\n",
       "      <td>6.024362</td>\n",
       "      <td>5.4</td>\n",
       "      <td>10.3</td>\n",
       "      <td>1.1</td>\n",
       "      <td>6.1</td>\n",
       "      <td>West</td>\n",
       "      <td>5.1</td>\n",
       "      <td>...</td>\n",
       "      <td>9.0</td>\n",
       "      <td>10.7</td>\n",
       "      <td>13.7</td>\n",
       "      <td>30.3</td>\n",
       "      <td>South</td>\n",
       "      <td>7.8</td>\n",
       "      <td>10.1</td>\n",
       "      <td>14.8</td>\n",
       "      <td>42.3</td>\n",
       "      <td>South</td>\n",
       "    </tr>\n",
       "    <tr>\n",
       "      <th>13</th>\n",
       "      <td>13</td>\n",
       "      <td>Dijon</td>\n",
       "      <td>47.321581</td>\n",
       "      <td>5.041470</td>\n",
       "      <td>2.5</td>\n",
       "      <td>9.0</td>\n",
       "      <td>0.0</td>\n",
       "      <td>6.6</td>\n",
       "      <td>South</td>\n",
       "      <td>2.4</td>\n",
       "      <td>...</td>\n",
       "      <td>8.1</td>\n",
       "      <td>9.5</td>\n",
       "      <td>13.2</td>\n",
       "      <td>21.3</td>\n",
       "      <td>South</td>\n",
       "      <td>7.6</td>\n",
       "      <td>10.0</td>\n",
       "      <td>8.4</td>\n",
       "      <td>31.6</td>\n",
       "      <td>South</td>\n",
       "    </tr>\n",
       "    <tr>\n",
       "      <th>14</th>\n",
       "      <td>14</td>\n",
       "      <td>Annecy</td>\n",
       "      <td>45.899235</td>\n",
       "      <td>6.128885</td>\n",
       "      <td>5.7</td>\n",
       "      <td>9.4</td>\n",
       "      <td>2.6</td>\n",
       "      <td>4.2</td>\n",
       "      <td>North</td>\n",
       "      <td>3.7</td>\n",
       "      <td>...</td>\n",
       "      <td>5.0</td>\n",
       "      <td>8.6</td>\n",
       "      <td>2.8</td>\n",
       "      <td>6.6</td>\n",
       "      <td>South</td>\n",
       "      <td>5.7</td>\n",
       "      <td>8.6</td>\n",
       "      <td>32.5</td>\n",
       "      <td>16.8</td>\n",
       "      <td>South</td>\n",
       "    </tr>\n",
       "    <tr>\n",
       "      <th>15</th>\n",
       "      <td>15</td>\n",
       "      <td>Grenoble</td>\n",
       "      <td>45.187560</td>\n",
       "      <td>5.735782</td>\n",
       "      <td>8.9</td>\n",
       "      <td>11.5</td>\n",
       "      <td>0.8</td>\n",
       "      <td>5.0</td>\n",
       "      <td>North</td>\n",
       "      <td>7.2</td>\n",
       "      <td>...</td>\n",
       "      <td>8.1</td>\n",
       "      <td>12.0</td>\n",
       "      <td>1.9</td>\n",
       "      <td>8.2</td>\n",
       "      <td>South</td>\n",
       "      <td>9.1</td>\n",
       "      <td>11.4</td>\n",
       "      <td>16.1</td>\n",
       "      <td>14.9</td>\n",
       "      <td>South</td>\n",
       "    </tr>\n",
       "    <tr>\n",
       "      <th>16</th>\n",
       "      <td>16</td>\n",
       "      <td>Lyon</td>\n",
       "      <td>45.757814</td>\n",
       "      <td>4.832011</td>\n",
       "      <td>5.2</td>\n",
       "      <td>11.5</td>\n",
       "      <td>1.2</td>\n",
       "      <td>5.4</td>\n",
       "      <td>North</td>\n",
       "      <td>2.3</td>\n",
       "      <td>...</td>\n",
       "      <td>10.0</td>\n",
       "      <td>12.3</td>\n",
       "      <td>1.2</td>\n",
       "      <td>24.5</td>\n",
       "      <td>South</td>\n",
       "      <td>9.0</td>\n",
       "      <td>11.8</td>\n",
       "      <td>9.9</td>\n",
       "      <td>21.9</td>\n",
       "      <td>South</td>\n",
       "    </tr>\n",
       "    <tr>\n",
       "      <th>17</th>\n",
       "      <td>17</td>\n",
       "      <td>Gorges du Verdon</td>\n",
       "      <td>43.749656</td>\n",
       "      <td>6.328562</td>\n",
       "      <td>5.0</td>\n",
       "      <td>10.3</td>\n",
       "      <td>0.0</td>\n",
       "      <td>6.2</td>\n",
       "      <td>North</td>\n",
       "      <td>3.3</td>\n",
       "      <td>...</td>\n",
       "      <td>2.8</td>\n",
       "      <td>7.6</td>\n",
       "      <td>3.9</td>\n",
       "      <td>12.1</td>\n",
       "      <td>East</td>\n",
       "      <td>3.8</td>\n",
       "      <td>9.3</td>\n",
       "      <td>6.6</td>\n",
       "      <td>30.7</td>\n",
       "      <td>West</td>\n",
       "    </tr>\n",
       "    <tr>\n",
       "      <th>18</th>\n",
       "      <td>18</td>\n",
       "      <td>Bormes les Mimosas</td>\n",
       "      <td>43.150697</td>\n",
       "      <td>6.341928</td>\n",
       "      <td>10.5</td>\n",
       "      <td>15.8</td>\n",
       "      <td>0.0</td>\n",
       "      <td>8.5</td>\n",
       "      <td>East</td>\n",
       "      <td>8.4</td>\n",
       "      <td>...</td>\n",
       "      <td>9.2</td>\n",
       "      <td>13.4</td>\n",
       "      <td>0.8</td>\n",
       "      <td>8.4</td>\n",
       "      <td>West</td>\n",
       "      <td>8.7</td>\n",
       "      <td>13.1</td>\n",
       "      <td>0.6</td>\n",
       "      <td>23.9</td>\n",
       "      <td>West</td>\n",
       "    </tr>\n",
       "    <tr>\n",
       "      <th>19</th>\n",
       "      <td>19</td>\n",
       "      <td>Cassis</td>\n",
       "      <td>43.214036</td>\n",
       "      <td>5.539632</td>\n",
       "      <td>11.1</td>\n",
       "      <td>16.3</td>\n",
       "      <td>0.0</td>\n",
       "      <td>10.3</td>\n",
       "      <td>North</td>\n",
       "      <td>7.2</td>\n",
       "      <td>...</td>\n",
       "      <td>13.0</td>\n",
       "      <td>14.6</td>\n",
       "      <td>0.0</td>\n",
       "      <td>17.9</td>\n",
       "      <td>South</td>\n",
       "      <td>12.3</td>\n",
       "      <td>14.8</td>\n",
       "      <td>1.8</td>\n",
       "      <td>32.9</td>\n",
       "      <td>West</td>\n",
       "    </tr>\n",
       "  </tbody>\n",
       "</table>\n",
       "<p>20 rows × 39 columns</p>\n",
       "</div>"
      ],
      "text/plain": [
       "   id_city                          City        lat       lon  temp_min1  \\\n",
       "0        0             Mont Saint Michel  48.635954 -1.511460        6.8   \n",
       "1        1                       St Malo  48.649518 -2.026041        6.2   \n",
       "2        2                        Bayeux  49.276462 -0.702474        6.8   \n",
       "3        3                      Le Havre  49.493898  0.107973        7.6   \n",
       "4        4                         Rouen  49.440459  1.093966        6.3   \n",
       "5        5                         Paris  48.858890  2.320041        5.2   \n",
       "6        6                        Amiens  49.894171  2.295695        5.1   \n",
       "7        7                         Lille  50.636565  3.063528        4.7   \n",
       "8        8                    Strasbourg  48.584614  7.750713        2.6   \n",
       "9        9  Chateau du Haut Koenigsbourg  48.249523  7.345492        2.2   \n",
       "10      10                        Colmar  48.077752  7.357964        2.4   \n",
       "11      11                     Eguisheim  48.044797  7.307962        5.3   \n",
       "12      12                      Besancon  47.238022  6.024362        5.4   \n",
       "13      13                         Dijon  47.321581  5.041470        2.5   \n",
       "14      14                        Annecy  45.899235  6.128885        5.7   \n",
       "15      15                      Grenoble  45.187560  5.735782        8.9   \n",
       "16      16                          Lyon  45.757814  4.832011        5.2   \n",
       "17      17              Gorges du Verdon  43.749656  6.328562        5.0   \n",
       "18      18            Bormes les Mimosas  43.150697  6.341928       10.5   \n",
       "19      19                        Cassis  43.214036  5.539632       11.1   \n",
       "\n",
       "    temp_max1  precipitation1  wind1 wind_dir1  temp_min2  ...  temp_min6  \\\n",
       "0        12.0             5.4   31.2     South       12.3  ...        6.5   \n",
       "1        12.1             2.6   41.5     South       12.5  ...        6.2   \n",
       "2        11.6             1.8   31.1     South       12.0  ...        6.9   \n",
       "3        10.9             3.0   30.9     South       11.0  ...        7.8   \n",
       "4        10.6             2.9   19.8     South       10.8  ...        6.4   \n",
       "5         9.0             1.6   15.2     South        9.0  ...        8.4   \n",
       "6        10.7             1.6   20.9     South        9.8  ...        7.0   \n",
       "7        10.1             0.9   25.2     South        9.0  ...        6.7   \n",
       "8        10.3             0.0    9.2     South        4.7  ...        5.2   \n",
       "9         5.9             0.0    8.4      West        2.1  ...        5.7   \n",
       "10       10.2             0.1    9.0     South        1.9  ...        5.6   \n",
       "11       10.0             0.0    9.5      West        4.8  ...        7.1   \n",
       "12       10.3             1.1    6.1      West        5.1  ...        9.0   \n",
       "13        9.0             0.0    6.6     South        2.4  ...        8.1   \n",
       "14        9.4             2.6    4.2     North        3.7  ...        5.0   \n",
       "15       11.5             0.8    5.0     North        7.2  ...        8.1   \n",
       "16       11.5             1.2    5.4     North        2.3  ...       10.0   \n",
       "17       10.3             0.0    6.2     North        3.3  ...        2.8   \n",
       "18       15.8             0.0    8.5      East        8.4  ...        9.2   \n",
       "19       16.3             0.0   10.3     North        7.2  ...       13.0   \n",
       "\n",
       "    temp_max6  precipitation6 wind6  wind_dir6  temp_min7  temp_max7  \\\n",
       "0        10.2             1.3  25.5      South        5.7       11.6   \n",
       "1        10.5             0.5  25.5      South        5.8       11.8   \n",
       "2        10.1             0.6  27.7       West        6.1       10.9   \n",
       "3        10.2             0.9  26.0       West        6.4        9.9   \n",
       "4        10.4             2.2  19.1      South        5.4       10.7   \n",
       "5        10.4             8.1  18.7      South        5.5       10.6   \n",
       "6        10.1             2.5  27.2      South        5.5        6.7   \n",
       "7         9.6             3.3  27.4      South        5.1        6.6   \n",
       "8        10.1             2.4  12.0      South        6.1        9.2   \n",
       "9         7.6             5.5  17.8      South        4.0        6.6   \n",
       "10       10.9             3.2  14.7      South        6.8        9.7   \n",
       "11       10.9             3.2  15.0      South        6.8        9.7   \n",
       "12       10.7            13.7  30.3      South        7.8       10.1   \n",
       "13        9.5            13.2  21.3      South        7.6       10.0   \n",
       "14        8.6             2.8   6.6      South        5.7        8.6   \n",
       "15       12.0             1.9   8.2      South        9.1       11.4   \n",
       "16       12.3             1.2  24.5      South        9.0       11.8   \n",
       "17        7.6             3.9  12.1       East        3.8        9.3   \n",
       "18       13.4             0.8   8.4       West        8.7       13.1   \n",
       "19       14.6             0.0  17.9      South       12.3       14.8   \n",
       "\n",
       "    precipitation7 wind7  wind_dir7  \n",
       "0              6.6  41.6       West  \n",
       "1              5.7  38.5       West  \n",
       "2              6.0  34.9       West  \n",
       "3             11.4  28.3       West  \n",
       "4              9.6  25.7       West  \n",
       "5              5.1  22.1       West  \n",
       "6              8.1  25.9      South  \n",
       "7              9.0  16.0      South  \n",
       "8             11.2  18.6      South  \n",
       "9             12.7  22.7       West  \n",
       "10             9.1  20.7      South  \n",
       "11             9.1  20.7      South  \n",
       "12            14.8  42.3      South  \n",
       "13             8.4  31.6      South  \n",
       "14            32.5  16.8      South  \n",
       "15            16.1  14.9      South  \n",
       "16             9.9  21.9      South  \n",
       "17             6.6  30.7       West  \n",
       "18             0.6  23.9       West  \n",
       "19             1.8  32.9       West  \n",
       "\n",
       "[20 rows x 39 columns]"
      ]
     },
     "execution_count": 13,
     "metadata": {},
     "output_type": "execute_result"
    }
   ],
   "source": [
    "df_cities.head(20)"
   ]
  },
  {
   "attachments": {},
   "cell_type": "markdown",
   "metadata": {},
   "source": [
    "# 3/ Saving to csv file"
   ]
  },
  {
   "cell_type": "code",
   "execution_count": 14,
   "metadata": {},
   "outputs": [],
   "source": [
    "#df_cities.to_csv('cities_weather.csv')"
   ]
  },
  {
   "attachments": {},
   "cell_type": "markdown",
   "metadata": {},
   "source": [
    "# 4/ Plotting the best destinations on a map"
   ]
  },
  {
   "cell_type": "code",
   "execution_count": 15,
   "metadata": {},
   "outputs": [],
   "source": [
    "df = pd.read_csv('cities_weather.csv')"
   ]
  },
  {
   "attachments": {},
   "cell_type": "markdown",
   "metadata": {},
   "source": [
    "I need to build a score for each destination.  \n",
    "To do that, I chose the following strategy :\n",
    "- I am looking for a high score corresponding to the best weather, so I do the max of precipitation and wind speed - the real value\n",
    "- standardize each value\n",
    "- doing the mean of the standardized : max temperatures, precipitation and wind speed\n",
    "- apply arbitrary weights to each mean : 2 for max temperature, 3 for precipitation, 1 for wind speed\n",
    "- calculate the score with a weighted mean"
   ]
  },
  {
   "cell_type": "code",
   "execution_count": 16,
   "metadata": {},
   "outputs": [],
   "source": [
    "max_temp = df.loc[:,['temp_max1', 'temp_max2', 'temp_max3', 'temp_max4', 'temp_max5', 'temp_max6', 'temp_max7']].max().max()\n",
    "max_precipitation = df.loc[:,['precipitation1', 'precipitation2', 'precipitation3', 'precipitation4', 'precipitation5', 'precipitation6', 'precipitation7']].max().max()\n",
    "max_wind = df.loc[:,['wind1', 'wind2', 'wind3', 'wind4', 'wind5', 'wind6', 'wind7']].max().max()"
   ]
  },
  {
   "cell_type": "code",
   "execution_count": 17,
   "metadata": {},
   "outputs": [
    {
     "name": "stdout",
     "output_type": "stream",
     "text": [
      "17.2 32.5 64.0\n"
     ]
    }
   ],
   "source": [
    "print(max_temp, max_precipitation, max_wind)"
   ]
  },
  {
   "cell_type": "code",
   "execution_count": 18,
   "metadata": {},
   "outputs": [],
   "source": [
    "# score for each city : weighted standardized mean, and multiply by 10 to have a score between 0 and 10\n",
    "\n",
    "df['score'] = (2*(df['temp_max1'] + df['temp_max2'] + df['temp_max3'] + df['temp_max4'] + df['temp_max5'] + df['temp_max6'] + df['temp_max7'])/7/max_temp\n",
    "             + 3*(7*max_precipitation - df['precipitation1'] - df['precipitation2'] - df['precipitation3'] - df['precipitation4'] - df['precipitation5'] - df['precipitation6'] - df['precipitation7'])/7/max_precipitation\n",
    "             + 1*(7*max_wind - df['wind1'] - df['wind2'] - df['wind3'] - df['wind4'] - df['wind5'] - df['wind6'] - df['wind7'])/7/max_wind)/6*10"
   ]
  },
  {
   "cell_type": "code",
   "execution_count": 19,
   "metadata": {},
   "outputs": [],
   "source": [
    "# calculate the exponential of the score in order to emphasize the size of the circles in the graph below\n",
    "\n",
    "df['score_exp'] = np.exp(df['score'])"
   ]
  },
  {
   "cell_type": "code",
   "execution_count": 20,
   "metadata": {},
   "outputs": [
    {
     "data": {
      "text/html": [
       "<div>\n",
       "<style scoped>\n",
       "    .dataframe tbody tr th:only-of-type {\n",
       "        vertical-align: middle;\n",
       "    }\n",
       "\n",
       "    .dataframe tbody tr th {\n",
       "        vertical-align: top;\n",
       "    }\n",
       "\n",
       "    .dataframe thead th {\n",
       "        text-align: right;\n",
       "    }\n",
       "</style>\n",
       "<table border=\"1\" class=\"dataframe\">\n",
       "  <thead>\n",
       "    <tr style=\"text-align: right;\">\n",
       "      <th></th>\n",
       "      <th>Unnamed: 0</th>\n",
       "      <th>id_city</th>\n",
       "      <th>City</th>\n",
       "      <th>lat</th>\n",
       "      <th>lon</th>\n",
       "      <th>temp_min1</th>\n",
       "      <th>temp_max1</th>\n",
       "      <th>precipitation1</th>\n",
       "      <th>wind1</th>\n",
       "      <th>wind_dir1</th>\n",
       "      <th>...</th>\n",
       "      <th>precipitation6</th>\n",
       "      <th>wind6</th>\n",
       "      <th>wind_dir6</th>\n",
       "      <th>temp_min7</th>\n",
       "      <th>temp_max7</th>\n",
       "      <th>precipitation7</th>\n",
       "      <th>wind7</th>\n",
       "      <th>wind_dir7</th>\n",
       "      <th>score</th>\n",
       "      <th>score_exp</th>\n",
       "    </tr>\n",
       "  </thead>\n",
       "  <tbody>\n",
       "    <tr>\n",
       "      <th>0</th>\n",
       "      <td>0</td>\n",
       "      <td>0</td>\n",
       "      <td>Mont Saint Michel</td>\n",
       "      <td>48.635954</td>\n",
       "      <td>-1.511460</td>\n",
       "      <td>6.8</td>\n",
       "      <td>12.0</td>\n",
       "      <td>5.4</td>\n",
       "      <td>31.2</td>\n",
       "      <td>South</td>\n",
       "      <td>...</td>\n",
       "      <td>1.3</td>\n",
       "      <td>25.5</td>\n",
       "      <td>South</td>\n",
       "      <td>5.7</td>\n",
       "      <td>11.6</td>\n",
       "      <td>6.6</td>\n",
       "      <td>41.6</td>\n",
       "      <td>West</td>\n",
       "      <td>7.921209</td>\n",
       "      <td>2755.099447</td>\n",
       "    </tr>\n",
       "    <tr>\n",
       "      <th>1</th>\n",
       "      <td>1</td>\n",
       "      <td>1</td>\n",
       "      <td>St Malo</td>\n",
       "      <td>48.649518</td>\n",
       "      <td>-2.026041</td>\n",
       "      <td>6.2</td>\n",
       "      <td>12.1</td>\n",
       "      <td>2.6</td>\n",
       "      <td>41.5</td>\n",
       "      <td>South</td>\n",
       "      <td>...</td>\n",
       "      <td>0.5</td>\n",
       "      <td>25.5</td>\n",
       "      <td>South</td>\n",
       "      <td>5.8</td>\n",
       "      <td>11.8</td>\n",
       "      <td>5.7</td>\n",
       "      <td>38.5</td>\n",
       "      <td>West</td>\n",
       "      <td>7.826252</td>\n",
       "      <td>2505.521652</td>\n",
       "    </tr>\n",
       "    <tr>\n",
       "      <th>2</th>\n",
       "      <td>2</td>\n",
       "      <td>2</td>\n",
       "      <td>Bayeux</td>\n",
       "      <td>49.276462</td>\n",
       "      <td>-0.702474</td>\n",
       "      <td>6.8</td>\n",
       "      <td>11.6</td>\n",
       "      <td>1.8</td>\n",
       "      <td>31.1</td>\n",
       "      <td>South</td>\n",
       "      <td>...</td>\n",
       "      <td>0.6</td>\n",
       "      <td>27.7</td>\n",
       "      <td>West</td>\n",
       "      <td>6.1</td>\n",
       "      <td>10.9</td>\n",
       "      <td>6.0</td>\n",
       "      <td>34.9</td>\n",
       "      <td>West</td>\n",
       "      <td>7.974684</td>\n",
       "      <td>2906.438555</td>\n",
       "    </tr>\n",
       "    <tr>\n",
       "      <th>3</th>\n",
       "      <td>3</td>\n",
       "      <td>3</td>\n",
       "      <td>Le Havre</td>\n",
       "      <td>49.493898</td>\n",
       "      <td>0.107973</td>\n",
       "      <td>7.6</td>\n",
       "      <td>10.9</td>\n",
       "      <td>3.0</td>\n",
       "      <td>30.9</td>\n",
       "      <td>South</td>\n",
       "      <td>...</td>\n",
       "      <td>0.9</td>\n",
       "      <td>26.0</td>\n",
       "      <td>West</td>\n",
       "      <td>6.4</td>\n",
       "      <td>9.9</td>\n",
       "      <td>11.4</td>\n",
       "      <td>28.3</td>\n",
       "      <td>West</td>\n",
       "      <td>7.763514</td>\n",
       "      <td>2353.159990</td>\n",
       "    </tr>\n",
       "    <tr>\n",
       "      <th>4</th>\n",
       "      <td>4</td>\n",
       "      <td>4</td>\n",
       "      <td>Rouen</td>\n",
       "      <td>49.440459</td>\n",
       "      <td>1.093966</td>\n",
       "      <td>6.3</td>\n",
       "      <td>10.6</td>\n",
       "      <td>2.9</td>\n",
       "      <td>19.8</td>\n",
       "      <td>South</td>\n",
       "      <td>...</td>\n",
       "      <td>2.2</td>\n",
       "      <td>19.1</td>\n",
       "      <td>South</td>\n",
       "      <td>5.4</td>\n",
       "      <td>10.7</td>\n",
       "      <td>9.6</td>\n",
       "      <td>25.7</td>\n",
       "      <td>West</td>\n",
       "      <td>7.922267</td>\n",
       "      <td>2758.017092</td>\n",
       "    </tr>\n",
       "    <tr>\n",
       "      <th>5</th>\n",
       "      <td>5</td>\n",
       "      <td>5</td>\n",
       "      <td>Paris</td>\n",
       "      <td>48.858890</td>\n",
       "      <td>2.320041</td>\n",
       "      <td>5.2</td>\n",
       "      <td>9.0</td>\n",
       "      <td>1.6</td>\n",
       "      <td>15.2</td>\n",
       "      <td>South</td>\n",
       "      <td>...</td>\n",
       "      <td>8.1</td>\n",
       "      <td>18.7</td>\n",
       "      <td>South</td>\n",
       "      <td>5.5</td>\n",
       "      <td>10.6</td>\n",
       "      <td>5.1</td>\n",
       "      <td>22.1</td>\n",
       "      <td>West</td>\n",
       "      <td>8.071172</td>\n",
       "      <td>3200.850011</td>\n",
       "    </tr>\n",
       "    <tr>\n",
       "      <th>6</th>\n",
       "      <td>6</td>\n",
       "      <td>6</td>\n",
       "      <td>Amiens</td>\n",
       "      <td>49.894171</td>\n",
       "      <td>2.295695</td>\n",
       "      <td>5.1</td>\n",
       "      <td>10.7</td>\n",
       "      <td>1.6</td>\n",
       "      <td>20.9</td>\n",
       "      <td>South</td>\n",
       "      <td>...</td>\n",
       "      <td>2.5</td>\n",
       "      <td>27.2</td>\n",
       "      <td>South</td>\n",
       "      <td>5.5</td>\n",
       "      <td>6.7</td>\n",
       "      <td>8.1</td>\n",
       "      <td>25.9</td>\n",
       "      <td>South</td>\n",
       "      <td>7.869278</td>\n",
       "      <td>2615.677487</td>\n",
       "    </tr>\n",
       "    <tr>\n",
       "      <th>7</th>\n",
       "      <td>7</td>\n",
       "      <td>7</td>\n",
       "      <td>Lille</td>\n",
       "      <td>50.636565</td>\n",
       "      <td>3.063528</td>\n",
       "      <td>4.7</td>\n",
       "      <td>10.1</td>\n",
       "      <td>0.9</td>\n",
       "      <td>25.2</td>\n",
       "      <td>South</td>\n",
       "      <td>...</td>\n",
       "      <td>3.3</td>\n",
       "      <td>27.4</td>\n",
       "      <td>South</td>\n",
       "      <td>5.1</td>\n",
       "      <td>6.6</td>\n",
       "      <td>9.0</td>\n",
       "      <td>16.0</td>\n",
       "      <td>South</td>\n",
       "      <td>7.791568</td>\n",
       "      <td>2420.108464</td>\n",
       "    </tr>\n",
       "    <tr>\n",
       "      <th>8</th>\n",
       "      <td>8</td>\n",
       "      <td>8</td>\n",
       "      <td>Strasbourg</td>\n",
       "      <td>48.584614</td>\n",
       "      <td>7.750713</td>\n",
       "      <td>2.6</td>\n",
       "      <td>10.3</td>\n",
       "      <td>0.0</td>\n",
       "      <td>9.2</td>\n",
       "      <td>South</td>\n",
       "      <td>...</td>\n",
       "      <td>2.4</td>\n",
       "      <td>12.0</td>\n",
       "      <td>South</td>\n",
       "      <td>6.1</td>\n",
       "      <td>9.2</td>\n",
       "      <td>11.2</td>\n",
       "      <td>18.6</td>\n",
       "      <td>South</td>\n",
       "      <td>7.987815</td>\n",
       "      <td>2944.856363</td>\n",
       "    </tr>\n",
       "    <tr>\n",
       "      <th>9</th>\n",
       "      <td>9</td>\n",
       "      <td>9</td>\n",
       "      <td>Chateau du Haut Koenigsbourg</td>\n",
       "      <td>48.249523</td>\n",
       "      <td>7.345492</td>\n",
       "      <td>2.2</td>\n",
       "      <td>5.9</td>\n",
       "      <td>0.0</td>\n",
       "      <td>8.4</td>\n",
       "      <td>West</td>\n",
       "      <td>...</td>\n",
       "      <td>5.5</td>\n",
       "      <td>17.8</td>\n",
       "      <td>South</td>\n",
       "      <td>4.0</td>\n",
       "      <td>6.6</td>\n",
       "      <td>12.7</td>\n",
       "      <td>22.7</td>\n",
       "      <td>West</td>\n",
       "      <td>7.116852</td>\n",
       "      <td>1232.564470</td>\n",
       "    </tr>\n",
       "    <tr>\n",
       "      <th>10</th>\n",
       "      <td>10</td>\n",
       "      <td>10</td>\n",
       "      <td>Colmar</td>\n",
       "      <td>48.077752</td>\n",
       "      <td>7.357964</td>\n",
       "      <td>2.4</td>\n",
       "      <td>10.2</td>\n",
       "      <td>0.1</td>\n",
       "      <td>9.0</td>\n",
       "      <td>South</td>\n",
       "      <td>...</td>\n",
       "      <td>3.2</td>\n",
       "      <td>14.7</td>\n",
       "      <td>South</td>\n",
       "      <td>6.8</td>\n",
       "      <td>9.7</td>\n",
       "      <td>9.1</td>\n",
       "      <td>20.7</td>\n",
       "      <td>South</td>\n",
       "      <td>8.132562</td>\n",
       "      <td>3403.509550</td>\n",
       "    </tr>\n",
       "    <tr>\n",
       "      <th>11</th>\n",
       "      <td>11</td>\n",
       "      <td>11</td>\n",
       "      <td>Eguisheim</td>\n",
       "      <td>48.044797</td>\n",
       "      <td>7.307962</td>\n",
       "      <td>5.3</td>\n",
       "      <td>10.0</td>\n",
       "      <td>0.0</td>\n",
       "      <td>9.5</td>\n",
       "      <td>West</td>\n",
       "      <td>...</td>\n",
       "      <td>3.2</td>\n",
       "      <td>15.0</td>\n",
       "      <td>South</td>\n",
       "      <td>6.8</td>\n",
       "      <td>9.7</td>\n",
       "      <td>9.1</td>\n",
       "      <td>20.7</td>\n",
       "      <td>South</td>\n",
       "      <td>8.084739</td>\n",
       "      <td>3244.571286</td>\n",
       "    </tr>\n",
       "    <tr>\n",
       "      <th>12</th>\n",
       "      <td>12</td>\n",
       "      <td>12</td>\n",
       "      <td>Besancon</td>\n",
       "      <td>47.238022</td>\n",
       "      <td>6.024362</td>\n",
       "      <td>5.4</td>\n",
       "      <td>10.3</td>\n",
       "      <td>1.1</td>\n",
       "      <td>6.1</td>\n",
       "      <td>West</td>\n",
       "      <td>...</td>\n",
       "      <td>13.7</td>\n",
       "      <td>30.3</td>\n",
       "      <td>South</td>\n",
       "      <td>7.8</td>\n",
       "      <td>10.1</td>\n",
       "      <td>14.8</td>\n",
       "      <td>42.3</td>\n",
       "      <td>South</td>\n",
       "      <td>7.104023</td>\n",
       "      <td>1216.853021</td>\n",
       "    </tr>\n",
       "    <tr>\n",
       "      <th>13</th>\n",
       "      <td>13</td>\n",
       "      <td>13</td>\n",
       "      <td>Dijon</td>\n",
       "      <td>47.321581</td>\n",
       "      <td>5.041470</td>\n",
       "      <td>2.5</td>\n",
       "      <td>9.0</td>\n",
       "      <td>0.0</td>\n",
       "      <td>6.6</td>\n",
       "      <td>South</td>\n",
       "      <td>...</td>\n",
       "      <td>13.2</td>\n",
       "      <td>21.3</td>\n",
       "      <td>South</td>\n",
       "      <td>7.6</td>\n",
       "      <td>10.0</td>\n",
       "      <td>8.4</td>\n",
       "      <td>31.6</td>\n",
       "      <td>South</td>\n",
       "      <td>7.757033</td>\n",
       "      <td>2337.957383</td>\n",
       "    </tr>\n",
       "    <tr>\n",
       "      <th>14</th>\n",
       "      <td>14</td>\n",
       "      <td>14</td>\n",
       "      <td>Annecy</td>\n",
       "      <td>45.899235</td>\n",
       "      <td>6.128885</td>\n",
       "      <td>5.7</td>\n",
       "      <td>9.4</td>\n",
       "      <td>2.6</td>\n",
       "      <td>4.2</td>\n",
       "      <td>North</td>\n",
       "      <td>...</td>\n",
       "      <td>2.8</td>\n",
       "      <td>6.6</td>\n",
       "      <td>South</td>\n",
       "      <td>5.7</td>\n",
       "      <td>8.6</td>\n",
       "      <td>32.5</td>\n",
       "      <td>16.8</td>\n",
       "      <td>South</td>\n",
       "      <td>7.350915</td>\n",
       "      <td>1557.620818</td>\n",
       "    </tr>\n",
       "    <tr>\n",
       "      <th>15</th>\n",
       "      <td>15</td>\n",
       "      <td>15</td>\n",
       "      <td>Grenoble</td>\n",
       "      <td>45.187560</td>\n",
       "      <td>5.735782</td>\n",
       "      <td>8.9</td>\n",
       "      <td>11.5</td>\n",
       "      <td>0.8</td>\n",
       "      <td>5.0</td>\n",
       "      <td>North</td>\n",
       "      <td>...</td>\n",
       "      <td>1.9</td>\n",
       "      <td>8.2</td>\n",
       "      <td>South</td>\n",
       "      <td>9.1</td>\n",
       "      <td>11.4</td>\n",
       "      <td>16.1</td>\n",
       "      <td>14.9</td>\n",
       "      <td>South</td>\n",
       "      <td>8.398827</td>\n",
       "      <td>4441.852629</td>\n",
       "    </tr>\n",
       "    <tr>\n",
       "      <th>16</th>\n",
       "      <td>16</td>\n",
       "      <td>16</td>\n",
       "      <td>Lyon</td>\n",
       "      <td>45.757814</td>\n",
       "      <td>4.832011</td>\n",
       "      <td>5.2</td>\n",
       "      <td>11.5</td>\n",
       "      <td>1.2</td>\n",
       "      <td>5.4</td>\n",
       "      <td>North</td>\n",
       "      <td>...</td>\n",
       "      <td>1.2</td>\n",
       "      <td>24.5</td>\n",
       "      <td>South</td>\n",
       "      <td>9.0</td>\n",
       "      <td>11.8</td>\n",
       "      <td>9.9</td>\n",
       "      <td>21.9</td>\n",
       "      <td>South</td>\n",
       "      <td>8.259872</td>\n",
       "      <td>3865.599817</td>\n",
       "    </tr>\n",
       "    <tr>\n",
       "      <th>17</th>\n",
       "      <td>17</td>\n",
       "      <td>17</td>\n",
       "      <td>Gorges du Verdon</td>\n",
       "      <td>43.749656</td>\n",
       "      <td>6.328562</td>\n",
       "      <td>5.0</td>\n",
       "      <td>10.3</td>\n",
       "      <td>0.0</td>\n",
       "      <td>6.2</td>\n",
       "      <td>North</td>\n",
       "      <td>...</td>\n",
       "      <td>3.9</td>\n",
       "      <td>12.1</td>\n",
       "      <td>East</td>\n",
       "      <td>3.8</td>\n",
       "      <td>9.3</td>\n",
       "      <td>6.6</td>\n",
       "      <td>30.7</td>\n",
       "      <td>West</td>\n",
       "      <td>8.051960</td>\n",
       "      <td>3139.943901</td>\n",
       "    </tr>\n",
       "    <tr>\n",
       "      <th>18</th>\n",
       "      <td>18</td>\n",
       "      <td>18</td>\n",
       "      <td>Bormes les Mimosas</td>\n",
       "      <td>43.150697</td>\n",
       "      <td>6.341928</td>\n",
       "      <td>10.5</td>\n",
       "      <td>15.8</td>\n",
       "      <td>0.0</td>\n",
       "      <td>8.5</td>\n",
       "      <td>East</td>\n",
       "      <td>...</td>\n",
       "      <td>0.8</td>\n",
       "      <td>8.4</td>\n",
       "      <td>West</td>\n",
       "      <td>8.7</td>\n",
       "      <td>13.1</td>\n",
       "      <td>0.6</td>\n",
       "      <td>23.9</td>\n",
       "      <td>West</td>\n",
       "      <td>8.970364</td>\n",
       "      <td>7866.461423</td>\n",
       "    </tr>\n",
       "    <tr>\n",
       "      <th>19</th>\n",
       "      <td>19</td>\n",
       "      <td>19</td>\n",
       "      <td>Cassis</td>\n",
       "      <td>43.214036</td>\n",
       "      <td>5.539632</td>\n",
       "      <td>11.1</td>\n",
       "      <td>16.3</td>\n",
       "      <td>0.0</td>\n",
       "      <td>10.3</td>\n",
       "      <td>North</td>\n",
       "      <td>...</td>\n",
       "      <td>0.0</td>\n",
       "      <td>17.9</td>\n",
       "      <td>South</td>\n",
       "      <td>12.3</td>\n",
       "      <td>14.8</td>\n",
       "      <td>1.8</td>\n",
       "      <td>32.9</td>\n",
       "      <td>West</td>\n",
       "      <td>9.036548</td>\n",
       "      <td>8404.713109</td>\n",
       "    </tr>\n",
       "  </tbody>\n",
       "</table>\n",
       "<p>20 rows × 42 columns</p>\n",
       "</div>"
      ],
      "text/plain": [
       "    Unnamed: 0  id_city                          City        lat       lon  \\\n",
       "0            0        0             Mont Saint Michel  48.635954 -1.511460   \n",
       "1            1        1                       St Malo  48.649518 -2.026041   \n",
       "2            2        2                        Bayeux  49.276462 -0.702474   \n",
       "3            3        3                      Le Havre  49.493898  0.107973   \n",
       "4            4        4                         Rouen  49.440459  1.093966   \n",
       "5            5        5                         Paris  48.858890  2.320041   \n",
       "6            6        6                        Amiens  49.894171  2.295695   \n",
       "7            7        7                         Lille  50.636565  3.063528   \n",
       "8            8        8                    Strasbourg  48.584614  7.750713   \n",
       "9            9        9  Chateau du Haut Koenigsbourg  48.249523  7.345492   \n",
       "10          10       10                        Colmar  48.077752  7.357964   \n",
       "11          11       11                     Eguisheim  48.044797  7.307962   \n",
       "12          12       12                      Besancon  47.238022  6.024362   \n",
       "13          13       13                         Dijon  47.321581  5.041470   \n",
       "14          14       14                        Annecy  45.899235  6.128885   \n",
       "15          15       15                      Grenoble  45.187560  5.735782   \n",
       "16          16       16                          Lyon  45.757814  4.832011   \n",
       "17          17       17              Gorges du Verdon  43.749656  6.328562   \n",
       "18          18       18            Bormes les Mimosas  43.150697  6.341928   \n",
       "19          19       19                        Cassis  43.214036  5.539632   \n",
       "\n",
       "    temp_min1  temp_max1  precipitation1  wind1 wind_dir1  ...  \\\n",
       "0         6.8       12.0             5.4   31.2     South  ...   \n",
       "1         6.2       12.1             2.6   41.5     South  ...   \n",
       "2         6.8       11.6             1.8   31.1     South  ...   \n",
       "3         7.6       10.9             3.0   30.9     South  ...   \n",
       "4         6.3       10.6             2.9   19.8     South  ...   \n",
       "5         5.2        9.0             1.6   15.2     South  ...   \n",
       "6         5.1       10.7             1.6   20.9     South  ...   \n",
       "7         4.7       10.1             0.9   25.2     South  ...   \n",
       "8         2.6       10.3             0.0    9.2     South  ...   \n",
       "9         2.2        5.9             0.0    8.4      West  ...   \n",
       "10        2.4       10.2             0.1    9.0     South  ...   \n",
       "11        5.3       10.0             0.0    9.5      West  ...   \n",
       "12        5.4       10.3             1.1    6.1      West  ...   \n",
       "13        2.5        9.0             0.0    6.6     South  ...   \n",
       "14        5.7        9.4             2.6    4.2     North  ...   \n",
       "15        8.9       11.5             0.8    5.0     North  ...   \n",
       "16        5.2       11.5             1.2    5.4     North  ...   \n",
       "17        5.0       10.3             0.0    6.2     North  ...   \n",
       "18       10.5       15.8             0.0    8.5      East  ...   \n",
       "19       11.1       16.3             0.0   10.3     North  ...   \n",
       "\n",
       "    precipitation6  wind6  wind_dir6  temp_min7 temp_max7  precipitation7  \\\n",
       "0              1.3   25.5      South        5.7      11.6             6.6   \n",
       "1              0.5   25.5      South        5.8      11.8             5.7   \n",
       "2              0.6   27.7       West        6.1      10.9             6.0   \n",
       "3              0.9   26.0       West        6.4       9.9            11.4   \n",
       "4              2.2   19.1      South        5.4      10.7             9.6   \n",
       "5              8.1   18.7      South        5.5      10.6             5.1   \n",
       "6              2.5   27.2      South        5.5       6.7             8.1   \n",
       "7              3.3   27.4      South        5.1       6.6             9.0   \n",
       "8              2.4   12.0      South        6.1       9.2            11.2   \n",
       "9              5.5   17.8      South        4.0       6.6            12.7   \n",
       "10             3.2   14.7      South        6.8       9.7             9.1   \n",
       "11             3.2   15.0      South        6.8       9.7             9.1   \n",
       "12            13.7   30.3      South        7.8      10.1            14.8   \n",
       "13            13.2   21.3      South        7.6      10.0             8.4   \n",
       "14             2.8    6.6      South        5.7       8.6            32.5   \n",
       "15             1.9    8.2      South        9.1      11.4            16.1   \n",
       "16             1.2   24.5      South        9.0      11.8             9.9   \n",
       "17             3.9   12.1       East        3.8       9.3             6.6   \n",
       "18             0.8    8.4       West        8.7      13.1             0.6   \n",
       "19             0.0   17.9      South       12.3      14.8             1.8   \n",
       "\n",
       "    wind7  wind_dir7     score    score_exp  \n",
       "0    41.6       West  7.921209  2755.099447  \n",
       "1    38.5       West  7.826252  2505.521652  \n",
       "2    34.9       West  7.974684  2906.438555  \n",
       "3    28.3       West  7.763514  2353.159990  \n",
       "4    25.7       West  7.922267  2758.017092  \n",
       "5    22.1       West  8.071172  3200.850011  \n",
       "6    25.9      South  7.869278  2615.677487  \n",
       "7    16.0      South  7.791568  2420.108464  \n",
       "8    18.6      South  7.987815  2944.856363  \n",
       "9    22.7       West  7.116852  1232.564470  \n",
       "10   20.7      South  8.132562  3403.509550  \n",
       "11   20.7      South  8.084739  3244.571286  \n",
       "12   42.3      South  7.104023  1216.853021  \n",
       "13   31.6      South  7.757033  2337.957383  \n",
       "14   16.8      South  7.350915  1557.620818  \n",
       "15   14.9      South  8.398827  4441.852629  \n",
       "16   21.9      South  8.259872  3865.599817  \n",
       "17   30.7       West  8.051960  3139.943901  \n",
       "18   23.9       West  8.970364  7866.461423  \n",
       "19   32.9       West  9.036548  8404.713109  \n",
       "\n",
       "[20 rows x 42 columns]"
      ]
     },
     "execution_count": 20,
     "metadata": {},
     "output_type": "execute_result"
    }
   ],
   "source": [
    "df.head(20)"
   ]
  },
  {
   "cell_type": "code",
   "execution_count": 21,
   "metadata": {},
   "outputs": [
    {
     "data": {
      "application/vnd.plotly.v1+json": {
       "config": {
        "plotlyServerURL": "https://plot.ly"
       },
       "data": [
        {
         "customdata": [
          [
           48.6359541,
           -1.511459954959514,
           "Mont Saint Michel",
           7.921208817829458
          ],
          [
           48.649518,
           -2.0260409,
           "St Malo",
           7.826252236135956
          ],
          [
           49.2764624,
           -0.7024738,
           "Bayeux",
           7.974683746486071
          ],
          [
           49.4938975,
           0.1079732,
           "Le Havre",
           7.763514380483857
          ],
          [
           49.4404591,
           1.0939658,
           "Rouen",
           7.922267255515804
          ],
          [
           48.8588897,
           2.3200410217200766,
           "Paris",
           8.07117168200017
          ],
          [
           49.8941708,
           2.2956951,
           "Amiens",
           7.869278420223188
          ],
          [
           50.6365654,
           3.0635282,
           "Lille",
           7.79156763778857
          ],
          [
           48.584614,
           7.7507127,
           "Strasbourg",
           7.987815321790613
          ],
          [
           48.2495226,
           7.3454923,
           "Chateau du Haut Koenigsbourg",
           7.116852212709772
          ],
          [
           48.0777517,
           7.3579641,
           "Colmar",
           8.132562398841468
          ],
          [
           48.0447968,
           7.3079618,
           "Eguisheim",
           8.084738505196356
          ],
          [
           47.2380222,
           6.0243622,
           "Besancon",
           7.104023314379418
          ],
          [
           47.3215806,
           5.0414701,
           "Dijon",
           7.757032913791635
          ],
          [
           45.8992348,
           6.1288847,
           "Annecy",
           7.350914819192434
          ],
          [
           45.1875602,
           5.7357819,
           "Grenoble",
           8.398826827242525
          ],
          [
           45.7578137,
           4.8320114,
           "Lyon",
           8.259872140940455
          ],
          [
           43.7496562,
           6.3285616,
           "Gorges du Verdon",
           8.051960212752364
          ],
          [
           43.1506968,
           6.3419285,
           "Bormes les Mimosas",
           8.97036361167902
          ],
          [
           43.2140359,
           5.5396318,
           "Cassis",
           9.036547911874946
          ],
          [
           43.2961743,
           5.3699525,
           "Marseille",
           8.919069048683873
          ],
          [
           43.5298424,
           5.4474738,
           "Aix en Provence",
           8.90060735049834
          ],
          [
           43.9492493,
           4.8059012,
           "Avignon",
           8.443912785373541
          ],
          [
           44.0121279,
           4.4196718,
           "Uzes",
           8.43753034755942
          ],
          [
           43.8374249,
           4.3600687,
           "Nimes",
           8.355853618280943
          ],
          [
           43.5658225,
           4.1912837,
           "Aigues Mortes",
           8.54756993248999
          ],
          [
           43.4522771,
           4.4287172,
           "Saintes Maries de la mer",
           8.583936025215095
          ],
          [
           42.52505,
           3.0831554,
           "Collioure",
           8.946087161385126
          ],
          [
           43.2130358,
           2.3491069,
           "Carcassonne",
           8.405064182426102
          ],
          [
           42.9455368,
           1.4065544156065486,
           "Ariege",
           7.801240789249509
          ],
          [
           43.6044622,
           1.4442469,
           "Toulouse",
           8.401616806158959
          ],
          [
           44.0175835,
           1.3549991,
           "Montauban",
           8.156282876522702
          ],
          [
           43.4832523,
           -1.5592776,
           "Biarritz",
           8.17119710473635
          ],
          [
           43.4945144,
           -1.4736657,
           "Bayonne",
           8.229717315146095
          ],
          [
           46.1591126,
           -1.1520434,
           "La Rochelle",
           7.678545340318595
          ]
         ],
         "hovertemplate": "score_exp=%{marker.color}<br>City=%{customdata[2]}<br>score=%{customdata[3]}<extra></extra>",
         "lat": [
          48.6359541,
          48.649518,
          49.2764624,
          49.4938975,
          49.4404591,
          48.8588897,
          49.8941708,
          50.6365654,
          48.584614,
          48.2495226,
          48.0777517,
          48.0447968,
          47.2380222,
          47.3215806,
          45.8992348,
          45.1875602,
          45.7578137,
          43.7496562,
          43.1506968,
          43.2140359,
          43.2961743,
          43.5298424,
          43.9492493,
          44.0121279,
          43.8374249,
          43.5658225,
          43.4522771,
          42.52505,
          43.2130358,
          42.9455368,
          43.6044622,
          44.0175835,
          43.4832523,
          43.4945144,
          46.1591126
         ],
         "legendgroup": "",
         "lon": [
          -1.511459954959514,
          -2.0260409,
          -0.7024738,
          0.1079732,
          1.0939658,
          2.3200410217200766,
          2.2956951,
          3.0635282,
          7.7507127,
          7.3454923,
          7.3579641,
          7.3079618,
          6.0243622,
          5.0414701,
          6.1288847,
          5.7357819,
          4.8320114,
          6.3285616,
          6.3419285,
          5.5396318,
          5.3699525,
          5.4474738,
          4.8059012,
          4.4196718,
          4.3600687,
          4.1912837,
          4.4287172,
          3.0831554,
          2.3491069,
          1.4065544156065486,
          1.4442469,
          1.3549991,
          -1.5592776,
          -1.4736657,
          -1.1520434
         ],
         "marker": {
          "color": [
           2755.0994469427515,
           2505.5216519635464,
           2906.4385553347634,
           2353.159990041971,
           2758.0170918272916,
           3200.8500111531257,
           2615.6774870842914,
           2420.1084635341435,
           2944.8563632039277,
           1232.5644698083722,
           3403.509550076007,
           3244.571286131053,
           1216.853021310051,
           2337.9573827624145,
           1557.6208176725256,
           4441.85262926966,
           3865.5998169252434,
           3139.943900790345,
           7866.461422767117,
           8404.713108897286,
           7473.1288711546995,
           7336.427969502137,
           4646.701004392299,
           4617.138166034378,
           4255.0152213258325,
           5154.2141081922955,
           5345.102634370928,
           7677.791052402794,
           4469.644625965865,
           2443.632129822044,
           4454.262608195087,
           3485.207549528424,
           3537.576279173826,
           3750.7733154057464,
           2161.4732758350856
          ],
          "coloraxis": "coloraxis",
          "opacity": 0.5,
          "size": [
           2755.0994469427515,
           2505.5216519635464,
           2906.4385553347634,
           2353.159990041971,
           2758.0170918272916,
           3200.8500111531257,
           2615.6774870842914,
           2420.1084635341435,
           2944.8563632039277,
           1232.5644698083722,
           3403.509550076007,
           3244.571286131053,
           1216.853021310051,
           2337.9573827624145,
           1557.6208176725256,
           4441.85262926966,
           3865.5998169252434,
           3139.943900790345,
           7866.461422767117,
           8404.713108897286,
           7473.1288711546995,
           7336.427969502137,
           4646.701004392299,
           4617.138166034378,
           4255.0152213258325,
           5154.2141081922955,
           5345.102634370928,
           7677.791052402794,
           4469.644625965865,
           2443.632129822044,
           4454.262608195087,
           3485.207549528424,
           3537.576279173826,
           3750.7733154057464,
           2161.4732758350856
          ],
          "sizemode": "area",
          "sizeref": 21.011782772243215
         },
         "mode": "markers+text",
         "name": "",
         "showlegend": false,
         "subplot": "mapbox",
         "text": [
          "Mont Saint Michel",
          "St Malo",
          "Bayeux",
          "Le Havre",
          "Rouen",
          "Paris",
          "Amiens",
          "Lille",
          "Strasbourg",
          "Chateau du Haut Koenigsbourg",
          "Colmar",
          "Eguisheim",
          "Besancon",
          "Dijon",
          "Annecy",
          "Grenoble",
          "Lyon",
          "Gorges du Verdon",
          "Bormes les Mimosas",
          "Cassis",
          "Marseille",
          "Aix en Provence",
          "Avignon",
          "Uzes",
          "Nimes",
          "Aigues Mortes",
          "Saintes Maries de la mer",
          "Collioure",
          "Carcassonne",
          "Ariege",
          "Toulouse",
          "Montauban",
          "Biarritz",
          "Bayonne",
          "La Rochelle"
         ],
         "type": "scattermapbox"
        }
       ],
       "layout": {
        "coloraxis": {
         "colorbar": {
          "title": {
           "text": "score_exp"
          }
         },
         "colorscale": [
          [
           0,
           "#000000"
          ],
          [
           0.0625,
           "#001f4d"
          ],
          [
           0.125,
           "#003786"
          ],
          [
           0.1875,
           "#0e58a8"
          ],
          [
           0.25,
           "#217eb8"
          ],
          [
           0.3125,
           "#30a4ca"
          ],
          [
           0.375,
           "#54c8df"
          ],
          [
           0.4375,
           "#9be4ef"
          ],
          [
           0.5,
           "#e1e9d1"
          ],
          [
           0.5625,
           "#f3d573"
          ],
          [
           0.625,
           "#e7b000"
          ],
          [
           0.6875,
           "#da8200"
          ],
          [
           0.75,
           "#c65400"
          ],
          [
           0.8125,
           "#ac2301"
          ],
          [
           0.875,
           "#820000"
          ],
          [
           0.9375,
           "#4c0000"
          ],
          [
           1,
           "#000000"
          ]
         ]
        },
        "height": 800,
        "legend": {
         "itemsizing": "constant",
         "tracegroupgap": 0
        },
        "mapbox": {
         "center": {
          "lat": 45.84133338571429,
          "lon": 3.395775333781917
         },
         "domain": {
          "x": [
           0,
           1
          ],
          "y": [
           0,
           1
          ]
         },
         "style": "carto-positron",
         "zoom": 4
        },
        "template": {
         "data": {
          "bar": [
           {
            "error_x": {
             "color": "#2a3f5f"
            },
            "error_y": {
             "color": "#2a3f5f"
            },
            "marker": {
             "line": {
              "color": "#E5ECF6",
              "width": 0.5
             },
             "pattern": {
              "fillmode": "overlay",
              "size": 10,
              "solidity": 0.2
             }
            },
            "type": "bar"
           }
          ],
          "barpolar": [
           {
            "marker": {
             "line": {
              "color": "#E5ECF6",
              "width": 0.5
             },
             "pattern": {
              "fillmode": "overlay",
              "size": 10,
              "solidity": 0.2
             }
            },
            "type": "barpolar"
           }
          ],
          "carpet": [
           {
            "aaxis": {
             "endlinecolor": "#2a3f5f",
             "gridcolor": "white",
             "linecolor": "white",
             "minorgridcolor": "white",
             "startlinecolor": "#2a3f5f"
            },
            "baxis": {
             "endlinecolor": "#2a3f5f",
             "gridcolor": "white",
             "linecolor": "white",
             "minorgridcolor": "white",
             "startlinecolor": "#2a3f5f"
            },
            "type": "carpet"
           }
          ],
          "choropleth": [
           {
            "colorbar": {
             "outlinewidth": 0,
             "ticks": ""
            },
            "type": "choropleth"
           }
          ],
          "contour": [
           {
            "colorbar": {
             "outlinewidth": 0,
             "ticks": ""
            },
            "colorscale": [
             [
              0,
              "#0d0887"
             ],
             [
              0.1111111111111111,
              "#46039f"
             ],
             [
              0.2222222222222222,
              "#7201a8"
             ],
             [
              0.3333333333333333,
              "#9c179e"
             ],
             [
              0.4444444444444444,
              "#bd3786"
             ],
             [
              0.5555555555555556,
              "#d8576b"
             ],
             [
              0.6666666666666666,
              "#ed7953"
             ],
             [
              0.7777777777777778,
              "#fb9f3a"
             ],
             [
              0.8888888888888888,
              "#fdca26"
             ],
             [
              1,
              "#f0f921"
             ]
            ],
            "type": "contour"
           }
          ],
          "contourcarpet": [
           {
            "colorbar": {
             "outlinewidth": 0,
             "ticks": ""
            },
            "type": "contourcarpet"
           }
          ],
          "heatmap": [
           {
            "colorbar": {
             "outlinewidth": 0,
             "ticks": ""
            },
            "colorscale": [
             [
              0,
              "#0d0887"
             ],
             [
              0.1111111111111111,
              "#46039f"
             ],
             [
              0.2222222222222222,
              "#7201a8"
             ],
             [
              0.3333333333333333,
              "#9c179e"
             ],
             [
              0.4444444444444444,
              "#bd3786"
             ],
             [
              0.5555555555555556,
              "#d8576b"
             ],
             [
              0.6666666666666666,
              "#ed7953"
             ],
             [
              0.7777777777777778,
              "#fb9f3a"
             ],
             [
              0.8888888888888888,
              "#fdca26"
             ],
             [
              1,
              "#f0f921"
             ]
            ],
            "type": "heatmap"
           }
          ],
          "heatmapgl": [
           {
            "colorbar": {
             "outlinewidth": 0,
             "ticks": ""
            },
            "colorscale": [
             [
              0,
              "#0d0887"
             ],
             [
              0.1111111111111111,
              "#46039f"
             ],
             [
              0.2222222222222222,
              "#7201a8"
             ],
             [
              0.3333333333333333,
              "#9c179e"
             ],
             [
              0.4444444444444444,
              "#bd3786"
             ],
             [
              0.5555555555555556,
              "#d8576b"
             ],
             [
              0.6666666666666666,
              "#ed7953"
             ],
             [
              0.7777777777777778,
              "#fb9f3a"
             ],
             [
              0.8888888888888888,
              "#fdca26"
             ],
             [
              1,
              "#f0f921"
             ]
            ],
            "type": "heatmapgl"
           }
          ],
          "histogram": [
           {
            "marker": {
             "pattern": {
              "fillmode": "overlay",
              "size": 10,
              "solidity": 0.2
             }
            },
            "type": "histogram"
           }
          ],
          "histogram2d": [
           {
            "colorbar": {
             "outlinewidth": 0,
             "ticks": ""
            },
            "colorscale": [
             [
              0,
              "#0d0887"
             ],
             [
              0.1111111111111111,
              "#46039f"
             ],
             [
              0.2222222222222222,
              "#7201a8"
             ],
             [
              0.3333333333333333,
              "#9c179e"
             ],
             [
              0.4444444444444444,
              "#bd3786"
             ],
             [
              0.5555555555555556,
              "#d8576b"
             ],
             [
              0.6666666666666666,
              "#ed7953"
             ],
             [
              0.7777777777777778,
              "#fb9f3a"
             ],
             [
              0.8888888888888888,
              "#fdca26"
             ],
             [
              1,
              "#f0f921"
             ]
            ],
            "type": "histogram2d"
           }
          ],
          "histogram2dcontour": [
           {
            "colorbar": {
             "outlinewidth": 0,
             "ticks": ""
            },
            "colorscale": [
             [
              0,
              "#0d0887"
             ],
             [
              0.1111111111111111,
              "#46039f"
             ],
             [
              0.2222222222222222,
              "#7201a8"
             ],
             [
              0.3333333333333333,
              "#9c179e"
             ],
             [
              0.4444444444444444,
              "#bd3786"
             ],
             [
              0.5555555555555556,
              "#d8576b"
             ],
             [
              0.6666666666666666,
              "#ed7953"
             ],
             [
              0.7777777777777778,
              "#fb9f3a"
             ],
             [
              0.8888888888888888,
              "#fdca26"
             ],
             [
              1,
              "#f0f921"
             ]
            ],
            "type": "histogram2dcontour"
           }
          ],
          "mesh3d": [
           {
            "colorbar": {
             "outlinewidth": 0,
             "ticks": ""
            },
            "type": "mesh3d"
           }
          ],
          "parcoords": [
           {
            "line": {
             "colorbar": {
              "outlinewidth": 0,
              "ticks": ""
             }
            },
            "type": "parcoords"
           }
          ],
          "pie": [
           {
            "automargin": true,
            "type": "pie"
           }
          ],
          "scatter": [
           {
            "fillpattern": {
             "fillmode": "overlay",
             "size": 10,
             "solidity": 0.2
            },
            "type": "scatter"
           }
          ],
          "scatter3d": [
           {
            "line": {
             "colorbar": {
              "outlinewidth": 0,
              "ticks": ""
             }
            },
            "marker": {
             "colorbar": {
              "outlinewidth": 0,
              "ticks": ""
             }
            },
            "type": "scatter3d"
           }
          ],
          "scattercarpet": [
           {
            "marker": {
             "colorbar": {
              "outlinewidth": 0,
              "ticks": ""
             }
            },
            "type": "scattercarpet"
           }
          ],
          "scattergeo": [
           {
            "marker": {
             "colorbar": {
              "outlinewidth": 0,
              "ticks": ""
             }
            },
            "type": "scattergeo"
           }
          ],
          "scattergl": [
           {
            "marker": {
             "colorbar": {
              "outlinewidth": 0,
              "ticks": ""
             }
            },
            "type": "scattergl"
           }
          ],
          "scattermapbox": [
           {
            "marker": {
             "colorbar": {
              "outlinewidth": 0,
              "ticks": ""
             }
            },
            "type": "scattermapbox"
           }
          ],
          "scatterpolar": [
           {
            "marker": {
             "colorbar": {
              "outlinewidth": 0,
              "ticks": ""
             }
            },
            "type": "scatterpolar"
           }
          ],
          "scatterpolargl": [
           {
            "marker": {
             "colorbar": {
              "outlinewidth": 0,
              "ticks": ""
             }
            },
            "type": "scatterpolargl"
           }
          ],
          "scatterternary": [
           {
            "marker": {
             "colorbar": {
              "outlinewidth": 0,
              "ticks": ""
             }
            },
            "type": "scatterternary"
           }
          ],
          "surface": [
           {
            "colorbar": {
             "outlinewidth": 0,
             "ticks": ""
            },
            "colorscale": [
             [
              0,
              "#0d0887"
             ],
             [
              0.1111111111111111,
              "#46039f"
             ],
             [
              0.2222222222222222,
              "#7201a8"
             ],
             [
              0.3333333333333333,
              "#9c179e"
             ],
             [
              0.4444444444444444,
              "#bd3786"
             ],
             [
              0.5555555555555556,
              "#d8576b"
             ],
             [
              0.6666666666666666,
              "#ed7953"
             ],
             [
              0.7777777777777778,
              "#fb9f3a"
             ],
             [
              0.8888888888888888,
              "#fdca26"
             ],
             [
              1,
              "#f0f921"
             ]
            ],
            "type": "surface"
           }
          ],
          "table": [
           {
            "cells": {
             "fill": {
              "color": "#EBF0F8"
             },
             "line": {
              "color": "white"
             }
            },
            "header": {
             "fill": {
              "color": "#C8D4E3"
             },
             "line": {
              "color": "white"
             }
            },
            "type": "table"
           }
          ]
         },
         "layout": {
          "annotationdefaults": {
           "arrowcolor": "#2a3f5f",
           "arrowhead": 0,
           "arrowwidth": 1
          },
          "autotypenumbers": "strict",
          "coloraxis": {
           "colorbar": {
            "outlinewidth": 0,
            "ticks": ""
           }
          },
          "colorscale": {
           "diverging": [
            [
             0,
             "#8e0152"
            ],
            [
             0.1,
             "#c51b7d"
            ],
            [
             0.2,
             "#de77ae"
            ],
            [
             0.3,
             "#f1b6da"
            ],
            [
             0.4,
             "#fde0ef"
            ],
            [
             0.5,
             "#f7f7f7"
            ],
            [
             0.6,
             "#e6f5d0"
            ],
            [
             0.7,
             "#b8e186"
            ],
            [
             0.8,
             "#7fbc41"
            ],
            [
             0.9,
             "#4d9221"
            ],
            [
             1,
             "#276419"
            ]
           ],
           "sequential": [
            [
             0,
             "#0d0887"
            ],
            [
             0.1111111111111111,
             "#46039f"
            ],
            [
             0.2222222222222222,
             "#7201a8"
            ],
            [
             0.3333333333333333,
             "#9c179e"
            ],
            [
             0.4444444444444444,
             "#bd3786"
            ],
            [
             0.5555555555555556,
             "#d8576b"
            ],
            [
             0.6666666666666666,
             "#ed7953"
            ],
            [
             0.7777777777777778,
             "#fb9f3a"
            ],
            [
             0.8888888888888888,
             "#fdca26"
            ],
            [
             1,
             "#f0f921"
            ]
           ],
           "sequentialminus": [
            [
             0,
             "#0d0887"
            ],
            [
             0.1111111111111111,
             "#46039f"
            ],
            [
             0.2222222222222222,
             "#7201a8"
            ],
            [
             0.3333333333333333,
             "#9c179e"
            ],
            [
             0.4444444444444444,
             "#bd3786"
            ],
            [
             0.5555555555555556,
             "#d8576b"
            ],
            [
             0.6666666666666666,
             "#ed7953"
            ],
            [
             0.7777777777777778,
             "#fb9f3a"
            ],
            [
             0.8888888888888888,
             "#fdca26"
            ],
            [
             1,
             "#f0f921"
            ]
           ]
          },
          "colorway": [
           "#636efa",
           "#EF553B",
           "#00cc96",
           "#ab63fa",
           "#FFA15A",
           "#19d3f3",
           "#FF6692",
           "#B6E880",
           "#FF97FF",
           "#FECB52"
          ],
          "font": {
           "color": "#2a3f5f"
          },
          "geo": {
           "bgcolor": "white",
           "lakecolor": "white",
           "landcolor": "#E5ECF6",
           "showlakes": true,
           "showland": true,
           "subunitcolor": "white"
          },
          "hoverlabel": {
           "align": "left"
          },
          "hovermode": "closest",
          "mapbox": {
           "style": "light"
          },
          "paper_bgcolor": "white",
          "plot_bgcolor": "#E5ECF6",
          "polar": {
           "angularaxis": {
            "gridcolor": "white",
            "linecolor": "white",
            "ticks": ""
           },
           "bgcolor": "#E5ECF6",
           "radialaxis": {
            "gridcolor": "white",
            "linecolor": "white",
            "ticks": ""
           }
          },
          "scene": {
           "xaxis": {
            "backgroundcolor": "#E5ECF6",
            "gridcolor": "white",
            "gridwidth": 2,
            "linecolor": "white",
            "showbackground": true,
            "ticks": "",
            "zerolinecolor": "white"
           },
           "yaxis": {
            "backgroundcolor": "#E5ECF6",
            "gridcolor": "white",
            "gridwidth": 2,
            "linecolor": "white",
            "showbackground": true,
            "ticks": "",
            "zerolinecolor": "white"
           },
           "zaxis": {
            "backgroundcolor": "#E5ECF6",
            "gridcolor": "white",
            "gridwidth": 2,
            "linecolor": "white",
            "showbackground": true,
            "ticks": "",
            "zerolinecolor": "white"
           }
          },
          "shapedefaults": {
           "line": {
            "color": "#2a3f5f"
           }
          },
          "ternary": {
           "aaxis": {
            "gridcolor": "white",
            "linecolor": "white",
            "ticks": ""
           },
           "baxis": {
            "gridcolor": "white",
            "linecolor": "white",
            "ticks": ""
           },
           "bgcolor": "#E5ECF6",
           "caxis": {
            "gridcolor": "white",
            "linecolor": "white",
            "ticks": ""
           }
          },
          "title": {
           "x": 0.05
          },
          "xaxis": {
           "automargin": true,
           "gridcolor": "white",
           "linecolor": "white",
           "ticks": "",
           "title": {
            "standoff": 15
           },
           "zerolinecolor": "white",
           "zerolinewidth": 2
          },
          "yaxis": {
           "automargin": true,
           "gridcolor": "white",
           "linecolor": "white",
           "ticks": "",
           "title": {
            "standoff": 15
           },
           "zerolinecolor": "white",
           "zerolinewidth": 2
          }
         }
        },
        "title": {
         "text": "The best destinations"
        },
        "width": 1000
       }
      }
     },
     "metadata": {},
     "output_type": "display_data"
    }
   ],
   "source": [
    "fig = px.scatter_mapbox(df, lat=\"lat\", lon=\"lon\", \n",
    "        mapbox_style = 'carto-positron', \n",
    "        color=\"score_exp\", \n",
    "        size=\"score_exp\", \n",
    "        opacity = 0.5,\n",
    "        title=\"The best destinations\",\n",
    "        text='City',\n",
    "        hover_data={\"lat\": False, \"lon\" : False, \"City\" : True,  \"score\" : True},\n",
    "        #center={\"lat\":float(place[\"lat\"]),\"lon\":float(place[\"lon\"])},\n",
    "        color_continuous_scale=px.colors.cyclical.IceFire,\n",
    "        width = 1000,\n",
    "        height = 800,\n",
    "        #size_max=15,\n",
    "        zoom=4\n",
    ")\n",
    "\n",
    "fig.show()"
   ]
  },
  {
   "cell_type": "code",
   "execution_count": 22,
   "metadata": {},
   "outputs": [],
   "source": [
    "#df.to_csv('cities_weather_score.csv')"
   ]
  },
  {
   "cell_type": "code",
   "execution_count": null,
   "metadata": {},
   "outputs": [],
   "source": []
  }
 ],
 "metadata": {
  "kernelspec": {
   "display_name": "Python 3",
   "language": "python",
   "name": "python3"
  },
  "language_info": {
   "codemirror_mode": {
    "name": "ipython",
    "version": 3
   },
   "file_extension": ".py",
   "mimetype": "text/x-python",
   "name": "python",
   "nbconvert_exporter": "python",
   "pygments_lexer": "ipython3",
   "version": "3.10.6 (main, Nov 14 2022, 16:10:14) [GCC 11.3.0]"
  },
  "orig_nbformat": 4,
  "vscode": {
   "interpreter": {
    "hash": "916dbcbb3f70747c44a77c7bcd40155683ae19c65e1c03b4aa3499c5328201f1"
   }
  }
 },
 "nbformat": 4,
 "nbformat_minor": 2
}
